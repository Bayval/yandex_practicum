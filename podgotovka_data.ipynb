{
 "cells": [
  {
   "cell_type": "markdown",
   "metadata": {},
   "source": [
    "\n",
    "<div style=\"font-size: 25px\">\n",
    "    \n",
    "**Исследование надёжности заёмщиков**\n",
    "</div >\n"
   ]
  },
  {
   "cell_type": "markdown",
   "metadata": {},
   "source": [
    "<div> Заказчик — кредитный отдел банка. Нужно разобраться, влияет ли семейное положение и количество детей клиента на факт погашения кредита в срок. Входные данные от банка — статистика о платёжеспособности клиентов.</div>\n",
    "\n",
    "<div>Результаты исследования будут учтены при построении модели **кредитного скоринга** — специальной системы, которая оценивает способность потенциального заёмщика вернуть кредит банку. </div>"
   ]
  },
  {
   "cell_type": "markdown",
   "metadata": {},
   "source": [
    "<div>Откройте файл с данными и изучите общую информацию.</div>"
   ]
  },
  {
   "cell_type": "code",
   "execution_count": 2,
   "metadata": {},
   "outputs": [
    {
     "ename": "FileNotFoundError",
     "evalue": "[Errno 2] No such file or directory: 'data.csv'",
     "output_type": "error",
     "traceback": [
      "\u001B[1;31m---------------------------------------------------------------------------\u001B[0m",
      "\u001B[1;31mFileNotFoundError\u001B[0m                         Traceback (most recent call last)",
      "\u001B[1;32m~\\AppData\\Local\\Temp/ipykernel_19808/3486997190.py\u001B[0m in \u001B[0;36m<module>\u001B[1;34m\u001B[0m\n\u001B[0;32m      1\u001B[0m \u001B[1;32mimport\u001B[0m \u001B[0mpandas\u001B[0m \u001B[1;32mas\u001B[0m \u001B[0mpd\u001B[0m\u001B[1;33m\u001B[0m\u001B[1;33m\u001B[0m\u001B[0m\n\u001B[1;32m----> 2\u001B[1;33m \u001B[0mdata\u001B[0m \u001B[1;33m=\u001B[0m \u001B[0mpd\u001B[0m\u001B[1;33m.\u001B[0m\u001B[0mread_csv\u001B[0m\u001B[1;33m(\u001B[0m\u001B[1;34m'data.csv'\u001B[0m\u001B[1;33m)\u001B[0m\u001B[1;33m\u001B[0m\u001B[1;33m\u001B[0m\u001B[0m\n\u001B[0m\u001B[0;32m      3\u001B[0m \u001B[0mdata\u001B[0m\u001B[1;33m.\u001B[0m\u001B[0minfo\u001B[0m\u001B[1;33m(\u001B[0m\u001B[1;33m)\u001B[0m\u001B[1;33m\u001B[0m\u001B[1;33m\u001B[0m\u001B[0m\n\u001B[0;32m      4\u001B[0m \u001B[0mdata\u001B[0m\u001B[1;33m.\u001B[0m\u001B[0mhead\u001B[0m\u001B[1;33m(\u001B[0m\u001B[1;36m20\u001B[0m\u001B[1;33m)\u001B[0m\u001B[1;33m\u001B[0m\u001B[1;33m\u001B[0m\u001B[0m\n",
      "\u001B[1;32mc:\\users\\metall\\appdata\\local\\programs\\python\\python38-32\\lib\\site-packages\\pandas\\util\\_decorators.py\u001B[0m in \u001B[0;36mwrapper\u001B[1;34m(*args, **kwargs)\u001B[0m\n\u001B[0;32m    309\u001B[0m                     \u001B[0mstacklevel\u001B[0m\u001B[1;33m=\u001B[0m\u001B[0mstacklevel\u001B[0m\u001B[1;33m,\u001B[0m\u001B[1;33m\u001B[0m\u001B[1;33m\u001B[0m\u001B[0m\n\u001B[0;32m    310\u001B[0m                 )\n\u001B[1;32m--> 311\u001B[1;33m             \u001B[1;32mreturn\u001B[0m \u001B[0mfunc\u001B[0m\u001B[1;33m(\u001B[0m\u001B[1;33m*\u001B[0m\u001B[0margs\u001B[0m\u001B[1;33m,\u001B[0m \u001B[1;33m**\u001B[0m\u001B[0mkwargs\u001B[0m\u001B[1;33m)\u001B[0m\u001B[1;33m\u001B[0m\u001B[1;33m\u001B[0m\u001B[0m\n\u001B[0m\u001B[0;32m    312\u001B[0m \u001B[1;33m\u001B[0m\u001B[0m\n\u001B[0;32m    313\u001B[0m         \u001B[1;32mreturn\u001B[0m \u001B[0mwrapper\u001B[0m\u001B[1;33m\u001B[0m\u001B[1;33m\u001B[0m\u001B[0m\n",
      "\u001B[1;32mc:\\users\\metall\\appdata\\local\\programs\\python\\python38-32\\lib\\site-packages\\pandas\\io\\parsers\\readers.py\u001B[0m in \u001B[0;36mread_csv\u001B[1;34m(filepath_or_buffer, sep, delimiter, header, names, index_col, usecols, squeeze, prefix, mangle_dupe_cols, dtype, engine, converters, true_values, false_values, skipinitialspace, skiprows, skipfooter, nrows, na_values, keep_default_na, na_filter, verbose, skip_blank_lines, parse_dates, infer_datetime_format, keep_date_col, date_parser, dayfirst, cache_dates, iterator, chunksize, compression, thousands, decimal, lineterminator, quotechar, quoting, doublequote, escapechar, comment, encoding, encoding_errors, dialect, error_bad_lines, warn_bad_lines, on_bad_lines, delim_whitespace, low_memory, memory_map, float_precision, storage_options)\u001B[0m\n\u001B[0;32m    584\u001B[0m     \u001B[0mkwds\u001B[0m\u001B[1;33m.\u001B[0m\u001B[0mupdate\u001B[0m\u001B[1;33m(\u001B[0m\u001B[0mkwds_defaults\u001B[0m\u001B[1;33m)\u001B[0m\u001B[1;33m\u001B[0m\u001B[1;33m\u001B[0m\u001B[0m\n\u001B[0;32m    585\u001B[0m \u001B[1;33m\u001B[0m\u001B[0m\n\u001B[1;32m--> 586\u001B[1;33m     \u001B[1;32mreturn\u001B[0m \u001B[0m_read\u001B[0m\u001B[1;33m(\u001B[0m\u001B[0mfilepath_or_buffer\u001B[0m\u001B[1;33m,\u001B[0m \u001B[0mkwds\u001B[0m\u001B[1;33m)\u001B[0m\u001B[1;33m\u001B[0m\u001B[1;33m\u001B[0m\u001B[0m\n\u001B[0m\u001B[0;32m    587\u001B[0m \u001B[1;33m\u001B[0m\u001B[0m\n\u001B[0;32m    588\u001B[0m \u001B[1;33m\u001B[0m\u001B[0m\n",
      "\u001B[1;32mc:\\users\\metall\\appdata\\local\\programs\\python\\python38-32\\lib\\site-packages\\pandas\\io\\parsers\\readers.py\u001B[0m in \u001B[0;36m_read\u001B[1;34m(filepath_or_buffer, kwds)\u001B[0m\n\u001B[0;32m    480\u001B[0m \u001B[1;33m\u001B[0m\u001B[0m\n\u001B[0;32m    481\u001B[0m     \u001B[1;31m# Create the parser.\u001B[0m\u001B[1;33m\u001B[0m\u001B[1;33m\u001B[0m\u001B[1;33m\u001B[0m\u001B[0m\n\u001B[1;32m--> 482\u001B[1;33m     \u001B[0mparser\u001B[0m \u001B[1;33m=\u001B[0m \u001B[0mTextFileReader\u001B[0m\u001B[1;33m(\u001B[0m\u001B[0mfilepath_or_buffer\u001B[0m\u001B[1;33m,\u001B[0m \u001B[1;33m**\u001B[0m\u001B[0mkwds\u001B[0m\u001B[1;33m)\u001B[0m\u001B[1;33m\u001B[0m\u001B[1;33m\u001B[0m\u001B[0m\n\u001B[0m\u001B[0;32m    483\u001B[0m \u001B[1;33m\u001B[0m\u001B[0m\n\u001B[0;32m    484\u001B[0m     \u001B[1;32mif\u001B[0m \u001B[0mchunksize\u001B[0m \u001B[1;32mor\u001B[0m \u001B[0miterator\u001B[0m\u001B[1;33m:\u001B[0m\u001B[1;33m\u001B[0m\u001B[1;33m\u001B[0m\u001B[0m\n",
      "\u001B[1;32mc:\\users\\metall\\appdata\\local\\programs\\python\\python38-32\\lib\\site-packages\\pandas\\io\\parsers\\readers.py\u001B[0m in \u001B[0;36m__init__\u001B[1;34m(self, f, engine, **kwds)\u001B[0m\n\u001B[0;32m    809\u001B[0m             \u001B[0mself\u001B[0m\u001B[1;33m.\u001B[0m\u001B[0moptions\u001B[0m\u001B[1;33m[\u001B[0m\u001B[1;34m\"has_index_names\"\u001B[0m\u001B[1;33m]\u001B[0m \u001B[1;33m=\u001B[0m \u001B[0mkwds\u001B[0m\u001B[1;33m[\u001B[0m\u001B[1;34m\"has_index_names\"\u001B[0m\u001B[1;33m]\u001B[0m\u001B[1;33m\u001B[0m\u001B[1;33m\u001B[0m\u001B[0m\n\u001B[0;32m    810\u001B[0m \u001B[1;33m\u001B[0m\u001B[0m\n\u001B[1;32m--> 811\u001B[1;33m         \u001B[0mself\u001B[0m\u001B[1;33m.\u001B[0m\u001B[0m_engine\u001B[0m \u001B[1;33m=\u001B[0m \u001B[0mself\u001B[0m\u001B[1;33m.\u001B[0m\u001B[0m_make_engine\u001B[0m\u001B[1;33m(\u001B[0m\u001B[0mself\u001B[0m\u001B[1;33m.\u001B[0m\u001B[0mengine\u001B[0m\u001B[1;33m)\u001B[0m\u001B[1;33m\u001B[0m\u001B[1;33m\u001B[0m\u001B[0m\n\u001B[0m\u001B[0;32m    812\u001B[0m \u001B[1;33m\u001B[0m\u001B[0m\n\u001B[0;32m    813\u001B[0m     \u001B[1;32mdef\u001B[0m \u001B[0mclose\u001B[0m\u001B[1;33m(\u001B[0m\u001B[0mself\u001B[0m\u001B[1;33m)\u001B[0m\u001B[1;33m:\u001B[0m\u001B[1;33m\u001B[0m\u001B[1;33m\u001B[0m\u001B[0m\n",
      "\u001B[1;32mc:\\users\\metall\\appdata\\local\\programs\\python\\python38-32\\lib\\site-packages\\pandas\\io\\parsers\\readers.py\u001B[0m in \u001B[0;36m_make_engine\u001B[1;34m(self, engine)\u001B[0m\n\u001B[0;32m   1038\u001B[0m             )\n\u001B[0;32m   1039\u001B[0m         \u001B[1;31m# error: Too many arguments for \"ParserBase\"\u001B[0m\u001B[1;33m\u001B[0m\u001B[1;33m\u001B[0m\u001B[1;33m\u001B[0m\u001B[0m\n\u001B[1;32m-> 1040\u001B[1;33m         \u001B[1;32mreturn\u001B[0m \u001B[0mmapping\u001B[0m\u001B[1;33m[\u001B[0m\u001B[0mengine\u001B[0m\u001B[1;33m]\u001B[0m\u001B[1;33m(\u001B[0m\u001B[0mself\u001B[0m\u001B[1;33m.\u001B[0m\u001B[0mf\u001B[0m\u001B[1;33m,\u001B[0m \u001B[1;33m**\u001B[0m\u001B[0mself\u001B[0m\u001B[1;33m.\u001B[0m\u001B[0moptions\u001B[0m\u001B[1;33m)\u001B[0m  \u001B[1;31m# type: ignore[call-arg]\u001B[0m\u001B[1;33m\u001B[0m\u001B[1;33m\u001B[0m\u001B[0m\n\u001B[0m\u001B[0;32m   1041\u001B[0m \u001B[1;33m\u001B[0m\u001B[0m\n\u001B[0;32m   1042\u001B[0m     \u001B[1;32mdef\u001B[0m \u001B[0m_failover_to_python\u001B[0m\u001B[1;33m(\u001B[0m\u001B[0mself\u001B[0m\u001B[1;33m)\u001B[0m\u001B[1;33m:\u001B[0m\u001B[1;33m\u001B[0m\u001B[1;33m\u001B[0m\u001B[0m\n",
      "\u001B[1;32mc:\\users\\metall\\appdata\\local\\programs\\python\\python38-32\\lib\\site-packages\\pandas\\io\\parsers\\c_parser_wrapper.py\u001B[0m in \u001B[0;36m__init__\u001B[1;34m(self, src, **kwds)\u001B[0m\n\u001B[0;32m     49\u001B[0m \u001B[1;33m\u001B[0m\u001B[0m\n\u001B[0;32m     50\u001B[0m         \u001B[1;31m# open handles\u001B[0m\u001B[1;33m\u001B[0m\u001B[1;33m\u001B[0m\u001B[1;33m\u001B[0m\u001B[0m\n\u001B[1;32m---> 51\u001B[1;33m         \u001B[0mself\u001B[0m\u001B[1;33m.\u001B[0m\u001B[0m_open_handles\u001B[0m\u001B[1;33m(\u001B[0m\u001B[0msrc\u001B[0m\u001B[1;33m,\u001B[0m \u001B[0mkwds\u001B[0m\u001B[1;33m)\u001B[0m\u001B[1;33m\u001B[0m\u001B[1;33m\u001B[0m\u001B[0m\n\u001B[0m\u001B[0;32m     52\u001B[0m         \u001B[1;32massert\u001B[0m \u001B[0mself\u001B[0m\u001B[1;33m.\u001B[0m\u001B[0mhandles\u001B[0m \u001B[1;32mis\u001B[0m \u001B[1;32mnot\u001B[0m \u001B[1;32mNone\u001B[0m\u001B[1;33m\u001B[0m\u001B[1;33m\u001B[0m\u001B[0m\n\u001B[0;32m     53\u001B[0m \u001B[1;33m\u001B[0m\u001B[0m\n",
      "\u001B[1;32mc:\\users\\metall\\appdata\\local\\programs\\python\\python38-32\\lib\\site-packages\\pandas\\io\\parsers\\base_parser.py\u001B[0m in \u001B[0;36m_open_handles\u001B[1;34m(self, src, kwds)\u001B[0m\n\u001B[0;32m    220\u001B[0m         \u001B[0mLet\u001B[0m \u001B[0mthe\u001B[0m \u001B[0mreaders\u001B[0m \u001B[0mopen\u001B[0m \u001B[0mIOHandles\u001B[0m \u001B[0mafter\u001B[0m \u001B[0mthey\u001B[0m \u001B[0mare\u001B[0m \u001B[0mdone\u001B[0m \u001B[1;32mwith\u001B[0m \u001B[0mtheir\u001B[0m \u001B[0mpotential\u001B[0m \u001B[0mraises\u001B[0m\u001B[1;33m.\u001B[0m\u001B[1;33m\u001B[0m\u001B[1;33m\u001B[0m\u001B[0m\n\u001B[0;32m    221\u001B[0m         \"\"\"\n\u001B[1;32m--> 222\u001B[1;33m         self.handles = get_handle(\n\u001B[0m\u001B[0;32m    223\u001B[0m             \u001B[0msrc\u001B[0m\u001B[1;33m,\u001B[0m\u001B[1;33m\u001B[0m\u001B[1;33m\u001B[0m\u001B[0m\n\u001B[0;32m    224\u001B[0m             \u001B[1;34m\"r\"\u001B[0m\u001B[1;33m,\u001B[0m\u001B[1;33m\u001B[0m\u001B[1;33m\u001B[0m\u001B[0m\n",
      "\u001B[1;32mc:\\users\\metall\\appdata\\local\\programs\\python\\python38-32\\lib\\site-packages\\pandas\\io\\common.py\u001B[0m in \u001B[0;36mget_handle\u001B[1;34m(path_or_buf, mode, encoding, compression, memory_map, is_text, errors, storage_options)\u001B[0m\n\u001B[0;32m    700\u001B[0m         \u001B[1;32mif\u001B[0m \u001B[0mioargs\u001B[0m\u001B[1;33m.\u001B[0m\u001B[0mencoding\u001B[0m \u001B[1;32mand\u001B[0m \u001B[1;34m\"b\"\u001B[0m \u001B[1;32mnot\u001B[0m \u001B[1;32min\u001B[0m \u001B[0mioargs\u001B[0m\u001B[1;33m.\u001B[0m\u001B[0mmode\u001B[0m\u001B[1;33m:\u001B[0m\u001B[1;33m\u001B[0m\u001B[1;33m\u001B[0m\u001B[0m\n\u001B[0;32m    701\u001B[0m             \u001B[1;31m# Encoding\u001B[0m\u001B[1;33m\u001B[0m\u001B[1;33m\u001B[0m\u001B[1;33m\u001B[0m\u001B[0m\n\u001B[1;32m--> 702\u001B[1;33m             handle = open(\n\u001B[0m\u001B[0;32m    703\u001B[0m                 \u001B[0mhandle\u001B[0m\u001B[1;33m,\u001B[0m\u001B[1;33m\u001B[0m\u001B[1;33m\u001B[0m\u001B[0m\n\u001B[0;32m    704\u001B[0m                 \u001B[0mioargs\u001B[0m\u001B[1;33m.\u001B[0m\u001B[0mmode\u001B[0m\u001B[1;33m,\u001B[0m\u001B[1;33m\u001B[0m\u001B[1;33m\u001B[0m\u001B[0m\n",
      "\u001B[1;31mFileNotFoundError\u001B[0m: [Errno 2] No such file or directory: 'data.csv'"
     ]
    }
   ],
   "source": [
    "import pandas as pd\n",
    "data = pd.read_csv('data.csv')  \n",
    "data.info()\n",
    "data.head(20)"
   ]
  },
  {
   "cell_type": "markdown",
   "metadata": {},
   "source": [
    "<div>Прочитаем файл data.csv и сохраним его в переменной data.\n",
    "Количество значений в столбцах различается. Это говорит о том, что в данных есть <нулевые> значения. Пропуски могут возникнуть в результате ошибки при выгрузке данных или при заполнении данных в таблицу. </div>"
   ]
  },
  {
   "cell_type": "markdown",
   "metadata": {},
   "source": [
    "<div>1. Предобработка данных</div>"
   ]
  },
  {
   "cell_type": "markdown",
   "metadata": {},
   "source": [
    "<div>Обработка пропусков</div>\n"
   ]
  },
  {
   "cell_type": "code",
   "execution_count": 3,
   "metadata": {},
   "outputs": [
    {
     "ename": "NameError",
     "evalue": "name 'data' is not defined",
     "output_type": "error",
     "traceback": [
      "\u001B[1;31m---------------------------------------------------------------------------\u001B[0m",
      "\u001B[1;31mNameError\u001B[0m                                 Traceback (most recent call last)",
      "\u001B[1;32m~\\AppData\\Local\\Temp/ipykernel_19808/1559604474.py\u001B[0m in \u001B[0;36m<module>\u001B[1;34m\u001B[0m\n\u001B[1;32m----> 1\u001B[1;33m \u001B[0mdata\u001B[0m\u001B[1;33m.\u001B[0m\u001B[0misnull\u001B[0m\u001B[1;33m(\u001B[0m\u001B[1;33m)\u001B[0m\u001B[1;33m.\u001B[0m\u001B[0msum\u001B[0m\u001B[1;33m(\u001B[0m\u001B[1;33m)\u001B[0m   \u001B[1;31m# проверяем данные на пропуски\u001B[0m\u001B[1;33m\u001B[0m\u001B[1;33m\u001B[0m\u001B[0m\n\u001B[0m\u001B[0;32m      2\u001B[0m \u001B[0mdata\u001B[0m\u001B[1;33m[\u001B[0m\u001B[1;34m'days_employed'\u001B[0m\u001B[1;33m]\u001B[0m\u001B[1;33m.\u001B[0m\u001B[0mhead\u001B[0m\u001B[1;33m(\u001B[0m\u001B[1;36m20\u001B[0m\u001B[1;33m)\u001B[0m\u001B[1;33m\u001B[0m\u001B[1;33m\u001B[0m\u001B[0m\n",
      "\u001B[1;31mNameError\u001B[0m: name 'data' is not defined"
     ]
    }
   ],
   "source": [
    "data.isnull().sum()   # проверяем данные на пропуски\n",
    "data['days_employed'].head(20)"
   ]
  },
  {
   "cell_type": "code",
   "execution_count": 3,
   "metadata": {},
   "outputs": [
    {
     "data": {
      "text/plain": [
       "0"
      ]
     },
     "execution_count": 3,
     "metadata": {},
     "output_type": "execute_result"
    }
   ],
   "source": [
    "for i in range(len(data['days_employed'])):  # замена отрицательных значений на положительные\n",
    "    if data.loc[i,'days_employed'] < 0:\n",
    "        data.loc[i,'days_employed'] = data.loc[i,'days_employed'] * -1\n",
    "data[data['days_employed'] < 0]['days_employed'].count()   # проверка отсутствия отрицатльных значений"
   ]
  },
  {
   "cell_type": "code",
   "execution_count": 4,
   "metadata": {},
   "outputs": [
    {
     "data": {
      "text/plain": [
       "0"
      ]
     },
     "execution_count": 4,
     "metadata": {},
     "output_type": "execute_result"
    }
   ],
   "source": [
    "days_employed_max = (65 - 18) * 365          # вычисление максимально возможного рабочего стажа\n",
    "for i in range(len(data['days_employed'])):  # поиск и перевод значений больше максимального рабочего стажа из дней в годы\n",
    "    if data.loc[i,'days_employed'] > days_employed_max:\n",
    "        data.loc[i,'days_employed'] = data.loc[i,'days_employed'] / 24\n",
    "data[data['days_employed'] > days_employed_max]['days_employed'].count() # проверка отсутствия значений больше максимального \n",
    "                                                                         # рабочего стажа"
   ]
  },
  {
   "cell_type": "code",
   "execution_count": 5,
   "metadata": {},
   "outputs": [],
   "source": [
    "def ages_group(ages): # категоризация по возрастному признаку\n",
    "    if ages < 21:\n",
    "        return 'young_period'\n",
    "    if 21 <= ages < 35:\n",
    "        return 'mature_period1'\n",
    "    if 35 <= ages < 60:\n",
    "        return 'mature_period2'\n",
    "    if ages >= 60:\n",
    "        return 'elderly_period'\n",
    "    \n",
    "    \n",
    "data['ages_group']=data['dob_years'].apply(ages_group) # добавление в таблицу столбца с категориями по возрастному признаку "
   ]
  },
  {
   "cell_type": "code",
   "execution_count": 6,
   "metadata": {},
   "outputs": [
    {
     "data": {
      "text/plain": [
       "12728.438251169182"
      ]
     },
     "execution_count": 6,
     "metadata": {},
     "output_type": "execute_result"
    }
   ],
   "source": [
    "\n",
    "young_period_mean = data.loc[data['dob_years'] < 21]['days_employed'].mean() # находим среднее значение по категории\n",
    "\n",
    "\n",
    "data_mature_period1 = data.loc[(data['dob_years'] >= 21) & (data['dob_years'] < 35)]  # находим среднее значение по категории \n",
    "mature_period1_mean = data_mature_period1['days_employed'].mean()\n",
    "\n",
    "\n",
    "\n",
    "data_mature_period2 = data.loc[(data['dob_years'] >= 35) & (data['dob_years'] < 60)] # находим среднее значение по категории\n",
    "mature_period2_mean = data_mature_period2['days_employed'].mean()\n",
    "\n",
    "\n",
    "\n",
    "elderly_period_mean = data[data['dob_years'] >= 60]['days_employed'].mean() # находим среднее значение по категории\n",
    "elderly_period_mean"
   ]
  },
  {
   "cell_type": "code",
   "execution_count": 7,
   "metadata": {},
   "outputs": [
    {
     "data": {
      "text/plain": [
       "array(['сотрудник', 'пенсионер', 'компаньон', 'госслужащий',\n",
       "       'безработный', 'предприниматель', 'студент', 'в декрете'],\n",
       "      dtype=object)"
      ]
     },
     "execution_count": 7,
     "metadata": {},
     "output_type": "execute_result"
    }
   ],
   "source": [
    "data['days_employed'] = data['days_employed'].fillna(0) # замена пропусков на '0'\n",
    "\n",
    "for i in range(len(data['days_employed'])):    # замена нулевых значений усреднеными, в зависимости от категории\n",
    "    if data.loc[i,'days_employed'] == 0.000000 and data.loc[i,'ages_group'] == 'young_period':   \n",
    "        data.loc[i,'days_employed'] = young_period_mean\n",
    "    if data.loc[i,'days_employed'] == 0.000000 and data.loc[i,'ages_group'] == 'mature_period1':\n",
    "        data.loc[i,'days_employed'] = mature_period1_mean\n",
    "    if data.loc[i,'days_employed'] == 0.000000 and data.loc[i,'ages_group'] == 'mature_period2':\n",
    "        data.loc[i,'days_employed'] = mature_period2_mean\n",
    "    if data.loc[i,'days_employed'] == 0.000000 and data.loc[i,'ages_group'] == 'elderly_period':\n",
    "        data.loc[i,'days_employed'] = elderly_period_mean\n",
    "data['income_type'].unique()"
   ]
  },
  {
   "cell_type": "code",
   "execution_count": 8,
   "metadata": {},
   "outputs": [],
   "source": [
    "def income_type_group(income_type): # категоризация по типу занятости\n",
    "    if income_type == 'предприниматель' or income_type == 'компаньон':\n",
    "        return 'to_myself'\n",
    "    if income_type == 'сотрудник' or income_type == 'госслужащий':\n",
    "        return 'worker'\n",
    "    else: \n",
    "        return 'No_work'\n",
    "\n",
    "data['income_type_group']=data['income_type'].apply(income_type_group)  # добавление в таблицу столбца с категориями \n",
    "                                                                        #по типу занятости"
   ]
  },
  {
   "cell_type": "code",
   "execution_count": 9,
   "metadata": {},
   "outputs": [],
   "source": [
    "data['total_income'] = data['total_income'].fillna(0)                     # замена пропусков на '0'\n",
    "\n",
    "\n",
    "to_myself_mean_income = data.loc[(data['income_type_group'] == 'to_myself')]['total_income'].mean() # находим среднее значение по категории\n",
    "worker_mean_income = data.loc[(data['income_type_group'] == 'worker')]['total_income'].mean()  # находим среднее значение по категории\n",
    "No_work_mean_income = data.loc[(data['income_type_group'] == 'No_work')]['total_income'].mean()  # находим среднее значение по категории\n"
   ]
  },
  {
   "cell_type": "code",
   "execution_count": 10,
   "metadata": {},
   "outputs": [
    {
     "data": {
      "text/plain": [
       "children             0\n",
       "days_employed        0\n",
       "dob_years            0\n",
       "education            0\n",
       "education_id         0\n",
       "family_status        0\n",
       "family_status_id     0\n",
       "gender               0\n",
       "income_type          0\n",
       "debt                 0\n",
       "total_income         0\n",
       "purpose              0\n",
       "ages_group           0\n",
       "income_type_group    0\n",
       "dtype: int64"
      ]
     },
     "execution_count": 10,
     "metadata": {},
     "output_type": "execute_result"
    }
   ],
   "source": [
    "for i in range(len(data['total_income'])): # замена нулевых значений усреднеными, в зависимости от категории\n",
    "    if data.loc[i,'total_income'] == 0.000000 and data.loc[i,'income_type_group'] == 'to_myself':  \n",
    "        data.loc[i,'total_income'] = to_myself_mean_income\n",
    "    if data.loc[i,'total_income'] == 0.000000 and data.loc[i,'income_type_group'] == 'worker': \n",
    "        data.loc[i,'total_income'] = worker_mean_income\n",
    "    if data.loc[i,'total_income'] == 0.000000 and data.loc[i,'income_type_group'] == 'No_work': \n",
    "        data.loc[i,'total_income'] = No_work_mean_income\n",
    "        \n",
    "data.isnull().sum()"
   ]
  },
  {
   "cell_type": "code",
   "execution_count": 11,
   "metadata": {},
   "outputs": [
    {
     "name": "stdout",
     "output_type": "stream",
     "text": [
      "Количество нулевых значений в столбце children 14149\n",
      "Количество нулевых значений в столбце days_employed 0\n",
      "Количество нулевых значений в столбце dob_years 101\n",
      "Количество нулевых значений в столбце education 0\n",
      "Количество нулевых значений в столбце education_id 5260\n",
      "Количество нулевых значений в столбце family_status 0\n",
      "Количество нулевых значений в столбце family_status_id 12380\n",
      "Количество нулевых значений в столбце gender 0\n",
      "Количество нулевых значений в столбце income_type 0\n",
      "Количество нулевых значений в столбце debt 19784\n",
      "Количество нулевых значений в столбце total_income 0\n",
      "Количество нулевых значений в столбце purpose 0\n",
      "Количество нулевых значений в столбце ages_group 0\n",
      "Количество нулевых значений в столбце income_type_group 0\n"
     ]
    }
   ],
   "source": [
    "\n",
    "data[data['dob_years'] == 0]['dob_years'].count()\n",
    "\n",
    "name_columns = data.columns\n",
    "\n",
    "for column in name_columns:  # поиск количесва нулевых значений каждого столбца\n",
    "    null = data[data[column] == 0][column].count()\n",
    "    print('Количество нулевых значений в столбце',column,null)"
   ]
  },
  {
   "cell_type": "code",
   "execution_count": 12,
   "metadata": {},
   "outputs": [
    {
     "data": {
      "text/html": [
       "<div>\n",
       "<style scoped>\n",
       "    .dataframe tbody tr th:only-of-type {\n",
       "        vertical-align: middle;\n",
       "    }\n",
       "\n",
       "    .dataframe tbody tr th {\n",
       "        vertical-align: top;\n",
       "    }\n",
       "\n",
       "    .dataframe thead th {\n",
       "        text-align: right;\n",
       "    }\n",
       "</style>\n",
       "<table border=\"1\" class=\"dataframe\">\n",
       "  <thead>\n",
       "    <tr style=\"text-align: right;\">\n",
       "      <th></th>\n",
       "      <th>children</th>\n",
       "      <th>days_employed</th>\n",
       "      <th>dob_years</th>\n",
       "      <th>education</th>\n",
       "      <th>education_id</th>\n",
       "      <th>family_status</th>\n",
       "      <th>family_status_id</th>\n",
       "      <th>gender</th>\n",
       "      <th>income_type</th>\n",
       "      <th>debt</th>\n",
       "      <th>total_income</th>\n",
       "      <th>purpose</th>\n",
       "      <th>ages_group</th>\n",
       "      <th>income_type_group</th>\n",
       "    </tr>\n",
       "  </thead>\n",
       "  <tbody>\n",
       "    <tr>\n",
       "      <td>0</td>\n",
       "      <td>1</td>\n",
       "      <td>8437.673028</td>\n",
       "      <td>42.0</td>\n",
       "      <td>высшее</td>\n",
       "      <td>0</td>\n",
       "      <td>женат / замужем</td>\n",
       "      <td>0</td>\n",
       "      <td>F</td>\n",
       "      <td>сотрудник</td>\n",
       "      <td>0</td>\n",
       "      <td>253875.639453</td>\n",
       "      <td>покупка жилья</td>\n",
       "      <td>mature_period2</td>\n",
       "      <td>worker</td>\n",
       "    </tr>\n",
       "    <tr>\n",
       "      <td>1</td>\n",
       "      <td>1</td>\n",
       "      <td>4024.803754</td>\n",
       "      <td>36.0</td>\n",
       "      <td>среднее</td>\n",
       "      <td>1</td>\n",
       "      <td>женат / замужем</td>\n",
       "      <td>0</td>\n",
       "      <td>F</td>\n",
       "      <td>сотрудник</td>\n",
       "      <td>0</td>\n",
       "      <td>112080.014102</td>\n",
       "      <td>приобретение автомобиля</td>\n",
       "      <td>mature_period2</td>\n",
       "      <td>worker</td>\n",
       "    </tr>\n",
       "    <tr>\n",
       "      <td>2</td>\n",
       "      <td>0</td>\n",
       "      <td>5623.422610</td>\n",
       "      <td>33.0</td>\n",
       "      <td>Среднее</td>\n",
       "      <td>1</td>\n",
       "      <td>женат / замужем</td>\n",
       "      <td>0</td>\n",
       "      <td>M</td>\n",
       "      <td>сотрудник</td>\n",
       "      <td>0</td>\n",
       "      <td>145885.952297</td>\n",
       "      <td>покупка жилья</td>\n",
       "      <td>mature_period1</td>\n",
       "      <td>worker</td>\n",
       "    </tr>\n",
       "    <tr>\n",
       "      <td>3</td>\n",
       "      <td>3</td>\n",
       "      <td>4124.747207</td>\n",
       "      <td>32.0</td>\n",
       "      <td>среднее</td>\n",
       "      <td>1</td>\n",
       "      <td>женат / замужем</td>\n",
       "      <td>0</td>\n",
       "      <td>M</td>\n",
       "      <td>сотрудник</td>\n",
       "      <td>0</td>\n",
       "      <td>267628.550329</td>\n",
       "      <td>дополнительное образование</td>\n",
       "      <td>mature_period1</td>\n",
       "      <td>worker</td>\n",
       "    </tr>\n",
       "    <tr>\n",
       "      <td>4</td>\n",
       "      <td>0</td>\n",
       "      <td>14177.753002</td>\n",
       "      <td>53.0</td>\n",
       "      <td>среднее</td>\n",
       "      <td>1</td>\n",
       "      <td>гражданский брак</td>\n",
       "      <td>1</td>\n",
       "      <td>F</td>\n",
       "      <td>пенсионер</td>\n",
       "      <td>0</td>\n",
       "      <td>158616.077870</td>\n",
       "      <td>сыграть свадьбу</td>\n",
       "      <td>mature_period2</td>\n",
       "      <td>No_work</td>\n",
       "    </tr>\n",
       "    <tr>\n",
       "      <td>5</td>\n",
       "      <td>0</td>\n",
       "      <td>926.185831</td>\n",
       "      <td>27.0</td>\n",
       "      <td>высшее</td>\n",
       "      <td>0</td>\n",
       "      <td>гражданский брак</td>\n",
       "      <td>1</td>\n",
       "      <td>M</td>\n",
       "      <td>компаньон</td>\n",
       "      <td>0</td>\n",
       "      <td>255763.565419</td>\n",
       "      <td>покупка жилья</td>\n",
       "      <td>mature_period1</td>\n",
       "      <td>to_myself</td>\n",
       "    </tr>\n",
       "    <tr>\n",
       "      <td>6</td>\n",
       "      <td>0</td>\n",
       "      <td>2879.202052</td>\n",
       "      <td>43.0</td>\n",
       "      <td>высшее</td>\n",
       "      <td>0</td>\n",
       "      <td>женат / замужем</td>\n",
       "      <td>0</td>\n",
       "      <td>F</td>\n",
       "      <td>компаньон</td>\n",
       "      <td>0</td>\n",
       "      <td>240525.971920</td>\n",
       "      <td>операции с жильем</td>\n",
       "      <td>mature_period2</td>\n",
       "      <td>to_myself</td>\n",
       "    </tr>\n",
       "    <tr>\n",
       "      <td>7</td>\n",
       "      <td>0</td>\n",
       "      <td>152.779569</td>\n",
       "      <td>50.0</td>\n",
       "      <td>СРЕДНЕЕ</td>\n",
       "      <td>1</td>\n",
       "      <td>женат / замужем</td>\n",
       "      <td>0</td>\n",
       "      <td>M</td>\n",
       "      <td>сотрудник</td>\n",
       "      <td>0</td>\n",
       "      <td>135823.934197</td>\n",
       "      <td>образование</td>\n",
       "      <td>mature_period2</td>\n",
       "      <td>worker</td>\n",
       "    </tr>\n",
       "    <tr>\n",
       "      <td>8</td>\n",
       "      <td>2</td>\n",
       "      <td>6929.865299</td>\n",
       "      <td>35.0</td>\n",
       "      <td>ВЫСШЕЕ</td>\n",
       "      <td>0</td>\n",
       "      <td>гражданский брак</td>\n",
       "      <td>1</td>\n",
       "      <td>F</td>\n",
       "      <td>сотрудник</td>\n",
       "      <td>0</td>\n",
       "      <td>95856.832424</td>\n",
       "      <td>на проведение свадьбы</td>\n",
       "      <td>mature_period2</td>\n",
       "      <td>worker</td>\n",
       "    </tr>\n",
       "    <tr>\n",
       "      <td>9</td>\n",
       "      <td>0</td>\n",
       "      <td>2188.756445</td>\n",
       "      <td>41.0</td>\n",
       "      <td>среднее</td>\n",
       "      <td>1</td>\n",
       "      <td>женат / замужем</td>\n",
       "      <td>0</td>\n",
       "      <td>M</td>\n",
       "      <td>сотрудник</td>\n",
       "      <td>0</td>\n",
       "      <td>144425.938277</td>\n",
       "      <td>покупка жилья для семьи</td>\n",
       "      <td>mature_period2</td>\n",
       "      <td>worker</td>\n",
       "    </tr>\n",
       "  </tbody>\n",
       "</table>\n",
       "</div>"
      ],
      "text/plain": [
       "   children  days_employed  dob_years education  education_id  \\\n",
       "0         1    8437.673028       42.0    высшее             0   \n",
       "1         1    4024.803754       36.0   среднее             1   \n",
       "2         0    5623.422610       33.0   Среднее             1   \n",
       "3         3    4124.747207       32.0   среднее             1   \n",
       "4         0   14177.753002       53.0   среднее             1   \n",
       "5         0     926.185831       27.0    высшее             0   \n",
       "6         0    2879.202052       43.0    высшее             0   \n",
       "7         0     152.779569       50.0   СРЕДНЕЕ             1   \n",
       "8         2    6929.865299       35.0    ВЫСШЕЕ             0   \n",
       "9         0    2188.756445       41.0   среднее             1   \n",
       "\n",
       "      family_status  family_status_id gender income_type  debt   total_income  \\\n",
       "0   женат / замужем                 0      F   сотрудник     0  253875.639453   \n",
       "1   женат / замужем                 0      F   сотрудник     0  112080.014102   \n",
       "2   женат / замужем                 0      M   сотрудник     0  145885.952297   \n",
       "3   женат / замужем                 0      M   сотрудник     0  267628.550329   \n",
       "4  гражданский брак                 1      F   пенсионер     0  158616.077870   \n",
       "5  гражданский брак                 1      M   компаньон     0  255763.565419   \n",
       "6   женат / замужем                 0      F   компаньон     0  240525.971920   \n",
       "7   женат / замужем                 0      M   сотрудник     0  135823.934197   \n",
       "8  гражданский брак                 1      F   сотрудник     0   95856.832424   \n",
       "9   женат / замужем                 0      M   сотрудник     0  144425.938277   \n",
       "\n",
       "                      purpose      ages_group income_type_group  \n",
       "0               покупка жилья  mature_period2            worker  \n",
       "1     приобретение автомобиля  mature_period2            worker  \n",
       "2               покупка жилья  mature_period1            worker  \n",
       "3  дополнительное образование  mature_period1            worker  \n",
       "4             сыграть свадьбу  mature_period2           No_work  \n",
       "5               покупка жилья  mature_period1         to_myself  \n",
       "6           операции с жильем  mature_period2         to_myself  \n",
       "7                 образование  mature_period2            worker  \n",
       "8       на проведение свадьбы  mature_period2            worker  \n",
       "9     покупка жилья для семьи  mature_period2            worker  "
      ]
     },
     "execution_count": 12,
     "metadata": {},
     "output_type": "execute_result"
    }
   ],
   "source": [
    "data.loc[data['dob_years'] == 0, 'dob_years']=[pd.np.nan] #замена 0 на  пропуски 'nan'\n",
    "data.dropna(subset = ['dob_years'],inplace = True) # удаление пропусков\n",
    "data.isnull().sum() # проверяем данные на пропуски\n",
    "data.head(10)"
   ]
  },
  {
   "cell_type": "markdown",
   "metadata": {},
   "source": [
    "<div>Проверим данные на наличие пропусков вызовом набора методов для суммирования пропущенных значений isnull().sum().\n",
    "Общий трудовой стаж и ежемесячный доход пропущен в 2174 случаях. Это 10% от всех значений датафрейма data, удаление такой доли строк повлияет на результаты.\n",
    "\n",
    "Внимательнее изучим значения общего трудового стажа.\n",
    "- Первым делом замечаем отрицательные значения, что выглядит странным. Чтобы избавиться от этого артефакта, сравним все значения столбца 'days_employed' с '0' и все, что '< 0'. умножим на '-1' и проверим результат.\n",
    "- Затем обращаем внимание на то, что в большом количестве строк черезчур большие значения. Предпологая, что общий трудовой стаж заполнен в днях, эти значения при пересчете на года (поделив на 365) дают 800-1100 лет опыта, что неприемлемо. Значит делаем предположение, что эти данные заполнены в часах, тогда делением на 24 приведем эти значения к приемлемому виду. Чтобы расчитать максимальный трудовой стаж вычтем от возраста (65 лет) выхода на пенсию мужчины  минимальный возраст (18 лет) трудовой деятельности  и переведем в дни. Чтобы определить какие значения черезмерно большие, сравним все значения столбца 'days_employed' c масимальным значением трудового стажа и те, что больше разделим на 24. Проверим результат.\n",
    "- Приведя значения столбца 'days_employed' в порядок, приступим к замене пропусков. Для корректной замены разобьем данные по следующим возрастным категориям [young_period: до 21 года],[mature_period1: 21 — 35 лет],[mature_period2: 35 — 60 лет],[elderly_period: 60 лет и старше], и для каждой категории найдем среднее значение трудового стажа. После чего методом 'fillna' заменим пропуски нулевыми значениями и затем заменив эти нулевые значения усредненными, в зависимости от категори по возврасту.\n",
    "\n",
    "Теперь избавимся от пропусков в значениях ежемесячного дохода.\n",
    "- Для начала разобьем потенциальных заемщиков по типу занятости. Посмотрим уникальные значения столбца 'income_type' методом 'unique'. Разбиваем на следующие категории: [No_work: 'пенсионер', 'студент', 'в декрете', 'безработный'],[to_myself: 'предприниматель', 'компаньон'],[worker:'сотрудник', 'госслужащий']. И по аналогии с пропусками в значениях общего трудового стажа заменяем пропуски на усредненые значения, в зависимости от категории.\n",
    "\n",
    "Помимо явных пропусков проверим таблицу на некорректные нулевые значения. Проверив все столбцы на нулевые значения видим 101 ноль в столбце 'dob_years', что является некорректным. Так как количество нулевых значений не большое, можем удалить данные строки из таблицы предварительно заменив их на пропуски 'nan'.\n",
    "\n",
    "В процессе предобработки данных мы встретили пропуски и артефакты, такие как отрицательные значения трудового стажа, и черезмерно большие значения стажа. При замене пропусков применили категоризацию по возрасту, так как показалась наибольшая зависимость трудового стажа от возраста заемщика, но так же можно было произвести категоризацию и по типу занятости.\n",
    "При замене пропусков в значениях ежемесячного дохода произвели категоризацию по типу занятости, т.к доходы заемщиков наиболее зависят от их работы или ее отсутствия.Из странностей в данных так же нашли нулевые значения в значениях возраста и учитывая, что таких значений не много решили удалить эти строки. Если бы таких значений было много, мы бы заменили их на примерный возраст, опираясь на данные трудового стажа.\n",
    "Описаные недочеты в данных могли возникнуть как в результате человеческого фактора так и при загрузке/выгрузке данных. \n",
    "По окончании удаления пропусков и исправления артефактов получаем таблицу, без пропусков, без отрицательных значений трудового стажа и заемщиков с ворастом 0 лет, готовую к дальнейшей предобработке и проведению исследования.</div>"
   ]
  },
  {
   "cell_type": "markdown",
   "metadata": {},
   "source": [
    "<div>Замена типа данных</div>"
   ]
  },
  {
   "cell_type": "code",
   "execution_count": 2,
   "metadata": {
    "collapsed": true
   },
   "outputs": [
    {
     "ename": "ValueError",
     "evalue": "Cannot convert non-finite values (NA or inf) to integer",
     "output_type": "error",
     "traceback": [
      "\u001B[0;31m---------------------------------------------------------------------------\u001B[0m",
      "\u001B[0;31mValueError\u001B[0m                                Traceback (most recent call last)",
      "\u001B[0;32m<ipython-input-2-87cc59960c26>\u001B[0m in \u001B[0;36m<module>\u001B[0;34m\u001B[0m\n\u001B[0;32m----> 1\u001B[0;31m \u001B[0mdata\u001B[0m\u001B[0;34m[\u001B[0m\u001B[0;34m'days_employed'\u001B[0m\u001B[0;34m]\u001B[0m\u001B[0;34m=\u001B[0m\u001B[0mdata\u001B[0m\u001B[0;34m[\u001B[0m\u001B[0;34m'days_employed'\u001B[0m\u001B[0;34m]\u001B[0m\u001B[0;34m.\u001B[0m\u001B[0mastype\u001B[0m\u001B[0;34m(\u001B[0m\u001B[0;34m'int'\u001B[0m\u001B[0;34m)\u001B[0m \u001B[0;31m#замена типа данных на целочисленный\u001B[0m\u001B[0;34m\u001B[0m\u001B[0;34m\u001B[0m\u001B[0m\n\u001B[0m\u001B[1;32m      2\u001B[0m \u001B[0mdata\u001B[0m\u001B[0;34m[\u001B[0m\u001B[0;34m'total_income'\u001B[0m\u001B[0;34m]\u001B[0m\u001B[0;34m=\u001B[0m\u001B[0mdata\u001B[0m\u001B[0;34m[\u001B[0m\u001B[0;34m'total_income'\u001B[0m\u001B[0;34m]\u001B[0m\u001B[0;34m.\u001B[0m\u001B[0mastype\u001B[0m\u001B[0;34m(\u001B[0m\u001B[0;34m'int'\u001B[0m\u001B[0;34m)\u001B[0m\u001B[0;34m\u001B[0m\u001B[0;34m\u001B[0m\u001B[0m\n\u001B[1;32m      3\u001B[0m \u001B[0mdata\u001B[0m\u001B[0;34m.\u001B[0m\u001B[0mhead\u001B[0m\u001B[0;34m(\u001B[0m\u001B[0;34m)\u001B[0m\u001B[0;34m\u001B[0m\u001B[0;34m\u001B[0m\u001B[0m\n",
      "\u001B[0;32m/opt/conda/lib/python3.7/site-packages/pandas/core/generic.py\u001B[0m in \u001B[0;36mastype\u001B[0;34m(self, dtype, copy, errors, **kwargs)\u001B[0m\n\u001B[1;32m   5880\u001B[0m             \u001B[0;31m# else, only a single dtype is given\u001B[0m\u001B[0;34m\u001B[0m\u001B[0;34m\u001B[0m\u001B[0;34m\u001B[0m\u001B[0m\n\u001B[1;32m   5881\u001B[0m             new_data = self._data.astype(\n\u001B[0;32m-> 5882\u001B[0;31m                 \u001B[0mdtype\u001B[0m\u001B[0;34m=\u001B[0m\u001B[0mdtype\u001B[0m\u001B[0;34m,\u001B[0m \u001B[0mcopy\u001B[0m\u001B[0;34m=\u001B[0m\u001B[0mcopy\u001B[0m\u001B[0;34m,\u001B[0m \u001B[0merrors\u001B[0m\u001B[0;34m=\u001B[0m\u001B[0merrors\u001B[0m\u001B[0;34m,\u001B[0m \u001B[0;34m**\u001B[0m\u001B[0mkwargs\u001B[0m\u001B[0;34m\u001B[0m\u001B[0;34m\u001B[0m\u001B[0m\n\u001B[0m\u001B[1;32m   5883\u001B[0m             )\n\u001B[1;32m   5884\u001B[0m             \u001B[0;32mreturn\u001B[0m \u001B[0mself\u001B[0m\u001B[0;34m.\u001B[0m\u001B[0m_constructor\u001B[0m\u001B[0;34m(\u001B[0m\u001B[0mnew_data\u001B[0m\u001B[0;34m)\u001B[0m\u001B[0;34m.\u001B[0m\u001B[0m__finalize__\u001B[0m\u001B[0;34m(\u001B[0m\u001B[0mself\u001B[0m\u001B[0;34m)\u001B[0m\u001B[0;34m\u001B[0m\u001B[0;34m\u001B[0m\u001B[0m\n",
      "\u001B[0;32m/opt/conda/lib/python3.7/site-packages/pandas/core/internals/managers.py\u001B[0m in \u001B[0;36mastype\u001B[0;34m(self, dtype, **kwargs)\u001B[0m\n\u001B[1;32m    579\u001B[0m \u001B[0;34m\u001B[0m\u001B[0m\n\u001B[1;32m    580\u001B[0m     \u001B[0;32mdef\u001B[0m \u001B[0mastype\u001B[0m\u001B[0;34m(\u001B[0m\u001B[0mself\u001B[0m\u001B[0;34m,\u001B[0m \u001B[0mdtype\u001B[0m\u001B[0;34m,\u001B[0m \u001B[0;34m**\u001B[0m\u001B[0mkwargs\u001B[0m\u001B[0;34m)\u001B[0m\u001B[0;34m:\u001B[0m\u001B[0;34m\u001B[0m\u001B[0;34m\u001B[0m\u001B[0m\n\u001B[0;32m--> 581\u001B[0;31m         \u001B[0;32mreturn\u001B[0m \u001B[0mself\u001B[0m\u001B[0;34m.\u001B[0m\u001B[0mapply\u001B[0m\u001B[0;34m(\u001B[0m\u001B[0;34m\"astype\"\u001B[0m\u001B[0;34m,\u001B[0m \u001B[0mdtype\u001B[0m\u001B[0;34m=\u001B[0m\u001B[0mdtype\u001B[0m\u001B[0;34m,\u001B[0m \u001B[0;34m**\u001B[0m\u001B[0mkwargs\u001B[0m\u001B[0;34m)\u001B[0m\u001B[0;34m\u001B[0m\u001B[0;34m\u001B[0m\u001B[0m\n\u001B[0m\u001B[1;32m    582\u001B[0m \u001B[0;34m\u001B[0m\u001B[0m\n\u001B[1;32m    583\u001B[0m     \u001B[0;32mdef\u001B[0m \u001B[0mconvert\u001B[0m\u001B[0;34m(\u001B[0m\u001B[0mself\u001B[0m\u001B[0;34m,\u001B[0m \u001B[0;34m**\u001B[0m\u001B[0mkwargs\u001B[0m\u001B[0;34m)\u001B[0m\u001B[0;34m:\u001B[0m\u001B[0;34m\u001B[0m\u001B[0;34m\u001B[0m\u001B[0m\n",
      "\u001B[0;32m/opt/conda/lib/python3.7/site-packages/pandas/core/internals/managers.py\u001B[0m in \u001B[0;36mapply\u001B[0;34m(self, f, axes, filter, do_integrity_check, consolidate, **kwargs)\u001B[0m\n\u001B[1;32m    436\u001B[0m                     \u001B[0mkwargs\u001B[0m\u001B[0;34m[\u001B[0m\u001B[0mk\u001B[0m\u001B[0;34m]\u001B[0m \u001B[0;34m=\u001B[0m \u001B[0mobj\u001B[0m\u001B[0;34m.\u001B[0m\u001B[0mreindex\u001B[0m\u001B[0;34m(\u001B[0m\u001B[0mb_items\u001B[0m\u001B[0;34m,\u001B[0m \u001B[0maxis\u001B[0m\u001B[0;34m=\u001B[0m\u001B[0maxis\u001B[0m\u001B[0;34m,\u001B[0m \u001B[0mcopy\u001B[0m\u001B[0;34m=\u001B[0m\u001B[0malign_copy\u001B[0m\u001B[0;34m)\u001B[0m\u001B[0;34m\u001B[0m\u001B[0;34m\u001B[0m\u001B[0m\n\u001B[1;32m    437\u001B[0m \u001B[0;34m\u001B[0m\u001B[0m\n\u001B[0;32m--> 438\u001B[0;31m             \u001B[0mapplied\u001B[0m \u001B[0;34m=\u001B[0m \u001B[0mgetattr\u001B[0m\u001B[0;34m(\u001B[0m\u001B[0mb\u001B[0m\u001B[0;34m,\u001B[0m \u001B[0mf\u001B[0m\u001B[0;34m)\u001B[0m\u001B[0;34m(\u001B[0m\u001B[0;34m**\u001B[0m\u001B[0mkwargs\u001B[0m\u001B[0;34m)\u001B[0m\u001B[0;34m\u001B[0m\u001B[0;34m\u001B[0m\u001B[0m\n\u001B[0m\u001B[1;32m    439\u001B[0m             \u001B[0mresult_blocks\u001B[0m \u001B[0;34m=\u001B[0m \u001B[0m_extend_blocks\u001B[0m\u001B[0;34m(\u001B[0m\u001B[0mapplied\u001B[0m\u001B[0;34m,\u001B[0m \u001B[0mresult_blocks\u001B[0m\u001B[0;34m)\u001B[0m\u001B[0;34m\u001B[0m\u001B[0;34m\u001B[0m\u001B[0m\n\u001B[1;32m    440\u001B[0m \u001B[0;34m\u001B[0m\u001B[0m\n",
      "\u001B[0;32m/opt/conda/lib/python3.7/site-packages/pandas/core/internals/blocks.py\u001B[0m in \u001B[0;36mastype\u001B[0;34m(self, dtype, copy, errors, values, **kwargs)\u001B[0m\n\u001B[1;32m    557\u001B[0m \u001B[0;34m\u001B[0m\u001B[0m\n\u001B[1;32m    558\u001B[0m     \u001B[0;32mdef\u001B[0m \u001B[0mastype\u001B[0m\u001B[0;34m(\u001B[0m\u001B[0mself\u001B[0m\u001B[0;34m,\u001B[0m \u001B[0mdtype\u001B[0m\u001B[0;34m,\u001B[0m \u001B[0mcopy\u001B[0m\u001B[0;34m=\u001B[0m\u001B[0;32mFalse\u001B[0m\u001B[0;34m,\u001B[0m \u001B[0merrors\u001B[0m\u001B[0;34m=\u001B[0m\u001B[0;34m\"raise\"\u001B[0m\u001B[0;34m,\u001B[0m \u001B[0mvalues\u001B[0m\u001B[0;34m=\u001B[0m\u001B[0;32mNone\u001B[0m\u001B[0;34m,\u001B[0m \u001B[0;34m**\u001B[0m\u001B[0mkwargs\u001B[0m\u001B[0;34m)\u001B[0m\u001B[0;34m:\u001B[0m\u001B[0;34m\u001B[0m\u001B[0;34m\u001B[0m\u001B[0m\n\u001B[0;32m--> 559\u001B[0;31m         \u001B[0;32mreturn\u001B[0m \u001B[0mself\u001B[0m\u001B[0;34m.\u001B[0m\u001B[0m_astype\u001B[0m\u001B[0;34m(\u001B[0m\u001B[0mdtype\u001B[0m\u001B[0;34m,\u001B[0m \u001B[0mcopy\u001B[0m\u001B[0;34m=\u001B[0m\u001B[0mcopy\u001B[0m\u001B[0;34m,\u001B[0m \u001B[0merrors\u001B[0m\u001B[0;34m=\u001B[0m\u001B[0merrors\u001B[0m\u001B[0;34m,\u001B[0m \u001B[0mvalues\u001B[0m\u001B[0;34m=\u001B[0m\u001B[0mvalues\u001B[0m\u001B[0;34m,\u001B[0m \u001B[0;34m**\u001B[0m\u001B[0mkwargs\u001B[0m\u001B[0;34m)\u001B[0m\u001B[0;34m\u001B[0m\u001B[0;34m\u001B[0m\u001B[0m\n\u001B[0m\u001B[1;32m    560\u001B[0m \u001B[0;34m\u001B[0m\u001B[0m\n\u001B[1;32m    561\u001B[0m     \u001B[0;32mdef\u001B[0m \u001B[0m_astype\u001B[0m\u001B[0;34m(\u001B[0m\u001B[0mself\u001B[0m\u001B[0;34m,\u001B[0m \u001B[0mdtype\u001B[0m\u001B[0;34m,\u001B[0m \u001B[0mcopy\u001B[0m\u001B[0;34m=\u001B[0m\u001B[0;32mFalse\u001B[0m\u001B[0;34m,\u001B[0m \u001B[0merrors\u001B[0m\u001B[0;34m=\u001B[0m\u001B[0;34m\"raise\"\u001B[0m\u001B[0;34m,\u001B[0m \u001B[0mvalues\u001B[0m\u001B[0;34m=\u001B[0m\u001B[0;32mNone\u001B[0m\u001B[0;34m,\u001B[0m \u001B[0;34m**\u001B[0m\u001B[0mkwargs\u001B[0m\u001B[0;34m)\u001B[0m\u001B[0;34m:\u001B[0m\u001B[0;34m\u001B[0m\u001B[0;34m\u001B[0m\u001B[0m\n",
      "\u001B[0;32m/opt/conda/lib/python3.7/site-packages/pandas/core/internals/blocks.py\u001B[0m in \u001B[0;36m_astype\u001B[0;34m(self, dtype, copy, errors, values, **kwargs)\u001B[0m\n\u001B[1;32m    641\u001B[0m                     \u001B[0;31m# _astype_nansafe works fine with 1-d only\u001B[0m\u001B[0;34m\u001B[0m\u001B[0;34m\u001B[0m\u001B[0;34m\u001B[0m\u001B[0m\n\u001B[1;32m    642\u001B[0m                     \u001B[0mvals1d\u001B[0m \u001B[0;34m=\u001B[0m \u001B[0mvalues\u001B[0m\u001B[0;34m.\u001B[0m\u001B[0mravel\u001B[0m\u001B[0;34m(\u001B[0m\u001B[0;34m)\u001B[0m\u001B[0;34m\u001B[0m\u001B[0;34m\u001B[0m\u001B[0m\n\u001B[0;32m--> 643\u001B[0;31m                     \u001B[0mvalues\u001B[0m \u001B[0;34m=\u001B[0m \u001B[0mastype_nansafe\u001B[0m\u001B[0;34m(\u001B[0m\u001B[0mvals1d\u001B[0m\u001B[0;34m,\u001B[0m \u001B[0mdtype\u001B[0m\u001B[0;34m,\u001B[0m \u001B[0mcopy\u001B[0m\u001B[0;34m=\u001B[0m\u001B[0;32mTrue\u001B[0m\u001B[0;34m,\u001B[0m \u001B[0;34m**\u001B[0m\u001B[0mkwargs\u001B[0m\u001B[0;34m)\u001B[0m\u001B[0;34m\u001B[0m\u001B[0;34m\u001B[0m\u001B[0m\n\u001B[0m\u001B[1;32m    644\u001B[0m \u001B[0;34m\u001B[0m\u001B[0m\n\u001B[1;32m    645\u001B[0m                 \u001B[0;31m# TODO(extension)\u001B[0m\u001B[0;34m\u001B[0m\u001B[0;34m\u001B[0m\u001B[0;34m\u001B[0m\u001B[0m\n",
      "\u001B[0;32m/opt/conda/lib/python3.7/site-packages/pandas/core/dtypes/cast.py\u001B[0m in \u001B[0;36mastype_nansafe\u001B[0;34m(arr, dtype, copy, skipna)\u001B[0m\n\u001B[1;32m    698\u001B[0m         \u001B[0;32mif\u001B[0m \u001B[0;32mnot\u001B[0m \u001B[0mnp\u001B[0m\u001B[0;34m.\u001B[0m\u001B[0misfinite\u001B[0m\u001B[0;34m(\u001B[0m\u001B[0marr\u001B[0m\u001B[0;34m)\u001B[0m\u001B[0;34m.\u001B[0m\u001B[0mall\u001B[0m\u001B[0;34m(\u001B[0m\u001B[0;34m)\u001B[0m\u001B[0;34m:\u001B[0m\u001B[0;34m\u001B[0m\u001B[0;34m\u001B[0m\u001B[0m\n\u001B[1;32m    699\u001B[0m             raise ValueError(\n\u001B[0;32m--> 700\u001B[0;31m                 \u001B[0;34m\"Cannot convert non-finite values (NA or inf) to \"\u001B[0m \u001B[0;34m\"integer\"\u001B[0m\u001B[0;34m\u001B[0m\u001B[0;34m\u001B[0m\u001B[0m\n\u001B[0m\u001B[1;32m    701\u001B[0m             )\n\u001B[1;32m    702\u001B[0m \u001B[0;34m\u001B[0m\u001B[0m\n",
      "\u001B[0;31mValueError\u001B[0m: Cannot convert non-finite values (NA or inf) to integer"
     ]
    }
   ],
   "source": [
    "data['days_employed']=data['days_employed'].astype('int') #замена типа данных на целочисленный\n",
    "data['total_income']=data['total_income'].astype('int')   \n",
    "data.head()\n"
   ]
  },
  {
   "cell_type": "markdown",
   "metadata": {},
   "source": [
    "<div>Значения общего трудового стажа представлены вещественные числами, что не является корректным, заменим их на целочисленные значения методом astype('int'). Так же значения 'total_income' не нуждаются в такой высокой точности, поэтому их тоже заменим целочисленными значениями.</div>\n"
   ]
  },
  {
   "cell_type": "markdown",
   "metadata": {},
   "source": [
    "<div>Обработка дубликатов</div>"
   ]
  },
  {
   "cell_type": "code",
   "execution_count": 15,
   "metadata": {},
   "outputs": [
    {
     "data": {
      "text/plain": [
       "0"
      ]
     },
     "execution_count": 15,
     "metadata": {},
     "output_type": "execute_result"
    }
   ],
   "source": [
    "data.duplicated().sum() # нахождение количества дубликатов\n",
    "data['education'].unique()  # проверка уникальных значений столбца 'образование'\n",
    "data['education']=data['education'].str.lower() # приведение всех значений к нижнему регистру\n",
    "data = data.drop_duplicates().reset_index(drop = True)  # удаление дубликатов, с восстановлением индексов\n",
    "data.duplicated().sum() # проверка, что дубликаты отсутствуют\n",
    "\n"
   ]
  },
  {
   "cell_type": "code",
   "execution_count": 16,
   "metadata": {},
   "outputs": [
    {
     "data": {
      "text/plain": [
       "0"
      ]
     },
     "execution_count": 16,
     "metadata": {},
     "output_type": "execute_result"
    }
   ],
   "source": [
    "data.duplicated().sum()"
   ]
  },
  {
   "cell_type": "markdown",
   "metadata": {},
   "source": [
    "<div>Необходимо установить наличие дубликатов. Если найдутся, удаляем, и проверяем, все ли удалились.\n",
    "Для выявления неявных дубликатов проверим уникальные значения в столбцах, выявленных специальным методом unique().\n",
    "В столбце 'education' видим значения в разных регистрах, приведем их всех к нижнему регистру вызовом метода str.lower().\n",
    "Проверяем наличие дубликатов вызовом метода duplicated().sum().\n",
    "Обнаружив наличие дупликатов удаляем их методом drop_duplicates() с восстановлением индексов reset_index(drop = True).\n",
    "Убеждаемся, что удалили все дубликаты.\n",
    "Дубликаты могли появиться вследствие сбоя в записи данных или из-за человеческого фактора.</div>"
   ]
  },
  {
   "cell_type": "markdown",
   "metadata": {},
   "source": [
    "<div>Лемматизация</div>"
   ]
  },
  {
   "cell_type": "code",
   "execution_count": 17,
   "metadata": {},
   "outputs": [
    {
     "name": "stdout",
     "output_type": "stream",
     "text": [
      "покупка жилье\n",
      "\n",
      "приобретение автомобиль\n",
      "\n",
      "дополнительный образование\n",
      "\n",
      "сыграть свадьба\n",
      "\n",
      "операция с жилье\n",
      "\n",
      "образование\n",
      "\n",
      "на проведение свадьба\n",
      "\n",
      "покупка жилье для семья\n",
      "\n",
      "покупка недвижимость\n",
      "\n",
      "покупка коммерческий недвижимость\n",
      "\n",
      "покупка жилой недвижимость\n",
      "\n",
      "строительство собственный недвижимость\n",
      "\n",
      "недвижимость\n",
      "\n",
      "строительство недвижимость\n",
      "\n",
      "на покупка подержать автомобиль\n",
      "\n",
      "на покупка свой автомобиль\n",
      "\n",
      "операция с коммерческий недвижимость\n",
      "\n",
      "строительство жилой недвижимость\n",
      "\n",
      "жилье\n",
      "\n",
      "операция со свой недвижимость\n",
      "\n",
      "автомобиль\n",
      "\n",
      "заниматься образование\n",
      "\n",
      "сделка с подержанный автомобиль\n",
      "\n",
      "получение образование\n",
      "\n",
      "автомобиль\n",
      "\n",
      "свадьба\n",
      "\n",
      "получение дополнительный образование\n",
      "\n",
      "покупка свой жилье\n",
      "\n",
      "операция с недвижимость\n",
      "\n",
      "получение высокий образование\n",
      "\n",
      "свой автомобиль\n",
      "\n",
      "сделка с автомобиль\n",
      "\n",
      "профильный образование\n",
      "\n",
      "высокий образование\n",
      "\n",
      "покупка жилье для сдача\n",
      "\n",
      "на покупка автомобиль\n",
      "\n",
      "ремонт жилье\n",
      "\n",
      "заниматься высокий образование\n",
      "\n"
     ]
    }
   ],
   "source": [
    "from pymystem3 import Mystem \n",
    "m = Mystem()\n",
    "for purpose in data['purpose'].unique(): # перебор уникальных значений списка целей кредита\n",
    "    lemmas = m.lemmatize(purpose)  # выделение лемм уникальных значений\n",
    "    print(''.join(lemmas))"
   ]
  },
  {
   "cell_type": "markdown",
   "metadata": {},
   "source": [
    " <div>Выделяем леммы в значениях столбца с целями получения кредита методом lemmatize() для дальнейшей категоризации.</div>"
   ]
  },
  {
   "cell_type": "markdown",
   "metadata": {},
   "source": [
    "<div>Категоризация данных</div>"
   ]
  },
  {
   "cell_type": "code",
   "execution_count": 18,
   "metadata": {},
   "outputs": [],
   "source": [
    "data['children'].value_counts()\n",
    "data['children']=data['children'].replace(-1,1).replace(20,2) # замена некорректных данных\n",
    "\n",
    "def children_group(children):           # категоризация по количеству детей\n",
    "    if children == 0:\n",
    "        return 'Нет детей'\n",
    "    if children == 1 or children == 2:\n",
    "        return 'Обычное кол-во детей(1-2 ребенка)'\n",
    "    if children >= 3: \n",
    "        return 'Большое кол-во детей(больше 2х)'"
   ]
  },
  {
   "cell_type": "code",
   "execution_count": 19,
   "metadata": {},
   "outputs": [],
   "source": [
    "data = data.sort_values(by = 'total_income',ascending = True)  # сортируем таблицу по возрастанию дохода\n",
    "data['total_income_group'] = pd.qcut(range(len(data['total_income'])), 7, labels=[\"group_1\", \"group_2\",\n",
    "                                        \"group_3\",\"group_4\",\"group_5\", \"group_6\", \"group_7\"])  # категоризация по ежемесячному доходу\n",
    "data.sort_index(inplace=True) # сортируем таблицу по индексу"
   ]
  },
  {
   "cell_type": "code",
   "execution_count": 20,
   "metadata": {},
   "outputs": [],
   "source": [
    "from pymystem3 import Mystem            # категоризация по цели кредитования\n",
    "m = Mystem()\n",
    "def purpose_group(purpose):\n",
    "    lemmas = m.lemmatize(purpose)\n",
    "    if 'автомобиль' in lemmas:\n",
    "        return 'Кредит на автомобиль'\n",
    "    if 'образование' in lemmas:\n",
    "        return 'Кредит на образование'\n",
    "    if 'недвижимость' in lemmas or 'жилье' in lemmas:\n",
    "        return 'Кредит на недвижимость'\n",
    "    if 'свадьба' in lemmas:\n",
    "        return 'Кредит на свадьбу' \n",
    "    "
   ]
  },
  {
   "cell_type": "code",
   "execution_count": 21,
   "metadata": {},
   "outputs": [
    {
     "data": {
      "text/html": [
       "<div>\n",
       "<style scoped>\n",
       "    .dataframe tbody tr th:only-of-type {\n",
       "        vertical-align: middle;\n",
       "    }\n",
       "\n",
       "    .dataframe tbody tr th {\n",
       "        vertical-align: top;\n",
       "    }\n",
       "\n",
       "    .dataframe thead th {\n",
       "        text-align: right;\n",
       "    }\n",
       "</style>\n",
       "<table border=\"1\" class=\"dataframe\">\n",
       "  <thead>\n",
       "    <tr style=\"text-align: right;\">\n",
       "      <th></th>\n",
       "      <th>children</th>\n",
       "      <th>days_employed</th>\n",
       "      <th>dob_years</th>\n",
       "      <th>education</th>\n",
       "      <th>education_id</th>\n",
       "      <th>family_status</th>\n",
       "      <th>family_status_id</th>\n",
       "      <th>gender</th>\n",
       "      <th>income_type</th>\n",
       "      <th>debt</th>\n",
       "      <th>total_income</th>\n",
       "      <th>purpose</th>\n",
       "      <th>ages_group</th>\n",
       "      <th>income_type_group</th>\n",
       "      <th>total_income_group</th>\n",
       "      <th>children_group</th>\n",
       "      <th>purpose_group</th>\n",
       "    </tr>\n",
       "  </thead>\n",
       "  <tbody>\n",
       "    <tr>\n",
       "      <td>0</td>\n",
       "      <td>1</td>\n",
       "      <td>8437</td>\n",
       "      <td>42.0</td>\n",
       "      <td>высшее</td>\n",
       "      <td>0</td>\n",
       "      <td>женат / замужем</td>\n",
       "      <td>0</td>\n",
       "      <td>F</td>\n",
       "      <td>сотрудник</td>\n",
       "      <td>0</td>\n",
       "      <td>253875</td>\n",
       "      <td>покупка жилья</td>\n",
       "      <td>mature_period2</td>\n",
       "      <td>worker</td>\n",
       "      <td>group_7</td>\n",
       "      <td>Обычное кол-во детей(1-2 ребенка)</td>\n",
       "      <td>Кредит на недвижимость</td>\n",
       "    </tr>\n",
       "    <tr>\n",
       "      <td>1</td>\n",
       "      <td>1</td>\n",
       "      <td>4024</td>\n",
       "      <td>36.0</td>\n",
       "      <td>среднее</td>\n",
       "      <td>1</td>\n",
       "      <td>женат / замужем</td>\n",
       "      <td>0</td>\n",
       "      <td>F</td>\n",
       "      <td>сотрудник</td>\n",
       "      <td>0</td>\n",
       "      <td>112080</td>\n",
       "      <td>приобретение автомобиля</td>\n",
       "      <td>mature_period2</td>\n",
       "      <td>worker</td>\n",
       "      <td>group_2</td>\n",
       "      <td>Обычное кол-во детей(1-2 ребенка)</td>\n",
       "      <td>Кредит на автомобиль</td>\n",
       "    </tr>\n",
       "    <tr>\n",
       "      <td>2</td>\n",
       "      <td>0</td>\n",
       "      <td>5623</td>\n",
       "      <td>33.0</td>\n",
       "      <td>среднее</td>\n",
       "      <td>1</td>\n",
       "      <td>женат / замужем</td>\n",
       "      <td>0</td>\n",
       "      <td>M</td>\n",
       "      <td>сотрудник</td>\n",
       "      <td>0</td>\n",
       "      <td>145885</td>\n",
       "      <td>покупка жилья</td>\n",
       "      <td>mature_period1</td>\n",
       "      <td>worker</td>\n",
       "      <td>group_4</td>\n",
       "      <td>Нет детей</td>\n",
       "      <td>Кредит на недвижимость</td>\n",
       "    </tr>\n",
       "    <tr>\n",
       "      <td>3</td>\n",
       "      <td>3</td>\n",
       "      <td>4124</td>\n",
       "      <td>32.0</td>\n",
       "      <td>среднее</td>\n",
       "      <td>1</td>\n",
       "      <td>женат / замужем</td>\n",
       "      <td>0</td>\n",
       "      <td>M</td>\n",
       "      <td>сотрудник</td>\n",
       "      <td>0</td>\n",
       "      <td>267628</td>\n",
       "      <td>дополнительное образование</td>\n",
       "      <td>mature_period1</td>\n",
       "      <td>worker</td>\n",
       "      <td>group_7</td>\n",
       "      <td>Большое кол-во детей(больше 2х)</td>\n",
       "      <td>Кредит на образование</td>\n",
       "    </tr>\n",
       "    <tr>\n",
       "      <td>4</td>\n",
       "      <td>0</td>\n",
       "      <td>14177</td>\n",
       "      <td>53.0</td>\n",
       "      <td>среднее</td>\n",
       "      <td>1</td>\n",
       "      <td>гражданский брак</td>\n",
       "      <td>1</td>\n",
       "      <td>F</td>\n",
       "      <td>пенсионер</td>\n",
       "      <td>0</td>\n",
       "      <td>158616</td>\n",
       "      <td>сыграть свадьбу</td>\n",
       "      <td>mature_period2</td>\n",
       "      <td>No_work</td>\n",
       "      <td>group_5</td>\n",
       "      <td>Нет детей</td>\n",
       "      <td>Кредит на свадьбу</td>\n",
       "    </tr>\n",
       "    <tr>\n",
       "      <td>5</td>\n",
       "      <td>0</td>\n",
       "      <td>926</td>\n",
       "      <td>27.0</td>\n",
       "      <td>высшее</td>\n",
       "      <td>0</td>\n",
       "      <td>гражданский брак</td>\n",
       "      <td>1</td>\n",
       "      <td>M</td>\n",
       "      <td>компаньон</td>\n",
       "      <td>0</td>\n",
       "      <td>255763</td>\n",
       "      <td>покупка жилья</td>\n",
       "      <td>mature_period1</td>\n",
       "      <td>to_myself</td>\n",
       "      <td>group_7</td>\n",
       "      <td>Нет детей</td>\n",
       "      <td>Кредит на недвижимость</td>\n",
       "    </tr>\n",
       "    <tr>\n",
       "      <td>6</td>\n",
       "      <td>0</td>\n",
       "      <td>2879</td>\n",
       "      <td>43.0</td>\n",
       "      <td>высшее</td>\n",
       "      <td>0</td>\n",
       "      <td>женат / замужем</td>\n",
       "      <td>0</td>\n",
       "      <td>F</td>\n",
       "      <td>компаньон</td>\n",
       "      <td>0</td>\n",
       "      <td>240525</td>\n",
       "      <td>операции с жильем</td>\n",
       "      <td>mature_period2</td>\n",
       "      <td>to_myself</td>\n",
       "      <td>group_6</td>\n",
       "      <td>Нет детей</td>\n",
       "      <td>Кредит на недвижимость</td>\n",
       "    </tr>\n",
       "    <tr>\n",
       "      <td>7</td>\n",
       "      <td>0</td>\n",
       "      <td>152</td>\n",
       "      <td>50.0</td>\n",
       "      <td>среднее</td>\n",
       "      <td>1</td>\n",
       "      <td>женат / замужем</td>\n",
       "      <td>0</td>\n",
       "      <td>M</td>\n",
       "      <td>сотрудник</td>\n",
       "      <td>0</td>\n",
       "      <td>135823</td>\n",
       "      <td>образование</td>\n",
       "      <td>mature_period2</td>\n",
       "      <td>worker</td>\n",
       "      <td>group_3</td>\n",
       "      <td>Нет детей</td>\n",
       "      <td>Кредит на образование</td>\n",
       "    </tr>\n",
       "    <tr>\n",
       "      <td>8</td>\n",
       "      <td>2</td>\n",
       "      <td>6929</td>\n",
       "      <td>35.0</td>\n",
       "      <td>высшее</td>\n",
       "      <td>0</td>\n",
       "      <td>гражданский брак</td>\n",
       "      <td>1</td>\n",
       "      <td>F</td>\n",
       "      <td>сотрудник</td>\n",
       "      <td>0</td>\n",
       "      <td>95856</td>\n",
       "      <td>на проведение свадьбы</td>\n",
       "      <td>mature_period2</td>\n",
       "      <td>worker</td>\n",
       "      <td>group_2</td>\n",
       "      <td>Обычное кол-во детей(1-2 ребенка)</td>\n",
       "      <td>Кредит на свадьбу</td>\n",
       "    </tr>\n",
       "    <tr>\n",
       "      <td>9</td>\n",
       "      <td>0</td>\n",
       "      <td>2188</td>\n",
       "      <td>41.0</td>\n",
       "      <td>среднее</td>\n",
       "      <td>1</td>\n",
       "      <td>женат / замужем</td>\n",
       "      <td>0</td>\n",
       "      <td>M</td>\n",
       "      <td>сотрудник</td>\n",
       "      <td>0</td>\n",
       "      <td>144425</td>\n",
       "      <td>покупка жилья для семьи</td>\n",
       "      <td>mature_period2</td>\n",
       "      <td>worker</td>\n",
       "      <td>group_4</td>\n",
       "      <td>Нет детей</td>\n",
       "      <td>Кредит на недвижимость</td>\n",
       "    </tr>\n",
       "    <tr>\n",
       "      <td>10</td>\n",
       "      <td>2</td>\n",
       "      <td>4171</td>\n",
       "      <td>36.0</td>\n",
       "      <td>высшее</td>\n",
       "      <td>0</td>\n",
       "      <td>женат / замужем</td>\n",
       "      <td>0</td>\n",
       "      <td>M</td>\n",
       "      <td>компаньон</td>\n",
       "      <td>0</td>\n",
       "      <td>113943</td>\n",
       "      <td>покупка недвижимости</td>\n",
       "      <td>mature_period2</td>\n",
       "      <td>to_myself</td>\n",
       "      <td>group_3</td>\n",
       "      <td>Обычное кол-во детей(1-2 ребенка)</td>\n",
       "      <td>Кредит на недвижимость</td>\n",
       "    </tr>\n",
       "    <tr>\n",
       "      <td>11</td>\n",
       "      <td>0</td>\n",
       "      <td>792</td>\n",
       "      <td>40.0</td>\n",
       "      <td>среднее</td>\n",
       "      <td>1</td>\n",
       "      <td>женат / замужем</td>\n",
       "      <td>0</td>\n",
       "      <td>F</td>\n",
       "      <td>сотрудник</td>\n",
       "      <td>0</td>\n",
       "      <td>77069</td>\n",
       "      <td>покупка коммерческой недвижимости</td>\n",
       "      <td>mature_period2</td>\n",
       "      <td>worker</td>\n",
       "      <td>group_1</td>\n",
       "      <td>Нет детей</td>\n",
       "      <td>Кредит на недвижимость</td>\n",
       "    </tr>\n",
       "    <tr>\n",
       "      <td>12</td>\n",
       "      <td>0</td>\n",
       "      <td>12728</td>\n",
       "      <td>65.0</td>\n",
       "      <td>среднее</td>\n",
       "      <td>1</td>\n",
       "      <td>гражданский брак</td>\n",
       "      <td>1</td>\n",
       "      <td>M</td>\n",
       "      <td>пенсионер</td>\n",
       "      <td>0</td>\n",
       "      <td>122420</td>\n",
       "      <td>сыграть свадьбу</td>\n",
       "      <td>elderly_period</td>\n",
       "      <td>No_work</td>\n",
       "      <td>group_3</td>\n",
       "      <td>Нет детей</td>\n",
       "      <td>Кредит на свадьбу</td>\n",
       "    </tr>\n",
       "    <tr>\n",
       "      <td>13</td>\n",
       "      <td>0</td>\n",
       "      <td>1846</td>\n",
       "      <td>54.0</td>\n",
       "      <td>неоконченное высшее</td>\n",
       "      <td>2</td>\n",
       "      <td>женат / замужем</td>\n",
       "      <td>0</td>\n",
       "      <td>F</td>\n",
       "      <td>сотрудник</td>\n",
       "      <td>0</td>\n",
       "      <td>130458</td>\n",
       "      <td>приобретение автомобиля</td>\n",
       "      <td>mature_period2</td>\n",
       "      <td>worker</td>\n",
       "      <td>group_3</td>\n",
       "      <td>Нет детей</td>\n",
       "      <td>Кредит на автомобиль</td>\n",
       "    </tr>\n",
       "    <tr>\n",
       "      <td>14</td>\n",
       "      <td>0</td>\n",
       "      <td>1844</td>\n",
       "      <td>56.0</td>\n",
       "      <td>высшее</td>\n",
       "      <td>0</td>\n",
       "      <td>гражданский брак</td>\n",
       "      <td>1</td>\n",
       "      <td>F</td>\n",
       "      <td>компаньон</td>\n",
       "      <td>1</td>\n",
       "      <td>165127</td>\n",
       "      <td>покупка жилой недвижимости</td>\n",
       "      <td>mature_period2</td>\n",
       "      <td>to_myself</td>\n",
       "      <td>group_5</td>\n",
       "      <td>Нет детей</td>\n",
       "      <td>Кредит на недвижимость</td>\n",
       "    </tr>\n",
       "  </tbody>\n",
       "</table>\n",
       "</div>"
      ],
      "text/plain": [
       "    children  days_employed  dob_years            education  education_id  \\\n",
       "0          1           8437       42.0               высшее             0   \n",
       "1          1           4024       36.0              среднее             1   \n",
       "2          0           5623       33.0              среднее             1   \n",
       "3          3           4124       32.0              среднее             1   \n",
       "4          0          14177       53.0              среднее             1   \n",
       "5          0            926       27.0               высшее             0   \n",
       "6          0           2879       43.0               высшее             0   \n",
       "7          0            152       50.0              среднее             1   \n",
       "8          2           6929       35.0               высшее             0   \n",
       "9          0           2188       41.0              среднее             1   \n",
       "10         2           4171       36.0               высшее             0   \n",
       "11         0            792       40.0              среднее             1   \n",
       "12         0          12728       65.0              среднее             1   \n",
       "13         0           1846       54.0  неоконченное высшее             2   \n",
       "14         0           1844       56.0               высшее             0   \n",
       "\n",
       "       family_status  family_status_id gender income_type  debt  total_income  \\\n",
       "0    женат / замужем                 0      F   сотрудник     0        253875   \n",
       "1    женат / замужем                 0      F   сотрудник     0        112080   \n",
       "2    женат / замужем                 0      M   сотрудник     0        145885   \n",
       "3    женат / замужем                 0      M   сотрудник     0        267628   \n",
       "4   гражданский брак                 1      F   пенсионер     0        158616   \n",
       "5   гражданский брак                 1      M   компаньон     0        255763   \n",
       "6    женат / замужем                 0      F   компаньон     0        240525   \n",
       "7    женат / замужем                 0      M   сотрудник     0        135823   \n",
       "8   гражданский брак                 1      F   сотрудник     0         95856   \n",
       "9    женат / замужем                 0      M   сотрудник     0        144425   \n",
       "10   женат / замужем                 0      M   компаньон     0        113943   \n",
       "11   женат / замужем                 0      F   сотрудник     0         77069   \n",
       "12  гражданский брак                 1      M   пенсионер     0        122420   \n",
       "13   женат / замужем                 0      F   сотрудник     0        130458   \n",
       "14  гражданский брак                 1      F   компаньон     1        165127   \n",
       "\n",
       "                              purpose      ages_group income_type_group  \\\n",
       "0                       покупка жилья  mature_period2            worker   \n",
       "1             приобретение автомобиля  mature_period2            worker   \n",
       "2                       покупка жилья  mature_period1            worker   \n",
       "3          дополнительное образование  mature_period1            worker   \n",
       "4                     сыграть свадьбу  mature_period2           No_work   \n",
       "5                       покупка жилья  mature_period1         to_myself   \n",
       "6                   операции с жильем  mature_period2         to_myself   \n",
       "7                         образование  mature_period2            worker   \n",
       "8               на проведение свадьбы  mature_period2            worker   \n",
       "9             покупка жилья для семьи  mature_period2            worker   \n",
       "10               покупка недвижимости  mature_period2         to_myself   \n",
       "11  покупка коммерческой недвижимости  mature_period2            worker   \n",
       "12                    сыграть свадьбу  elderly_period           No_work   \n",
       "13            приобретение автомобиля  mature_period2            worker   \n",
       "14         покупка жилой недвижимости  mature_period2         to_myself   \n",
       "\n",
       "   total_income_group                     children_group  \\\n",
       "0             group_7  Обычное кол-во детей(1-2 ребенка)   \n",
       "1             group_2  Обычное кол-во детей(1-2 ребенка)   \n",
       "2             group_4                          Нет детей   \n",
       "3             group_7    Большое кол-во детей(больше 2х)   \n",
       "4             group_5                          Нет детей   \n",
       "5             group_7                          Нет детей   \n",
       "6             group_6                          Нет детей   \n",
       "7             group_3                          Нет детей   \n",
       "8             group_2  Обычное кол-во детей(1-2 ребенка)   \n",
       "9             group_4                          Нет детей   \n",
       "10            group_3  Обычное кол-во детей(1-2 ребенка)   \n",
       "11            group_1                          Нет детей   \n",
       "12            group_3                          Нет детей   \n",
       "13            group_3                          Нет детей   \n",
       "14            group_5                          Нет детей   \n",
       "\n",
       "             purpose_group  \n",
       "0   Кредит на недвижимость  \n",
       "1     Кредит на автомобиль  \n",
       "2   Кредит на недвижимость  \n",
       "3    Кредит на образование  \n",
       "4        Кредит на свадьбу  \n",
       "5   Кредит на недвижимость  \n",
       "6   Кредит на недвижимость  \n",
       "7    Кредит на образование  \n",
       "8        Кредит на свадьбу  \n",
       "9   Кредит на недвижимость  \n",
       "10  Кредит на недвижимость  \n",
       "11  Кредит на недвижимость  \n",
       "12       Кредит на свадьбу  \n",
       "13    Кредит на автомобиль  \n",
       "14  Кредит на недвижимость  "
      ]
     },
     "execution_count": 21,
     "metadata": {},
     "output_type": "execute_result"
    }
   ],
   "source": [
    "    \n",
    "# Добавляем в 'data'столбцы с сгруппированными по категориям данными.\n",
    "data['children_group']=data['children'].apply(children_group)\n",
    "data['purpose_group']=data['purpose'].apply(purpose_group)\n",
    "\n",
    "data.head(15)\n"
   ]
  },
  {
   "cell_type": "markdown",
   "metadata": {},
   "source": [
    "<div>Разобьем на категории людей по количеству детей. Для этого уточним сколько раз упоминается количество детей в семье методом value_counts(), видим странные значения (20) и (-1).</div>\n",
    "\n",
    "<div>Предпологаем, что эти значения появилсь в следствии ошибки при наборе и их реальные значения соответственно (2) и (1). Исправим эти значения методом replace.</div>\n",
    "\n",
    "<div>По количеству детей разбиваем на категории: 'Нет детей', 'Обычное кол-во детей', 'Большое кол-во детей'.</div>\n",
    "\n",
    "<div>По ежемесячному доходу разбиваем на 7 групп, для уменьшения разброса данных по группам, методом 'qcut', чем выше номер группы, тем больше доход.</div>\n",
    "\n",
    "<div>Изучив леммы целей получения кредита, можем разбить эти цели на категории: 'Кредит на автомобиль', 'Кредит на образование', 'Кредит на недвижимость' и 'Кредит на свадьбу'</div>\n",
    "\n",
    "<div>Добавляем в датафрейм 'data' столбцы с сгруппированными по категориям данными методом 'apply'.</div>\n",
    "\n"
   ]
  },
  {
   "cell_type": "markdown",
   "metadata": {},
   "source": [
    "<div>Ответьте на вопросы</div>"
   ]
  },
  {
   "cell_type": "markdown",
   "metadata": {},
   "source": [
    "<div>Есть ли зависимость между наличием детей и возвратом кредита в срок?</div>"
   ]
  },
  {
   "cell_type": "code",
   "execution_count": 23,
   "metadata": {},
   "outputs": [
    {
     "name": "stdout",
     "output_type": "stream",
     "text": [
      "                                   debt  quantity perсent\n",
      "children_group                                           \n",
      "Большое кол-во детей(больше 2х)      31       378    8.2%\n",
      "Нет детей                          1058     14022    7.5%\n",
      "Обычное кол-во детей(1-2 ребенка)   644      6953    9.3%\n"
     ]
    }
   ],
   "source": [
    "data_children=data[['children_group','debt']]\n",
    "data_children_groupby = data_children.groupby('children_group').sum()\n",
    "data_children_groupby['quantity'] = data_children['children_group'].value_counts()\n",
    "try:\n",
    "    data_children_groupby['perсent'] = (data_children_groupby['debt'] / data_children_groupby['quantity']).apply('{:.1%}'.format)\n",
    "    print(data_children_groupby)\n",
    "except:\n",
    "    print('Проверьте правильность данных')\n"
   ]
  },
  {
   "cell_type": "markdown",
   "metadata": {},
   "source": [
    "<div>Составив сводную таблицу с суммой задолжностей и количеством детей у потенциальных заемщиков.\n",
    "Наблюдаем, что люди с 1-2 детьми чаще имели задолжности перед банками, а люди без детей реже имели задолжности.\n",
    "Люди не имеющие детей чаще всего обращаются за кредитами, что можно объяснить тем, что люди без детей меньше предрасположены к незапланированным тратам и могут быть более уверенными в своей платежеспособности, поэтому и вероятность задолжностей самая низкая. \n",
    "Задолжности группы с обычным количеством детей больше на 1.1 % чем у тех у кого более 2х детей, возможно из-за неопытности молодых родителей в планировании своих расходов, так и из-за того, что люди с большим количеством детей берут кредит только когда уверены, что смогут его вовремя погасить,что подтверждается и самым низким количеством взятия кретитов. \n",
    "Так как разница между группами равна примерно 1%, учитывая объемы таблицы, можно сделать вывод, что зависимость между наличием детей и возвратом кредита в срок значительна.</div>\n"
   ]
  },
  {
   "cell_type": "markdown",
   "metadata": {},
   "source": [
    "<div>Есть ли зависимость между семейным положением и возвратом кредита в срок?</div>"
   ]
  },
  {
   "cell_type": "code",
   "execution_count": 24,
   "metadata": {},
   "outputs": [
    {
     "name": "stdout",
     "output_type": "stream",
     "text": [
      "                       debt  quantity perсent\n",
      "family_status                                \n",
      "Не женат / не замужем   273      2794    9.8%\n",
      "в разводе                85      1185    7.2%\n",
      "вдовец / вдова           62       954    6.5%\n",
      "гражданский брак        386      4130    9.3%\n",
      "женат / замужем         927     12290    7.5%\n"
     ]
    }
   ],
   "source": [
    "data_family=data[['family_status','debt']]\n",
    "data_family_groupby = data_family.groupby('family_status').sum()\n",
    "data_family_groupby['quantity'] = data_family['family_status'].value_counts()\n",
    "\n",
    "try:\n",
    "    data_family_groupby['perсent'] = (data_family_groupby['debt'] / data_family_groupby['quantity']).apply('{:.1%}'.format)\n",
    "    print(data_family_groupby)\n",
    "except:\n",
    "    print('Проверьте правильность данных')"
   ]
  },
  {
   "cell_type": "markdown",
   "metadata": {},
   "source": [
    "<div>По сводной таблице семейного положения и наличия задолжностей наблюдаем, что зависимость довольно велика, разница более 3%.\n",
    "Больше остальных берут кредиты люди находящиеся в браке, вероятнее всего из - за более стабильного бюджета,т.к в случае изменения доходов одного из семьи, сохраняется доход у второго, да и жизнь в браке предпологает постоянное улучшение качества жизни, с сопутсвующими затратами.\n",
    "Наивысшим процентом по наличию задолжностей владеют неженатые люди и люди живущие в гражданском браке. В первом случае, возможно, люди не находящиеся в браке берут кредит и попадая в финансовую нестабильность не имют финансовой подержки, из-за чего появляются задолжности. Часто не женатые люди - это молодые люди, не умеющие планировать свой бюджет, что тоже приводит к задолжностям. Люди живущие в гражданском браке чаще расходятся, чем люди женатые, тем самым по кредитам взятым 'на двоих' часто возникают задолжности.</div>\n"
   ]
  },
  {
   "cell_type": "markdown",
   "metadata": {},
   "source": [
    "<div> Есть ли зависимость между уровнем дохода и возвратом кредита в срок?</div>"
   ]
  },
  {
   "cell_type": "code",
   "execution_count": 25,
   "metadata": {},
   "outputs": [
    {
     "name": "stdout",
     "output_type": "stream",
     "text": [
      "                    debt  quantity persent\n",
      "total_income_group                        \n",
      "group_1              233      3051    7.6%\n",
      "group_2              261      3050    8.6%\n",
      "group_3              263      3050    8.6%\n",
      "group_4              266      3051    8.7%\n",
      "group_5              254      3050    8.3%\n",
      "group_6              246      3050    8.1%\n",
      "group_7              210      3051    6.9%\n"
     ]
    }
   ],
   "source": [
    "data_total_income_groupby = data[['total_income_group','debt']]\n",
    "data_total_income_groupby=data_total_income_groupby.groupby('total_income_group').sum()\n",
    "data_total_income_groupby['quantity'] = data['total_income_group'].value_counts()\n",
    "try:\n",
    "    data_total_income_groupby['persent'] = (data_total_income_groupby['debt'] / data_total_income_groupby['quantity']).apply('{:.1%}'.format)\n",
    "    print(data_total_income_groupby)\n",
    "except:\n",
    "    print('Проверьте правильность данных')\n",
    "\n"
   ]
  },
  {
   "cell_type": "markdown",
   "metadata": {},
   "source": [
    "<div>По сводной таблице уровня дохода(чем выше номер группы тем выше доход) и наличия задолжностей наблюдаем значительную зависимость между уровнем дохода и возвратом кредита в срок. Люди со средними доходами имеют разницу всего в 0.5%, а люди с самыми высоким и самыми низкими доходами отличаются от них на 1%, что достаточно много.\n",
    "Люди всех групп одинаково часто берут кредиты, но чаще имели задолжности заемщики со средним уровнем дохода.\n",
    "Люди с доходом выше среднего реже всего имели задолжности по кредитам, так как имеют достаточно стабильно высокий доход, и имеют накопления позволяющие в случае непредвиденных ситуаций выплачивать кредиты в срок.\n",
    "Заемщики с низким уровнем дохода имеют меньше задолжностей чем у людей со средним, вероятнее всего из-за более низких сумм кредитования.</div>\n"
   ]
  },
  {
   "cell_type": "markdown",
   "metadata": {},
   "source": [
    "<div>Как разные цели кредита влияют на его возврат в срок?</div>"
   ]
  },
  {
   "cell_type": "code",
   "execution_count": 26,
   "metadata": {},
   "outputs": [
    {
     "name": "stdout",
     "output_type": "stream",
     "text": [
      "                        debt  quantity percent\n",
      "purpose_group                                 \n",
      "Кредит на автомобиль     400      4284    9.3%\n",
      "Кредит на недвижимость   779     10764    7.2%\n",
      "Кредит на образование    370      3995    9.3%\n",
      "Кредит на свадьбу        184      2310    8.0%\n"
     ]
    }
   ],
   "source": [
    "data_purpose_groupby=data[['purpose_group','debt']]\n",
    "data_purpose_groupby=data_purpose_groupby.groupby('purpose_group').sum()\n",
    "data_purpose_groupby['quantity']=data['purpose_group'].value_counts()\n",
    "try:\n",
    "    data_purpose_groupby['percent']=(data_purpose_groupby['debt'] / data_purpose_groupby['quantity']).apply('{:.1%}'.format)\n",
    "    print(data_purpose_groupby)\n",
    "except:\n",
    "    print('Проверьте правильность данных')\n"
   ]
  },
  {
   "cell_type": "markdown",
   "metadata": {},
   "source": [
    "<div>По сводной таблице цели кредита и наличия задолжностей наблюдаем, что чаще всего люди берут кредиты на недвижимость, и реже имели задолжности по этим кредитам. Это объясняется снижением ставок по кредитам на недвижимость, и большим объемом сделок по недвижимости в последнее время, так же влияет, что вложение в недвижимость считается одним из самых выгодных вложений средств. Низкий процент по задолжностям объясняется тем, что в случае появления таковых банк может забрать недвижимость у заемщика, либо будут начисляться большие пени.\n",
    "Наиболее часто люди имели задолжности по кредитам на автомобили и образование.Вероятнее всего люди часто преобретают автомобили 'не по карману', стоимость и обслуживание которых не могут себе позволить. Люди берущие кредит на образование часто - это молодые люди, не умеющие планировать свой бюджет, и не имеющие финансовой стабильности, что приводит к появлению задолжностей.\n",
    "Цели кредитования имеют большой уровень зависимости на его возрат в срок, разница чуть более 2%.</div>"
   ]
  },
  {
   "cell_type": "code",
   "execution_count": 27,
   "metadata": {},
   "outputs": [
    {
     "name": "stdout",
     "output_type": "stream",
     "text": [
      "Средний процент, имеющих задолжности по возратам крeдитов 8.2%\n"
     ]
    }
   ],
   "source": [
    "import numpy\n",
    "percent_mean = []\n",
    "percent_mean.append((data_purpose_groupby['debt'] / data_purpose_groupby['quantity']).mean())\n",
    "percent_mean.append((data_family_groupby['debt'] / data_family_groupby['quantity']).mean())\n",
    "percent_mean.append((data_total_income_groupby['debt'] / data_total_income_groupby['quantity']).mean())\n",
    "percent_mean.append((data_children_groupby['debt'] / data_children_groupby['quantity']).mean())\n",
    "print('Средний процент, имеющих задолжности по возратам крeдитов '\"{:.1%}\".format(numpy.mean(percent_mean)))"
   ]
  },
  {
   "cell_type": "markdown",
   "metadata": {},
   "source": [
    "<div>Общий вывод</div>"
   ]
  },
  {
   "cell_type": "markdown",
   "metadata": {},
   "source": [
    "<div>Целью данного иследования было выяление влияния семейного положения и количества детей клиента на факт погашения кредита в срок.\n",
    "\n",
    "Входные данные от банка — статистика о платёжеспособности клиентов. \n",
    "\n",
    "Проверив данные на наличие пропусков обнаружили, что общий трудовой стаж и ежемесячный доход пропущен в 2174 случаях. Так же обнаружили черезмерно большие значения трудового стажа и пришли к выводу, что не все значения трудового стажа в формате дней. Еще обнаружили наличие отрицательных значений рабочего стажа. После чего привели эти значения к единообразному виду. \n",
    "Далее заполнили пропуски в столбцах ежемесечного дохода и трудового стажа, предварительно разбив на категории по возрасту и типу занятости. Пропуски заполняли средними значениями соответствующих категорий. \n",
    "В значениях возраста клиента обнаружили нулевые значения, и определив, что таких значений мало, удалили их. \n",
    "После обработки пропусков обратили внимание, что значения общего трудового стажа представлены вещественные числами, что не является корректным, заменили их на целочисленные значения. Так же значения ежемесячного дохода не нуждаются в такой высокой точности, поэтому их тоже заменили целочисленными значениями. \n",
    "Следующим шагом проверили данные на дублирования, обнаружили неочевидные дублирования в столбце образования. Все дублирующие строки убрали.\n",
    "Можно предположить, что пропуски, дублирование данных, нулевые значения и другие артефакты возникли в результате ошибок при загрузке/выгрузке данных или при заполнении данных в таблицу, в результате человеческого фактора. Различный формат данных (дни и часы) в столбце трудового стажа мог произойти при сведении нескольких таблиц при заполнении которых использовались разные форматы.\n",
    "\n",
    "Наше исследование показало, что средний процент, имеющих задолжности по возратам крeдитов 8.2%. Основной категорией кредитования является недвижимость, 50 % от всех кредитов, 58 % кредитов берут люди состоящие в браке, 66% всех кредитов берут люди не имеющие детей. При исследовании мы разбивали данные на 4 возрастные группы, на 7 групп ежемесячного дохода, на 3 группы по количеству детей и 3 категории занятости.\n",
    "\n",
    "По результатам исследовая выяснили, что люди с 1-2 детьми чаще имели задолжности перед банками, а люди без детей реже имели задолжности. Люди не имеющие детей чаще всего обращаются за кредитами, что можно объяснить тем, что люди без детей меньше предрасположены к незапланированным тратам и могут быть более уверенными в своей платежеспособности, поэтому и вероятность задолжностей самая низкая. Задолжности группы с обычным количеством детей больше на 1.1 % чем у тех у кого более 2х детей, возможно из-за неопытности молодых родителей в планировании своих расходов, так и из-за того, что люди с большим количеством детей берут кредит только когда уверены, что смогут его вовремя погасить,что подтверждается и самым низким количеством взятия кретитов. Зависимость между наличием детей и возвратом кредита в срок значительна.\n",
    "\n",
    "Так же, больше остальных берут кредиты люди находящиеся в браке, вероятнее всего из - за более стабильного бюджета,т.к в случае изменения доходов одного из семьи, сохраняется доход у второго, да и жизнь в браке предпологает постоянное улучшение качества жизни, с сопутсвующими затратами. Наивысшим процентом по наличию задолжностей владеют неженатые люди и люди живущие в гражданском браке. В первом случае, возможно, люди не находящиеся в браке берут кредит и попадая в финансовую нестабильность не имют финансовой подержки, из-за чего появляются задолжности. Часто неженатые люди - это молодые люди, не умеющие планировать свой бюджет, что тоже приводит к задолжностям. Люди живущие в гражданском браке чаще расходятся, чем люди женатые, тем самым по кредитам взятым 'на двоих' часто возникают задолжности. Зависимость между наличием задолжностей и семейным положением потенциальных заемщиков довольно велика, разница более 3%.\n",
    "\n",
    "По ежемесячному доходу заемщиков выяснили, что люди всех групп одинаково часто берут кредиты, но чаще имели задолжности заемщики со средним уровнем дохода.\n",
    "Люди с доходом выше среднего реже всего имели задолжности по кредитам, так как имеют достаточно стабильно высокий доход, и имеют накопления позволяющие в случае непредвиденных ситуаций выплачивать кредиты в срок.\n",
    "Заемщики с низким уровнем дохода имеют меньше задолжностей чем у людей со средним, вероятнее всего из-за более низких сумм кредитования. Зависимость между уровнем дохода и возвратом кредита в срок значительна. Люди со средними доходами имеют разницу всего в 0.5%, а люди с самыми высоким и самыми низкими доходами отличаются от них на 1%, что достаточно много.\n",
    "\n",
    "Далее определили, что чаще всего люди брали кредиты на недвижимость, и реже имели задолжности по этим кредитам. Это объясняется снижением ставок по кредитам на недвижимость, и большим объемом сделок по недвижимости в последнее время, так же влияет, что вложение в недвижимость считается одним из самых выгодных вложений средств. Низкий процент по задолжностям объясняется тем, что в случае появления таковых, банк может забрать недвижимость у заемщика, либо будут начисляться большие пени.\n",
    "Наиболее часто люди имели задолжности по кредитам на автомобили и образование.Вероятнее всего люди часто приобретают автомобили 'не по карману', стоимость и обслуживание которых не могут себе позволить. Люди берущие кредит на образование часто - это молодые люди, не умеющие планировать свой бюджет, и не имеющие финансовой стабильности, что приводит к появлению задолжностей.\n",
    "Цели кредитования имеют большой уровень зависимости на его возрат в срок, разница чуть более 2%.\n",
    "\n",
    "Основной целью исследования было желание банка узнать, как различные критерии заемщиков (количество детей в семье, трудовой стаж, ежемесячный доход и др) влияют на вероятность появления задолженностей по возврату кредитов. Наши выводы позволят принимать решения по одобрению или отказу потенциальному заемщику в кредите.</div>"
   ]
  }
 ],
 "metadata": {
  "ExecuteTimeLog": [
   {
    "duration": 1089,
    "start_time": "2021-09-29T13:35:34.093Z"
   },
   {
    "duration": 494,
    "start_time": "2021-09-29T13:55:03.490Z"
   }
  ],
  "celltoolbar": "Raw Cell Format",
  "kernelspec": {
   "display_name": "Python 3",
   "language": "python",
   "name": "python3"
  },
  "language_info": {
   "codemirror_mode": {
    "name": "ipython",
    "version": 3
   },
   "file_extension": ".py",
   "mimetype": "text/x-python",
   "name": "python",
   "nbconvert_exporter": "python",
   "pygments_lexer": "ipython3",
   "version": "3.7.8"
  },
  "toc": {
   "base_numbering": 1,
   "nav_menu": {
    "height": "152px",
    "width": "479px"
   },
   "number_sections": true,
   "sideBar": true,
   "skip_h1_title": false,
   "title_cell": "Table of Contents",
   "title_sidebar": "Contents",
   "toc_cell": false,
   "toc_position": {},
   "toc_section_display": true,
   "toc_window_display": false
  }
 },
 "nbformat": 4,
 "nbformat_minor": 2
}