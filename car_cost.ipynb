{
 "cells": [
  {
   "cell_type": "markdown",
   "metadata": {},
   "source": [
    "# Определение стоимости автомобилей"
   ]
  },
  {
   "cell_type": "markdown",
   "metadata": {},
   "source": [
    "Сервис по продаже автомобилей с пробегом «Не бит, не крашен» разрабатывает приложение для привлечения новых клиентов. В нём можно быстро узнать рыночную стоимость своего автомобиля. В вашем распоряжении исторические данные: технические характеристики, комплектации и цены автомобилей. Вам нужно построить модель для определения стоимости. \n",
    "\n",
    "Заказчику важны:\n",
    "\n",
    "- качество предсказания;\n",
    "- скорость предсказания;\n",
    "- время обучения."
   ]
  },
  {
   "cell_type": "markdown",
   "metadata": {},
   "source": [
    "## Подготовка данных"
   ]
  },
  {
   "cell_type": "markdown",
   "metadata": {},
   "source": [
    "### Импортируем необходимые библиотеки"
   ]
  },
  {
   "cell_type": "code",
   "execution_count": 1,
   "metadata": {},
   "outputs": [],
   "source": [
    "import pandas as pd\n",
    "import numpy as np\n",
    "import seaborn as sns\n",
    "import matplotlib.pyplot as plt\n",
    "from sklearn.model_selection import train_test_split, GridSearchCV\n",
    "from sklearn.metrics import mean_squared_error\n",
    "from sklearn.preprocessing import OneHotEncoder, LabelEncoder\n",
    "from sklearn.linear_model import LinearRegression\n",
    "from sklearn.ensemble import RandomForestRegressor\n",
    "from catboost import CatBoostRegressor\n",
    "from lightgbm import LGBMRegressor\n",
    "from sklearn.preprocessing import StandardScaler\n",
    "import warnings\n",
    "warnings.filterwarnings('ignore')"
   ]
  },
  {
   "cell_type": "markdown",
   "metadata": {},
   "source": [
    "### Читаем csv файлы, выводим данные на экран, смотрим общую информацию"
   ]
  },
  {
   "cell_type": "code",
   "execution_count": 2,
   "metadata": {},
   "outputs": [],
   "source": [
    "data = pd.read_csv('/datasets/autos.csv')"
   ]
  },
  {
   "cell_type": "code",
   "execution_count": 3,
   "metadata": {},
   "outputs": [
    {
     "name": "stdout",
     "output_type": "stream",
     "text": [
      "<class 'pandas.core.frame.DataFrame'>\n",
      "RangeIndex: 354369 entries, 0 to 354368\n",
      "Data columns (total 16 columns):\n",
      "DateCrawled          354369 non-null object\n",
      "Price                354369 non-null int64\n",
      "VehicleType          316879 non-null object\n",
      "RegistrationYear     354369 non-null int64\n",
      "Gearbox              334536 non-null object\n",
      "Power                354369 non-null int64\n",
      "Model                334664 non-null object\n",
      "Kilometer            354369 non-null int64\n",
      "RegistrationMonth    354369 non-null int64\n",
      "FuelType             321474 non-null object\n",
      "Brand                354369 non-null object\n",
      "NotRepaired          283215 non-null object\n",
      "DateCreated          354369 non-null object\n",
      "NumberOfPictures     354369 non-null int64\n",
      "PostalCode           354369 non-null int64\n",
      "LastSeen             354369 non-null object\n",
      "dtypes: int64(7), object(9)\n",
      "memory usage: 43.3+ MB\n"
     ]
    },
    {
     "data": {
      "text/html": [
       "<div>\n",
       "<style scoped>\n",
       "    .dataframe tbody tr th:only-of-type {\n",
       "        vertical-align: middle;\n",
       "    }\n",
       "\n",
       "    .dataframe tbody tr th {\n",
       "        vertical-align: top;\n",
       "    }\n",
       "\n",
       "    .dataframe thead th {\n",
       "        text-align: right;\n",
       "    }\n",
       "</style>\n",
       "<table border=\"1\" class=\"dataframe\">\n",
       "  <thead>\n",
       "    <tr style=\"text-align: right;\">\n",
       "      <th></th>\n",
       "      <th>DateCrawled</th>\n",
       "      <th>Price</th>\n",
       "      <th>VehicleType</th>\n",
       "      <th>RegistrationYear</th>\n",
       "      <th>Gearbox</th>\n",
       "      <th>Power</th>\n",
       "      <th>Model</th>\n",
       "      <th>Kilometer</th>\n",
       "      <th>RegistrationMonth</th>\n",
       "      <th>FuelType</th>\n",
       "      <th>Brand</th>\n",
       "      <th>NotRepaired</th>\n",
       "      <th>DateCreated</th>\n",
       "      <th>NumberOfPictures</th>\n",
       "      <th>PostalCode</th>\n",
       "      <th>LastSeen</th>\n",
       "    </tr>\n",
       "  </thead>\n",
       "  <tbody>\n",
       "    <tr>\n",
       "      <td>0</td>\n",
       "      <td>2016-03-24 11:52:17</td>\n",
       "      <td>480</td>\n",
       "      <td>NaN</td>\n",
       "      <td>1993</td>\n",
       "      <td>manual</td>\n",
       "      <td>0</td>\n",
       "      <td>golf</td>\n",
       "      <td>150000</td>\n",
       "      <td>0</td>\n",
       "      <td>petrol</td>\n",
       "      <td>volkswagen</td>\n",
       "      <td>NaN</td>\n",
       "      <td>2016-03-24 00:00:00</td>\n",
       "      <td>0</td>\n",
       "      <td>70435</td>\n",
       "      <td>2016-04-07 03:16:57</td>\n",
       "    </tr>\n",
       "    <tr>\n",
       "      <td>1</td>\n",
       "      <td>2016-03-24 10:58:45</td>\n",
       "      <td>18300</td>\n",
       "      <td>coupe</td>\n",
       "      <td>2011</td>\n",
       "      <td>manual</td>\n",
       "      <td>190</td>\n",
       "      <td>NaN</td>\n",
       "      <td>125000</td>\n",
       "      <td>5</td>\n",
       "      <td>gasoline</td>\n",
       "      <td>audi</td>\n",
       "      <td>yes</td>\n",
       "      <td>2016-03-24 00:00:00</td>\n",
       "      <td>0</td>\n",
       "      <td>66954</td>\n",
       "      <td>2016-04-07 01:46:50</td>\n",
       "    </tr>\n",
       "    <tr>\n",
       "      <td>2</td>\n",
       "      <td>2016-03-14 12:52:21</td>\n",
       "      <td>9800</td>\n",
       "      <td>suv</td>\n",
       "      <td>2004</td>\n",
       "      <td>auto</td>\n",
       "      <td>163</td>\n",
       "      <td>grand</td>\n",
       "      <td>125000</td>\n",
       "      <td>8</td>\n",
       "      <td>gasoline</td>\n",
       "      <td>jeep</td>\n",
       "      <td>NaN</td>\n",
       "      <td>2016-03-14 00:00:00</td>\n",
       "      <td>0</td>\n",
       "      <td>90480</td>\n",
       "      <td>2016-04-05 12:47:46</td>\n",
       "    </tr>\n",
       "    <tr>\n",
       "      <td>3</td>\n",
       "      <td>2016-03-17 16:54:04</td>\n",
       "      <td>1500</td>\n",
       "      <td>small</td>\n",
       "      <td>2001</td>\n",
       "      <td>manual</td>\n",
       "      <td>75</td>\n",
       "      <td>golf</td>\n",
       "      <td>150000</td>\n",
       "      <td>6</td>\n",
       "      <td>petrol</td>\n",
       "      <td>volkswagen</td>\n",
       "      <td>no</td>\n",
       "      <td>2016-03-17 00:00:00</td>\n",
       "      <td>0</td>\n",
       "      <td>91074</td>\n",
       "      <td>2016-03-17 17:40:17</td>\n",
       "    </tr>\n",
       "    <tr>\n",
       "      <td>4</td>\n",
       "      <td>2016-03-31 17:25:20</td>\n",
       "      <td>3600</td>\n",
       "      <td>small</td>\n",
       "      <td>2008</td>\n",
       "      <td>manual</td>\n",
       "      <td>69</td>\n",
       "      <td>fabia</td>\n",
       "      <td>90000</td>\n",
       "      <td>7</td>\n",
       "      <td>gasoline</td>\n",
       "      <td>skoda</td>\n",
       "      <td>no</td>\n",
       "      <td>2016-03-31 00:00:00</td>\n",
       "      <td>0</td>\n",
       "      <td>60437</td>\n",
       "      <td>2016-04-06 10:17:21</td>\n",
       "    </tr>\n",
       "  </tbody>\n",
       "</table>\n",
       "</div>"
      ],
      "text/plain": [
       "           DateCrawled  Price VehicleType  RegistrationYear Gearbox  Power  \\\n",
       "0  2016-03-24 11:52:17    480         NaN              1993  manual      0   \n",
       "1  2016-03-24 10:58:45  18300       coupe              2011  manual    190   \n",
       "2  2016-03-14 12:52:21   9800         suv              2004    auto    163   \n",
       "3  2016-03-17 16:54:04   1500       small              2001  manual     75   \n",
       "4  2016-03-31 17:25:20   3600       small              2008  manual     69   \n",
       "\n",
       "   Model  Kilometer  RegistrationMonth  FuelType       Brand NotRepaired  \\\n",
       "0   golf     150000                  0    petrol  volkswagen         NaN   \n",
       "1    NaN     125000                  5  gasoline        audi         yes   \n",
       "2  grand     125000                  8  gasoline        jeep         NaN   \n",
       "3   golf     150000                  6    petrol  volkswagen          no   \n",
       "4  fabia      90000                  7  gasoline       skoda          no   \n",
       "\n",
       "           DateCreated  NumberOfPictures  PostalCode             LastSeen  \n",
       "0  2016-03-24 00:00:00                 0       70435  2016-04-07 03:16:57  \n",
       "1  2016-03-24 00:00:00                 0       66954  2016-04-07 01:46:50  \n",
       "2  2016-03-14 00:00:00                 0       90480  2016-04-05 12:47:46  \n",
       "3  2016-03-17 00:00:00                 0       91074  2016-03-17 17:40:17  \n",
       "4  2016-03-31 00:00:00                 0       60437  2016-04-06 10:17:21  "
      ]
     },
     "execution_count": 3,
     "metadata": {},
     "output_type": "execute_result"
    }
   ],
   "source": [
    "data.info()\n",
    "data.head()"
   ]
  },
  {
   "cell_type": "code",
   "execution_count": 4,
   "metadata": {},
   "outputs": [
    {
     "data": {
      "text/html": [
       "<div>\n",
       "<style scoped>\n",
       "    .dataframe tbody tr th:only-of-type {\n",
       "        vertical-align: middle;\n",
       "    }\n",
       "\n",
       "    .dataframe tbody tr th {\n",
       "        vertical-align: top;\n",
       "    }\n",
       "\n",
       "    .dataframe thead th {\n",
       "        text-align: right;\n",
       "    }\n",
       "</style>\n",
       "<table border=\"1\" class=\"dataframe\">\n",
       "  <thead>\n",
       "    <tr style=\"text-align: right;\">\n",
       "      <th></th>\n",
       "      <th>Price</th>\n",
       "      <th>RegistrationYear</th>\n",
       "      <th>Power</th>\n",
       "      <th>Kilometer</th>\n",
       "      <th>RegistrationMonth</th>\n",
       "      <th>NumberOfPictures</th>\n",
       "      <th>PostalCode</th>\n",
       "    </tr>\n",
       "  </thead>\n",
       "  <tbody>\n",
       "    <tr>\n",
       "      <td>count</td>\n",
       "      <td>354369.000000</td>\n",
       "      <td>354369.000000</td>\n",
       "      <td>354369.000000</td>\n",
       "      <td>354369.000000</td>\n",
       "      <td>354369.000000</td>\n",
       "      <td>354369.0</td>\n",
       "      <td>354369.000000</td>\n",
       "    </tr>\n",
       "    <tr>\n",
       "      <td>mean</td>\n",
       "      <td>4416.656776</td>\n",
       "      <td>2004.234448</td>\n",
       "      <td>110.094337</td>\n",
       "      <td>128211.172535</td>\n",
       "      <td>5.714645</td>\n",
       "      <td>0.0</td>\n",
       "      <td>50508.689087</td>\n",
       "    </tr>\n",
       "    <tr>\n",
       "      <td>std</td>\n",
       "      <td>4514.158514</td>\n",
       "      <td>90.227958</td>\n",
       "      <td>189.850405</td>\n",
       "      <td>37905.341530</td>\n",
       "      <td>3.726421</td>\n",
       "      <td>0.0</td>\n",
       "      <td>25783.096248</td>\n",
       "    </tr>\n",
       "    <tr>\n",
       "      <td>min</td>\n",
       "      <td>0.000000</td>\n",
       "      <td>1000.000000</td>\n",
       "      <td>0.000000</td>\n",
       "      <td>5000.000000</td>\n",
       "      <td>0.000000</td>\n",
       "      <td>0.0</td>\n",
       "      <td>1067.000000</td>\n",
       "    </tr>\n",
       "    <tr>\n",
       "      <td>25%</td>\n",
       "      <td>1050.000000</td>\n",
       "      <td>1999.000000</td>\n",
       "      <td>69.000000</td>\n",
       "      <td>125000.000000</td>\n",
       "      <td>3.000000</td>\n",
       "      <td>0.0</td>\n",
       "      <td>30165.000000</td>\n",
       "    </tr>\n",
       "    <tr>\n",
       "      <td>50%</td>\n",
       "      <td>2700.000000</td>\n",
       "      <td>2003.000000</td>\n",
       "      <td>105.000000</td>\n",
       "      <td>150000.000000</td>\n",
       "      <td>6.000000</td>\n",
       "      <td>0.0</td>\n",
       "      <td>49413.000000</td>\n",
       "    </tr>\n",
       "    <tr>\n",
       "      <td>75%</td>\n",
       "      <td>6400.000000</td>\n",
       "      <td>2008.000000</td>\n",
       "      <td>143.000000</td>\n",
       "      <td>150000.000000</td>\n",
       "      <td>9.000000</td>\n",
       "      <td>0.0</td>\n",
       "      <td>71083.000000</td>\n",
       "    </tr>\n",
       "    <tr>\n",
       "      <td>max</td>\n",
       "      <td>20000.000000</td>\n",
       "      <td>9999.000000</td>\n",
       "      <td>20000.000000</td>\n",
       "      <td>150000.000000</td>\n",
       "      <td>12.000000</td>\n",
       "      <td>0.0</td>\n",
       "      <td>99998.000000</td>\n",
       "    </tr>\n",
       "  </tbody>\n",
       "</table>\n",
       "</div>"
      ],
      "text/plain": [
       "               Price  RegistrationYear          Power      Kilometer  \\\n",
       "count  354369.000000     354369.000000  354369.000000  354369.000000   \n",
       "mean     4416.656776       2004.234448     110.094337  128211.172535   \n",
       "std      4514.158514         90.227958     189.850405   37905.341530   \n",
       "min         0.000000       1000.000000       0.000000    5000.000000   \n",
       "25%      1050.000000       1999.000000      69.000000  125000.000000   \n",
       "50%      2700.000000       2003.000000     105.000000  150000.000000   \n",
       "75%      6400.000000       2008.000000     143.000000  150000.000000   \n",
       "max     20000.000000       9999.000000   20000.000000  150000.000000   \n",
       "\n",
       "       RegistrationMonth  NumberOfPictures     PostalCode  \n",
       "count      354369.000000          354369.0  354369.000000  \n",
       "mean            5.714645               0.0   50508.689087  \n",
       "std             3.726421               0.0   25783.096248  \n",
       "min             0.000000               0.0    1067.000000  \n",
       "25%             3.000000               0.0   30165.000000  \n",
       "50%             6.000000               0.0   49413.000000  \n",
       "75%             9.000000               0.0   71083.000000  \n",
       "max            12.000000               0.0   99998.000000  "
      ]
     },
     "execution_count": 4,
     "metadata": {},
     "output_type": "execute_result"
    }
   ],
   "source": [
    "data.describe()"
   ]
  },
  {
   "cell_type": "markdown",
   "metadata": {},
   "source": [
    "Посмотрим количество пропусков в процентном соотношении."
   ]
  },
  {
   "cell_type": "code",
   "execution_count": 5,
   "metadata": {},
   "outputs": [],
   "source": [
    "def search_for_passes(data):\n",
    "    print(\"|{: <20}|\".format(\"Столбец\"),\"{: <20}|\".format(\"количество пропусков\"),\"{: <25}|\".format(\"процент от общего числа\"))\n",
    "    print('-----------------------------------------------------------------------')\n",
    "    for i in data.columns:\n",
    "        if data[i].isna().sum() != 0:\n",
    "            print(\"|{: <20}|\".format(i),\"{: ^20}|\".format(data[i].isna().sum()),\"{: ^25.1%}|\".format(data[i].isna().sum()/data.shape[0]))"
   ]
  },
  {
   "cell_type": "code",
   "execution_count": 6,
   "metadata": {},
   "outputs": [
    {
     "name": "stdout",
     "output_type": "stream",
     "text": [
      "|Столбец             | количество пропусков| процент от общего числа  |\n",
      "-----------------------------------------------------------------------\n",
      "|VehicleType         |        37490        |           10.6%          |\n",
      "|Gearbox             |        19833        |           5.6%           |\n",
      "|Model               |        19705        |           5.6%           |\n",
      "|FuelType            |        32895        |           9.3%           |\n",
      "|NotRepaired         |        71154        |           20.1%          |\n"
     ]
    }
   ],
   "source": [
    "search_for_passes(data)"
   ]
  },
  {
   "cell_type": "markdown",
   "metadata": {},
   "source": [
    "В данных мощности двигателя есть нулевые значения и  неестественно большие значения, изучим данные подробнее."
   ]
  },
  {
   "cell_type": "code",
   "execution_count": 7,
   "metadata": {},
   "outputs": [
    {
     "data": {
      "image/png": "[encoded data removed]",
      "text/plain": [
       "<Figure size 432x288 with 1 Axes>"
      ]
     },
     "metadata": {
      "needs_background": "light"
     },
     "output_type": "display_data"
    }
   ],
   "source": [
    "sns.boxplot(x=data['Power'])\n",
    "plt.xlim([0,2000])\n",
    "plt.title('Распределение по мощности')\n",
    "plt.show()"
   ]
  },
  {
   "cell_type": "code",
   "execution_count": 8,
   "metadata": {},
   "outputs": [
    {
     "data": {
      "image/png": "[encoded data removed]",
      "text/plain": [
       "<Figure size 432x288 with 1 Axes>"
      ]
     },
     "metadata": {
      "needs_background": "light"
     },
     "output_type": "display_data"
    }
   ],
   "source": [
    "data.hist('Power',bins=100, range = (0,500))\n",
    "plt.xlabel('Мощность')\n",
    "plt.ylabel('Кол-во автомобилей')\n",
    "plt.title('Распределение по мощности')\n",
    "plt.show()"
   ]
  },
  {
   "cell_type": "markdown",
   "metadata": {},
   "source": [
    "Нулевые значения и зачения больше 1000 л.с будем считать выбросами и заменим средними значениями по моделям."
   ]
  },
  {
   "cell_type": "code",
   "execution_count": 9,
   "metadata": {},
   "outputs": [
    {
     "data": {
      "text/html": [
       "<div>\n",
       "<style scoped>\n",
       "    .dataframe tbody tr th:only-of-type {\n",
       "        vertical-align: middle;\n",
       "    }\n",
       "\n",
       "    .dataframe tbody tr th {\n",
       "        vertical-align: top;\n",
       "    }\n",
       "\n",
       "    .dataframe thead th {\n",
       "        text-align: right;\n",
       "    }\n",
       "</style>\n",
       "<table border=\"1\" class=\"dataframe\">\n",
       "  <thead>\n",
       "    <tr style=\"text-align: right;\">\n",
       "      <th></th>\n",
       "      <th>Brand</th>\n",
       "      <th>Model</th>\n",
       "      <th>Power_mean</th>\n",
       "    </tr>\n",
       "  </thead>\n",
       "  <tbody>\n",
       "    <tr>\n",
       "      <td>0</td>\n",
       "      <td>alfa_romeo</td>\n",
       "      <td>145</td>\n",
       "      <td>103.0</td>\n",
       "    </tr>\n",
       "    <tr>\n",
       "      <td>1</td>\n",
       "      <td>alfa_romeo</td>\n",
       "      <td>147</td>\n",
       "      <td>120.0</td>\n",
       "    </tr>\n",
       "    <tr>\n",
       "      <td>2</td>\n",
       "      <td>alfa_romeo</td>\n",
       "      <td>156</td>\n",
       "      <td>150.0</td>\n",
       "    </tr>\n",
       "    <tr>\n",
       "      <td>3</td>\n",
       "      <td>alfa_romeo</td>\n",
       "      <td>159</td>\n",
       "      <td>165.0</td>\n",
       "    </tr>\n",
       "    <tr>\n",
       "      <td>4</td>\n",
       "      <td>alfa_romeo</td>\n",
       "      <td>other</td>\n",
       "      <td>150.0</td>\n",
       "    </tr>\n",
       "    <tr>\n",
       "      <td>...</td>\n",
       "      <td>...</td>\n",
       "      <td>...</td>\n",
       "      <td>...</td>\n",
       "    </tr>\n",
       "    <tr>\n",
       "      <td>292</td>\n",
       "      <td>volvo</td>\n",
       "      <td>v40</td>\n",
       "      <td>116.0</td>\n",
       "    </tr>\n",
       "    <tr>\n",
       "      <td>293</td>\n",
       "      <td>volvo</td>\n",
       "      <td>v50</td>\n",
       "      <td>136.0</td>\n",
       "    </tr>\n",
       "    <tr>\n",
       "      <td>294</td>\n",
       "      <td>volvo</td>\n",
       "      <td>v60</td>\n",
       "      <td>163.0</td>\n",
       "    </tr>\n",
       "    <tr>\n",
       "      <td>295</td>\n",
       "      <td>volvo</td>\n",
       "      <td>v70</td>\n",
       "      <td>163.0</td>\n",
       "    </tr>\n",
       "    <tr>\n",
       "      <td>296</td>\n",
       "      <td>volvo</td>\n",
       "      <td>xc_reihe</td>\n",
       "      <td>185.0</td>\n",
       "    </tr>\n",
       "  </tbody>\n",
       "</table>\n",
       "<p>297 rows × 3 columns</p>\n",
       "</div>"
      ],
      "text/plain": [
       "          Brand     Model  Power_mean\n",
       "0    alfa_romeo       145       103.0\n",
       "1    alfa_romeo       147       120.0\n",
       "2    alfa_romeo       156       150.0\n",
       "3    alfa_romeo       159       165.0\n",
       "4    alfa_romeo     other       150.0\n",
       "..          ...       ...         ...\n",
       "292       volvo       v40       116.0\n",
       "293       volvo       v50       136.0\n",
       "294       volvo       v60       163.0\n",
       "295       volvo       v70       163.0\n",
       "296       volvo  xc_reihe       185.0\n",
       "\n",
       "[297 rows x 3 columns]"
      ]
     },
     "execution_count": 9,
     "metadata": {},
     "output_type": "execute_result"
    }
   ],
   "source": [
    "data_power = data.groupby(['Brand', 'Model'])['Power'].median().reset_index()\n",
    "data_power = data_power.rename(columns={\"Power\": \"Power_mean\"})\n",
    "data_power"
   ]
  },
  {
   "cell_type": "code",
   "execution_count": 10,
   "metadata": {},
   "outputs": [
    {
     "data": {
      "text/html": [
       "<div>\n",
       "<style scoped>\n",
       "    .dataframe tbody tr th:only-of-type {\n",
       "        vertical-align: middle;\n",
       "    }\n",
       "\n",
       "    .dataframe tbody tr th {\n",
       "        vertical-align: top;\n",
       "    }\n",
       "\n",
       "    .dataframe thead th {\n",
       "        text-align: right;\n",
       "    }\n",
       "</style>\n",
       "<table border=\"1\" class=\"dataframe\">\n",
       "  <thead>\n",
       "    <tr style=\"text-align: right;\">\n",
       "      <th></th>\n",
       "      <th>DateCrawled</th>\n",
       "      <th>Price</th>\n",
       "      <th>VehicleType</th>\n",
       "      <th>RegistrationYear</th>\n",
       "      <th>Gearbox</th>\n",
       "      <th>Power</th>\n",
       "      <th>Model</th>\n",
       "      <th>Kilometer</th>\n",
       "      <th>RegistrationMonth</th>\n",
       "      <th>FuelType</th>\n",
       "      <th>Brand</th>\n",
       "      <th>NotRepaired</th>\n",
       "      <th>DateCreated</th>\n",
       "      <th>NumberOfPictures</th>\n",
       "      <th>PostalCode</th>\n",
       "      <th>LastSeen</th>\n",
       "      <th>Power_mean</th>\n",
       "    </tr>\n",
       "  </thead>\n",
       "  <tbody>\n",
       "    <tr>\n",
       "      <td>0</td>\n",
       "      <td>2016-03-24 11:52:17</td>\n",
       "      <td>480</td>\n",
       "      <td>NaN</td>\n",
       "      <td>1993</td>\n",
       "      <td>manual</td>\n",
       "      <td>0</td>\n",
       "      <td>golf</td>\n",
       "      <td>150000</td>\n",
       "      <td>0</td>\n",
       "      <td>petrol</td>\n",
       "      <td>volkswagen</td>\n",
       "      <td>NaN</td>\n",
       "      <td>2016-03-24 00:00:00</td>\n",
       "      <td>0</td>\n",
       "      <td>70435</td>\n",
       "      <td>2016-04-07 03:16:57</td>\n",
       "      <td>95.0</td>\n",
       "    </tr>\n",
       "    <tr>\n",
       "      <td>1</td>\n",
       "      <td>2016-03-17 16:54:04</td>\n",
       "      <td>1500</td>\n",
       "      <td>small</td>\n",
       "      <td>2001</td>\n",
       "      <td>manual</td>\n",
       "      <td>75</td>\n",
       "      <td>golf</td>\n",
       "      <td>150000</td>\n",
       "      <td>6</td>\n",
       "      <td>petrol</td>\n",
       "      <td>volkswagen</td>\n",
       "      <td>no</td>\n",
       "      <td>2016-03-17 00:00:00</td>\n",
       "      <td>0</td>\n",
       "      <td>91074</td>\n",
       "      <td>2016-03-17 17:40:17</td>\n",
       "      <td>95.0</td>\n",
       "    </tr>\n",
       "    <tr>\n",
       "      <td>2</td>\n",
       "      <td>2016-03-17 10:53:50</td>\n",
       "      <td>999</td>\n",
       "      <td>small</td>\n",
       "      <td>1998</td>\n",
       "      <td>manual</td>\n",
       "      <td>101</td>\n",
       "      <td>golf</td>\n",
       "      <td>150000</td>\n",
       "      <td>0</td>\n",
       "      <td>NaN</td>\n",
       "      <td>volkswagen</td>\n",
       "      <td>NaN</td>\n",
       "      <td>2016-03-17 00:00:00</td>\n",
       "      <td>0</td>\n",
       "      <td>27472</td>\n",
       "      <td>2016-03-31 17:17:06</td>\n",
       "      <td>95.0</td>\n",
       "    </tr>\n",
       "    <tr>\n",
       "      <td>3</td>\n",
       "      <td>2016-03-15 20:59:01</td>\n",
       "      <td>245</td>\n",
       "      <td>sedan</td>\n",
       "      <td>1994</td>\n",
       "      <td>NaN</td>\n",
       "      <td>0</td>\n",
       "      <td>golf</td>\n",
       "      <td>150000</td>\n",
       "      <td>2</td>\n",
       "      <td>petrol</td>\n",
       "      <td>volkswagen</td>\n",
       "      <td>no</td>\n",
       "      <td>2016-03-15 00:00:00</td>\n",
       "      <td>0</td>\n",
       "      <td>44145</td>\n",
       "      <td>2016-03-17 18:17:43</td>\n",
       "      <td>95.0</td>\n",
       "    </tr>\n",
       "    <tr>\n",
       "      <td>4</td>\n",
       "      <td>2016-03-08 07:54:46</td>\n",
       "      <td>350</td>\n",
       "      <td>NaN</td>\n",
       "      <td>2016</td>\n",
       "      <td>manual</td>\n",
       "      <td>75</td>\n",
       "      <td>golf</td>\n",
       "      <td>150000</td>\n",
       "      <td>4</td>\n",
       "      <td>petrol</td>\n",
       "      <td>volkswagen</td>\n",
       "      <td>no</td>\n",
       "      <td>2016-03-08 00:00:00</td>\n",
       "      <td>0</td>\n",
       "      <td>19386</td>\n",
       "      <td>2016-03-08 09:44:50</td>\n",
       "      <td>95.0</td>\n",
       "    </tr>\n",
       "  </tbody>\n",
       "</table>\n",
       "</div>"
      ],
      "text/plain": [
       "           DateCrawled  Price VehicleType  RegistrationYear Gearbox  Power  \\\n",
       "0  2016-03-24 11:52:17    480         NaN              1993  manual      0   \n",
       "1  2016-03-17 16:54:04   1500       small              2001  manual     75   \n",
       "2  2016-03-17 10:53:50    999       small              1998  manual    101   \n",
       "3  2016-03-15 20:59:01    245       sedan              1994     NaN      0   \n",
       "4  2016-03-08 07:54:46    350         NaN              2016  manual     75   \n",
       "\n",
       "  Model  Kilometer  RegistrationMonth FuelType       Brand NotRepaired  \\\n",
       "0  golf     150000                  0   petrol  volkswagen         NaN   \n",
       "1  golf     150000                  6   petrol  volkswagen          no   \n",
       "2  golf     150000                  0      NaN  volkswagen         NaN   \n",
       "3  golf     150000                  2   petrol  volkswagen          no   \n",
       "4  golf     150000                  4   petrol  volkswagen          no   \n",
       "\n",
       "           DateCreated  NumberOfPictures  PostalCode             LastSeen  \\\n",
       "0  2016-03-24 00:00:00                 0       70435  2016-04-07 03:16:57   \n",
       "1  2016-03-17 00:00:00                 0       91074  2016-03-17 17:40:17   \n",
       "2  2016-03-17 00:00:00                 0       27472  2016-03-31 17:17:06   \n",
       "3  2016-03-15 00:00:00                 0       44145  2016-03-17 18:17:43   \n",
       "4  2016-03-08 00:00:00                 0       19386  2016-03-08 09:44:50   \n",
       "\n",
       "   Power_mean  \n",
       "0        95.0  \n",
       "1        95.0  \n",
       "2        95.0  \n",
       "3        95.0  \n",
       "4        95.0  "
      ]
     },
     "execution_count": 10,
     "metadata": {},
     "output_type": "execute_result"
    }
   ],
   "source": [
    "data = data.merge(data_power, how='outer',on = ['Model','Brand'])\n",
    "data.head()"
   ]
  },
  {
   "cell_type": "code",
   "execution_count": 11,
   "metadata": {},
   "outputs": [
    {
     "data": {
      "text/html": [
       "<div>\n",
       "<style scoped>\n",
       "    .dataframe tbody tr th:only-of-type {\n",
       "        vertical-align: middle;\n",
       "    }\n",
       "\n",
       "    .dataframe tbody tr th {\n",
       "        vertical-align: top;\n",
       "    }\n",
       "\n",
       "    .dataframe thead th {\n",
       "        text-align: right;\n",
       "    }\n",
       "</style>\n",
       "<table border=\"1\" class=\"dataframe\">\n",
       "  <thead>\n",
       "    <tr style=\"text-align: right;\">\n",
       "      <th></th>\n",
       "      <th>DateCrawled</th>\n",
       "      <th>Price</th>\n",
       "      <th>VehicleType</th>\n",
       "      <th>RegistrationYear</th>\n",
       "      <th>Gearbox</th>\n",
       "      <th>Power</th>\n",
       "      <th>Model</th>\n",
       "      <th>Kilometer</th>\n",
       "      <th>RegistrationMonth</th>\n",
       "      <th>FuelType</th>\n",
       "      <th>Brand</th>\n",
       "      <th>NotRepaired</th>\n",
       "      <th>DateCreated</th>\n",
       "      <th>NumberOfPictures</th>\n",
       "      <th>PostalCode</th>\n",
       "      <th>LastSeen</th>\n",
       "      <th>Power_mean</th>\n",
       "    </tr>\n",
       "  </thead>\n",
       "  <tbody>\n",
       "    <tr>\n",
       "      <td>0</td>\n",
       "      <td>2016-03-24 11:52:17</td>\n",
       "      <td>480</td>\n",
       "      <td>NaN</td>\n",
       "      <td>1993</td>\n",
       "      <td>manual</td>\n",
       "      <td>95.0</td>\n",
       "      <td>golf</td>\n",
       "      <td>150000</td>\n",
       "      <td>0</td>\n",
       "      <td>petrol</td>\n",
       "      <td>volkswagen</td>\n",
       "      <td>NaN</td>\n",
       "      <td>2016-03-24 00:00:00</td>\n",
       "      <td>0</td>\n",
       "      <td>70435</td>\n",
       "      <td>2016-04-07 03:16:57</td>\n",
       "      <td>95.0</td>\n",
       "    </tr>\n",
       "    <tr>\n",
       "      <td>1</td>\n",
       "      <td>2016-03-17 16:54:04</td>\n",
       "      <td>1500</td>\n",
       "      <td>small</td>\n",
       "      <td>2001</td>\n",
       "      <td>manual</td>\n",
       "      <td>75.0</td>\n",
       "      <td>golf</td>\n",
       "      <td>150000</td>\n",
       "      <td>6</td>\n",
       "      <td>petrol</td>\n",
       "      <td>volkswagen</td>\n",
       "      <td>no</td>\n",
       "      <td>2016-03-17 00:00:00</td>\n",
       "      <td>0</td>\n",
       "      <td>91074</td>\n",
       "      <td>2016-03-17 17:40:17</td>\n",
       "      <td>95.0</td>\n",
       "    </tr>\n",
       "    <tr>\n",
       "      <td>2</td>\n",
       "      <td>2016-03-17 10:53:50</td>\n",
       "      <td>999</td>\n",
       "      <td>small</td>\n",
       "      <td>1998</td>\n",
       "      <td>manual</td>\n",
       "      <td>101.0</td>\n",
       "      <td>golf</td>\n",
       "      <td>150000</td>\n",
       "      <td>0</td>\n",
       "      <td>NaN</td>\n",
       "      <td>volkswagen</td>\n",
       "      <td>NaN</td>\n",
       "      <td>2016-03-17 00:00:00</td>\n",
       "      <td>0</td>\n",
       "      <td>27472</td>\n",
       "      <td>2016-03-31 17:17:06</td>\n",
       "      <td>95.0</td>\n",
       "    </tr>\n",
       "    <tr>\n",
       "      <td>3</td>\n",
       "      <td>2016-03-15 20:59:01</td>\n",
       "      <td>245</td>\n",
       "      <td>sedan</td>\n",
       "      <td>1994</td>\n",
       "      <td>NaN</td>\n",
       "      <td>95.0</td>\n",
       "      <td>golf</td>\n",
       "      <td>150000</td>\n",
       "      <td>2</td>\n",
       "      <td>petrol</td>\n",
       "      <td>volkswagen</td>\n",
       "      <td>no</td>\n",
       "      <td>2016-03-15 00:00:00</td>\n",
       "      <td>0</td>\n",
       "      <td>44145</td>\n",
       "      <td>2016-03-17 18:17:43</td>\n",
       "      <td>95.0</td>\n",
       "    </tr>\n",
       "    <tr>\n",
       "      <td>4</td>\n",
       "      <td>2016-03-08 07:54:46</td>\n",
       "      <td>350</td>\n",
       "      <td>NaN</td>\n",
       "      <td>2016</td>\n",
       "      <td>manual</td>\n",
       "      <td>75.0</td>\n",
       "      <td>golf</td>\n",
       "      <td>150000</td>\n",
       "      <td>4</td>\n",
       "      <td>petrol</td>\n",
       "      <td>volkswagen</td>\n",
       "      <td>no</td>\n",
       "      <td>2016-03-08 00:00:00</td>\n",
       "      <td>0</td>\n",
       "      <td>19386</td>\n",
       "      <td>2016-03-08 09:44:50</td>\n",
       "      <td>95.0</td>\n",
       "    </tr>\n",
       "  </tbody>\n",
       "</table>\n",
       "</div>"
      ],
      "text/plain": [
       "           DateCrawled  Price VehicleType  RegistrationYear Gearbox  Power  \\\n",
       "0  2016-03-24 11:52:17    480         NaN              1993  manual   95.0   \n",
       "1  2016-03-17 16:54:04   1500       small              2001  manual   75.0   \n",
       "2  2016-03-17 10:53:50    999       small              1998  manual  101.0   \n",
       "3  2016-03-15 20:59:01    245       sedan              1994     NaN   95.0   \n",
       "4  2016-03-08 07:54:46    350         NaN              2016  manual   75.0   \n",
       "\n",
       "  Model  Kilometer  RegistrationMonth FuelType       Brand NotRepaired  \\\n",
       "0  golf     150000                  0   petrol  volkswagen         NaN   \n",
       "1  golf     150000                  6   petrol  volkswagen          no   \n",
       "2  golf     150000                  0      NaN  volkswagen         NaN   \n",
       "3  golf     150000                  2   petrol  volkswagen          no   \n",
       "4  golf     150000                  4   petrol  volkswagen          no   \n",
       "\n",
       "           DateCreated  NumberOfPictures  PostalCode             LastSeen  \\\n",
       "0  2016-03-24 00:00:00                 0       70435  2016-04-07 03:16:57   \n",
       "1  2016-03-17 00:00:00                 0       91074  2016-03-17 17:40:17   \n",
       "2  2016-03-17 00:00:00                 0       27472  2016-03-31 17:17:06   \n",
       "3  2016-03-15 00:00:00                 0       44145  2016-03-17 18:17:43   \n",
       "4  2016-03-08 00:00:00                 0       19386  2016-03-08 09:44:50   \n",
       "\n",
       "   Power_mean  \n",
       "0        95.0  \n",
       "1        95.0  \n",
       "2        95.0  \n",
       "3        95.0  \n",
       "4        95.0  "
      ]
     },
     "execution_count": 11,
     "metadata": {},
     "output_type": "execute_result"
    }
   ],
   "source": [
    "data['Power'] = data['Power'].where(data['Power'] != 0, data['Power_mean'])\n",
    "data['Power'] = data['Power'].where(data['Power'] < 1000, data['Power_mean'])\n",
    "data.head()"
   ]
  },
  {
   "cell_type": "markdown",
   "metadata": {},
   "source": [
    "Оставшиеся 0 заменим на пропуски и удалим."
   ]
  },
  {
   "cell_type": "code",
   "execution_count": 12,
   "metadata": {},
   "outputs": [],
   "source": [
    "data['Power'] = data['Power'].replace(0, np.nan)\n",
    "data.dropna(inplace=True)"
   ]
  },
  {
   "cell_type": "markdown",
   "metadata": {},
   "source": [
    "Заменим пропуски в типах автомобильного кузова, в соотвествии с моделью автомобиля."
   ]
  },
  {
   "cell_type": "code",
   "execution_count": 13,
   "metadata": {},
   "outputs": [],
   "source": [
    "models_vehType = data.groupby(\"Model\")['VehicleType'].agg(lambda x:x.value_counts().index[0]).to_dict()\n",
    "\n",
    "def VehicleType_change(row):\n",
    "\n",
    "    model = row[\"Model\"]\n",
    "    veh_Type = row[\"VehicleType\"]\n",
    "    \n",
    "    if model == \"None\" and veh_Type == \"None\":\n",
    "        return \"None\"\n",
    "    elif model == \"None\" and veh_Type != \"None\":\n",
    "        return veh_Type\n",
    "    \n",
    "    return models_vehType[model]\n",
    "\n",
    "\n",
    "data[\"Model\"] = data[\"Model\"].fillna(\"None\")\n",
    "data[\"VehicleType\"] = data[\"VehicleType\"].fillna(\"None\")\n",
    "\n",
    "data[\"VehicleType\"] = data[[\"VehicleType\", \"Model\"]].apply(VehicleType_change, axis=1)"
   ]
  },
  {
   "cell_type": "markdown",
   "metadata": {},
   "source": [
    "Если NotRepaired пропущено, считаем, что продавец имеет ввиду отсутствие ремонта"
   ]
  },
  {
   "cell_type": "code",
   "execution_count": 14,
   "metadata": {},
   "outputs": [],
   "source": [
    "data[\"NotRepaired\"].fillna(\"no\", inplace=True)"
   ]
  },
  {
   "cell_type": "markdown",
   "metadata": {},
   "source": [
    "Остальные пропущенные значения удалим."
   ]
  },
  {
   "cell_type": "code",
   "execution_count": 15,
   "metadata": {},
   "outputs": [],
   "source": [
    "data.dropna(inplace=True)"
   ]
  },
  {
   "cell_type": "markdown",
   "metadata": {},
   "source": [
    "Проверим наличие дубликатов, и если они есть удалим их."
   ]
  },
  {
   "cell_type": "code",
   "execution_count": 16,
   "metadata": {},
   "outputs": [
    {
     "data": {
      "text/plain": [
       "4"
      ]
     },
     "execution_count": 16,
     "metadata": {},
     "output_type": "execute_result"
    }
   ],
   "source": [
    "data.duplicated().sum()"
   ]
  },
  {
   "cell_type": "code",
   "execution_count": 17,
   "metadata": {},
   "outputs": [],
   "source": [
    "data=data.drop_duplicates().reset_index(drop=True)"
   ]
  },
  {
   "cell_type": "markdown",
   "metadata": {},
   "source": [
    "Изучим данные с ценой автомобиля."
   ]
  },
  {
   "cell_type": "code",
   "execution_count": 18,
   "metadata": {},
   "outputs": [
    {
     "data": {
      "image/png": "[encoded data removed]",
      "text/plain": [
       "<Figure size 432x288 with 1 Axes>"
      ]
     },
     "metadata": {
      "needs_background": "light"
     },
     "output_type": "display_data"
    }
   ],
   "source": [
    "sns.boxplot(x=data['Price'])\n",
    "plt.xlim([0,21000])\n",
    "plt.title('Распределение цен')\n",
    "plt.show()"
   ]
  },
  {
   "cell_type": "code",
   "execution_count": 19,
   "metadata": {},
   "outputs": [
    {
     "data": {
      "image/png": "[encoded data removed]",
      "text/plain": [
       "<Figure size 432x288 with 1 Axes>"
      ]
     },
     "metadata": {
      "needs_background": "light"
     },
     "output_type": "display_data"
    }
   ],
   "source": [
    "data.hist('Price',bins=100, range = (0,20000))\n",
    "plt.xlabel('Цена')\n",
    "plt.ylabel('Кол-во автомобилей')\n",
    "plt.title('Распределение по ценам')\n",
    "plt.show()"
   ]
  },
  {
   "cell_type": "markdown",
   "metadata": {},
   "source": [
    "В ценах на автомобиле присутствуют нулевые значения, удалим их, предварительно, замнив их на пропуски."
   ]
  },
  {
   "cell_type": "code",
   "execution_count": 20,
   "metadata": {},
   "outputs": [],
   "source": [
    "data['Price'] = data['Price'].replace(0, np.nan)\n",
    "data.dropna(inplace=True)"
   ]
  },
  {
   "cell_type": "markdown",
   "metadata": {},
   "source": [
    "Избавимся от аномалий в значениях года регистрации автомобиля. "
   ]
  },
  {
   "cell_type": "code",
   "execution_count": 21,
   "metadata": {},
   "outputs": [
    {
     "data": {
      "image/png": "[encoded data removed]",
      "text/plain": [
       "<Figure size 432x288 with 1 Axes>"
      ]
     },
     "metadata": {
      "needs_background": "light"
     },
     "output_type": "display_data"
    }
   ],
   "source": [
    "data.hist('RegistrationYear',bins=50, range = (1920,2020))\n",
    "plt.xlabel('Год регистрации')\n",
    "plt.ylabel('Кол-во автомобилей')\n",
    "plt.title('Распределение по году регистрации')\n",
    "plt.show()"
   ]
  },
  {
   "cell_type": "code",
   "execution_count": 22,
   "metadata": {},
   "outputs": [
    {
     "data": {
      "image/png": "[encoded data removed]",
      "text/plain": [
       "<Figure size 432x288 with 1 Axes>"
      ]
     },
     "metadata": {
      "needs_background": "light"
     },
     "output_type": "display_data"
    }
   ],
   "source": [
    "sns.boxplot(x=data['RegistrationYear'])\n",
    "plt.xlim([1920,2020])\n",
    "plt.title('Распределение по году регистрации')\n",
    "plt.show()"
   ]
  },
  {
   "cell_type": "code",
   "execution_count": 23,
   "metadata": {},
   "outputs": [],
   "source": [
    "P = [1900, 2021]\n",
    "data = data[(data['RegistrationYear'] >= P[0]) & (data['RegistrationYear'] <= P[1])]"
   ]
  },
  {
   "cell_type": "markdown",
   "metadata": {},
   "source": [
    "Дата скачивания анкеты из базы и дата создания анкеты практически не отличаются, поэтому сохранять оба столбца не имеет смысла - удалим DateCrawled. Так же удалим данные не влияющие на формирование цены, это дата последней активности пользователя."
   ]
  },
  {
   "cell_type": "code",
   "execution_count": 24,
   "metadata": {},
   "outputs": [],
   "source": [
    "data.drop(['DateCrawled','LastSeen','Power_mean'], axis=1, inplace=True)"
   ]
  },
  {
   "cell_type": "markdown",
   "metadata": {},
   "source": [
    "Добавим столбец день недели, месяц и год создания объвления"
   ]
  },
  {
   "cell_type": "code",
   "execution_count": 25,
   "metadata": {},
   "outputs": [],
   "source": [
    "data[\"DateCreated\"] = pd.to_datetime(data[\"DateCreated\"]).dt.round(\"D\")\n",
    "data[\"weekday\"] = data[\"DateCreated\"].dt.weekday\n",
    "data[\"month\"] = data[\"DateCreated\"].dt.month\n",
    "data[\"year\"] = data[\"DateCreated\"].dt.year\n",
    "\n",
    "data.drop('DateCreated', axis=1, inplace=True)"
   ]
  },
  {
   "cell_type": "markdown",
   "metadata": {},
   "source": [
    "Проверим данные на мультиколлинеарность."
   ]
  },
  {
   "cell_type": "code",
   "execution_count": 26,
   "metadata": {},
   "outputs": [
    {
     "data": {
      "text/html": [
       "<div>\n",
       "<style scoped>\n",
       "    .dataframe tbody tr th:only-of-type {\n",
       "        vertical-align: middle;\n",
       "    }\n",
       "\n",
       "    .dataframe tbody tr th {\n",
       "        vertical-align: top;\n",
       "    }\n",
       "\n",
       "    .dataframe thead th {\n",
       "        text-align: right;\n",
       "    }\n",
       "</style>\n",
       "<table border=\"1\" class=\"dataframe\">\n",
       "  <thead>\n",
       "    <tr style=\"text-align: right;\">\n",
       "      <th></th>\n",
       "      <th>Price</th>\n",
       "      <th>RegistrationYear</th>\n",
       "      <th>Power</th>\n",
       "      <th>Kilometer</th>\n",
       "      <th>RegistrationMonth</th>\n",
       "      <th>NumberOfPictures</th>\n",
       "      <th>PostalCode</th>\n",
       "      <th>weekday</th>\n",
       "      <th>month</th>\n",
       "      <th>year</th>\n",
       "    </tr>\n",
       "  </thead>\n",
       "  <tbody>\n",
       "    <tr>\n",
       "      <td>Price</td>\n",
       "      <td>1.000000</td>\n",
       "      <td>0.556227</td>\n",
       "      <td>0.501518</td>\n",
       "      <td>-0.401482</td>\n",
       "      <td>0.040991</td>\n",
       "      <td>NaN</td>\n",
       "      <td>0.062393</td>\n",
       "      <td>0.018368</td>\n",
       "      <td>0.016574</td>\n",
       "      <td>-0.002535</td>\n",
       "    </tr>\n",
       "    <tr>\n",
       "      <td>RegistrationYear</td>\n",
       "      <td>0.556227</td>\n",
       "      <td>1.000000</td>\n",
       "      <td>0.148986</td>\n",
       "      <td>-0.357303</td>\n",
       "      <td>0.033171</td>\n",
       "      <td>NaN</td>\n",
       "      <td>0.033571</td>\n",
       "      <td>0.011504</td>\n",
       "      <td>0.002664</td>\n",
       "      <td>-0.003220</td>\n",
       "    </tr>\n",
       "    <tr>\n",
       "      <td>Power</td>\n",
       "      <td>0.501518</td>\n",
       "      <td>0.148986</td>\n",
       "      <td>1.000000</td>\n",
       "      <td>0.114655</td>\n",
       "      <td>0.030435</td>\n",
       "      <td>NaN</td>\n",
       "      <td>0.051981</td>\n",
       "      <td>-0.004459</td>\n",
       "      <td>0.003970</td>\n",
       "      <td>0.000216</td>\n",
       "    </tr>\n",
       "    <tr>\n",
       "      <td>Kilometer</td>\n",
       "      <td>-0.401482</td>\n",
       "      <td>-0.357303</td>\n",
       "      <td>0.114655</td>\n",
       "      <td>1.000000</td>\n",
       "      <td>-0.006332</td>\n",
       "      <td>NaN</td>\n",
       "      <td>-0.010662</td>\n",
       "      <td>-0.015852</td>\n",
       "      <td>-0.002410</td>\n",
       "      <td>0.005039</td>\n",
       "    </tr>\n",
       "    <tr>\n",
       "      <td>RegistrationMonth</td>\n",
       "      <td>0.040991</td>\n",
       "      <td>0.033171</td>\n",
       "      <td>0.030435</td>\n",
       "      <td>-0.006332</td>\n",
       "      <td>1.000000</td>\n",
       "      <td>NaN</td>\n",
       "      <td>0.002006</td>\n",
       "      <td>0.004014</td>\n",
       "      <td>-0.002449</td>\n",
       "      <td>0.003070</td>\n",
       "    </tr>\n",
       "    <tr>\n",
       "      <td>NumberOfPictures</td>\n",
       "      <td>NaN</td>\n",
       "      <td>NaN</td>\n",
       "      <td>NaN</td>\n",
       "      <td>NaN</td>\n",
       "      <td>NaN</td>\n",
       "      <td>NaN</td>\n",
       "      <td>NaN</td>\n",
       "      <td>NaN</td>\n",
       "      <td>NaN</td>\n",
       "      <td>NaN</td>\n",
       "    </tr>\n",
       "    <tr>\n",
       "      <td>PostalCode</td>\n",
       "      <td>0.062393</td>\n",
       "      <td>0.033571</td>\n",
       "      <td>0.051981</td>\n",
       "      <td>-0.010662</td>\n",
       "      <td>0.002006</td>\n",
       "      <td>NaN</td>\n",
       "      <td>1.000000</td>\n",
       "      <td>0.011654</td>\n",
       "      <td>0.011199</td>\n",
       "      <td>0.002582</td>\n",
       "    </tr>\n",
       "    <tr>\n",
       "      <td>weekday</td>\n",
       "      <td>0.018368</td>\n",
       "      <td>0.011504</td>\n",
       "      <td>-0.004459</td>\n",
       "      <td>-0.015852</td>\n",
       "      <td>0.004014</td>\n",
       "      <td>NaN</td>\n",
       "      <td>0.011654</td>\n",
       "      <td>1.000000</td>\n",
       "      <td>0.123751</td>\n",
       "      <td>-0.000874</td>\n",
       "    </tr>\n",
       "    <tr>\n",
       "      <td>month</td>\n",
       "      <td>0.016574</td>\n",
       "      <td>0.002664</td>\n",
       "      <td>0.003970</td>\n",
       "      <td>-0.002410</td>\n",
       "      <td>-0.002449</td>\n",
       "      <td>NaN</td>\n",
       "      <td>0.011199</td>\n",
       "      <td>0.123751</td>\n",
       "      <td>1.000000</td>\n",
       "      <td>-0.178337</td>\n",
       "    </tr>\n",
       "    <tr>\n",
       "      <td>year</td>\n",
       "      <td>-0.002535</td>\n",
       "      <td>-0.003220</td>\n",
       "      <td>0.000216</td>\n",
       "      <td>0.005039</td>\n",
       "      <td>0.003070</td>\n",
       "      <td>NaN</td>\n",
       "      <td>0.002582</td>\n",
       "      <td>-0.000874</td>\n",
       "      <td>-0.178337</td>\n",
       "      <td>1.000000</td>\n",
       "    </tr>\n",
       "  </tbody>\n",
       "</table>\n",
       "</div>"
      ],
      "text/plain": [
       "                      Price  RegistrationYear     Power  Kilometer  \\\n",
       "Price              1.000000          0.556227  0.501518  -0.401482   \n",
       "RegistrationYear   0.556227          1.000000  0.148986  -0.357303   \n",
       "Power              0.501518          0.148986  1.000000   0.114655   \n",
       "Kilometer         -0.401482         -0.357303  0.114655   1.000000   \n",
       "RegistrationMonth  0.040991          0.033171  0.030435  -0.006332   \n",
       "NumberOfPictures        NaN               NaN       NaN        NaN   \n",
       "PostalCode         0.062393          0.033571  0.051981  -0.010662   \n",
       "weekday            0.018368          0.011504 -0.004459  -0.015852   \n",
       "month              0.016574          0.002664  0.003970  -0.002410   \n",
       "year              -0.002535         -0.003220  0.000216   0.005039   \n",
       "\n",
       "                   RegistrationMonth  NumberOfPictures  PostalCode   weekday  \\\n",
       "Price                       0.040991               NaN    0.062393  0.018368   \n",
       "RegistrationYear            0.033171               NaN    0.033571  0.011504   \n",
       "Power                       0.030435               NaN    0.051981 -0.004459   \n",
       "Kilometer                  -0.006332               NaN   -0.010662 -0.015852   \n",
       "RegistrationMonth           1.000000               NaN    0.002006  0.004014   \n",
       "NumberOfPictures                 NaN               NaN         NaN       NaN   \n",
       "PostalCode                  0.002006               NaN    1.000000  0.011654   \n",
       "weekday                     0.004014               NaN    0.011654  1.000000   \n",
       "month                      -0.002449               NaN    0.011199  0.123751   \n",
       "year                        0.003070               NaN    0.002582 -0.000874   \n",
       "\n",
       "                      month      year  \n",
       "Price              0.016574 -0.002535  \n",
       "RegistrationYear   0.002664 -0.003220  \n",
       "Power              0.003970  0.000216  \n",
       "Kilometer         -0.002410  0.005039  \n",
       "RegistrationMonth -0.002449  0.003070  \n",
       "NumberOfPictures        NaN       NaN  \n",
       "PostalCode         0.011199  0.002582  \n",
       "weekday            0.123751 -0.000874  \n",
       "month              1.000000 -0.178337  \n",
       "year              -0.178337  1.000000  "
      ]
     },
     "execution_count": 26,
     "metadata": {},
     "output_type": "execute_result"
    }
   ],
   "source": [
    "data.corr()"
   ]
  },
  {
   "cell_type": "markdown",
   "metadata": {},
   "source": [
    "Сильных парных линейных связей (т.е. корреляция, >0,7) не наблюдаем."
   ]
  },
  {
   "cell_type": "code",
   "execution_count": 27,
   "metadata": {},
   "outputs": [
    {
     "data": {
      "text/html": [
       "<div>\n",
       "<style scoped>\n",
       "    .dataframe tbody tr th:only-of-type {\n",
       "        vertical-align: middle;\n",
       "    }\n",
       "\n",
       "    .dataframe tbody tr th {\n",
       "        vertical-align: top;\n",
       "    }\n",
       "\n",
       "    .dataframe thead th {\n",
       "        text-align: right;\n",
       "    }\n",
       "</style>\n",
       "<table border=\"1\" class=\"dataframe\">\n",
       "  <thead>\n",
       "    <tr style=\"text-align: right;\">\n",
       "      <th></th>\n",
       "      <th>Price</th>\n",
       "      <th>VehicleType</th>\n",
       "      <th>RegistrationYear</th>\n",
       "      <th>Gearbox</th>\n",
       "      <th>Power</th>\n",
       "      <th>Model</th>\n",
       "      <th>Kilometer</th>\n",
       "      <th>RegistrationMonth</th>\n",
       "      <th>FuelType</th>\n",
       "      <th>Brand</th>\n",
       "      <th>NotRepaired</th>\n",
       "      <th>NumberOfPictures</th>\n",
       "      <th>PostalCode</th>\n",
       "      <th>weekday</th>\n",
       "      <th>month</th>\n",
       "      <th>year</th>\n",
       "    </tr>\n",
       "  </thead>\n",
       "  <tbody>\n",
       "    <tr>\n",
       "      <td>0</td>\n",
       "      <td>1500.0</td>\n",
       "      <td>sedan</td>\n",
       "      <td>2001</td>\n",
       "      <td>manual</td>\n",
       "      <td>75.0</td>\n",
       "      <td>golf</td>\n",
       "      <td>150000</td>\n",
       "      <td>6</td>\n",
       "      <td>petrol</td>\n",
       "      <td>volkswagen</td>\n",
       "      <td>no</td>\n",
       "      <td>0</td>\n",
       "      <td>91074</td>\n",
       "      <td>3</td>\n",
       "      <td>3</td>\n",
       "      <td>2016</td>\n",
       "    </tr>\n",
       "    <tr>\n",
       "      <td>1</td>\n",
       "      <td>1000.0</td>\n",
       "      <td>sedan</td>\n",
       "      <td>1998</td>\n",
       "      <td>manual</td>\n",
       "      <td>101.0</td>\n",
       "      <td>golf</td>\n",
       "      <td>150000</td>\n",
       "      <td>10</td>\n",
       "      <td>petrol</td>\n",
       "      <td>volkswagen</td>\n",
       "      <td>no</td>\n",
       "      <td>0</td>\n",
       "      <td>39624</td>\n",
       "      <td>3</td>\n",
       "      <td>3</td>\n",
       "      <td>2016</td>\n",
       "    </tr>\n",
       "    <tr>\n",
       "      <td>2</td>\n",
       "      <td>6600.0</td>\n",
       "      <td>sedan</td>\n",
       "      <td>2006</td>\n",
       "      <td>manual</td>\n",
       "      <td>105.0</td>\n",
       "      <td>golf</td>\n",
       "      <td>150000</td>\n",
       "      <td>10</td>\n",
       "      <td>gasoline</td>\n",
       "      <td>volkswagen</td>\n",
       "      <td>no</td>\n",
       "      <td>0</td>\n",
       "      <td>41812</td>\n",
       "      <td>3</td>\n",
       "      <td>3</td>\n",
       "      <td>2016</td>\n",
       "    </tr>\n",
       "    <tr>\n",
       "      <td>3</td>\n",
       "      <td>6300.0</td>\n",
       "      <td>sedan</td>\n",
       "      <td>2002</td>\n",
       "      <td>manual</td>\n",
       "      <td>265.0</td>\n",
       "      <td>golf</td>\n",
       "      <td>150000</td>\n",
       "      <td>3</td>\n",
       "      <td>petrol</td>\n",
       "      <td>volkswagen</td>\n",
       "      <td>no</td>\n",
       "      <td>0</td>\n",
       "      <td>56759</td>\n",
       "      <td>6</td>\n",
       "      <td>3</td>\n",
       "      <td>2016</td>\n",
       "    </tr>\n",
       "    <tr>\n",
       "      <td>4</td>\n",
       "      <td>1000.0</td>\n",
       "      <td>sedan</td>\n",
       "      <td>1990</td>\n",
       "      <td>manual</td>\n",
       "      <td>54.0</td>\n",
       "      <td>golf</td>\n",
       "      <td>150000</td>\n",
       "      <td>2</td>\n",
       "      <td>petrol</td>\n",
       "      <td>volkswagen</td>\n",
       "      <td>no</td>\n",
       "      <td>0</td>\n",
       "      <td>47447</td>\n",
       "      <td>4</td>\n",
       "      <td>3</td>\n",
       "      <td>2016</td>\n",
       "    </tr>\n",
       "  </tbody>\n",
       "</table>\n",
       "</div>"
      ],
      "text/plain": [
       "    Price VehicleType  RegistrationYear Gearbox  Power Model  Kilometer  \\\n",
       "0  1500.0       sedan              2001  manual   75.0  golf     150000   \n",
       "1  1000.0       sedan              1998  manual  101.0  golf     150000   \n",
       "2  6600.0       sedan              2006  manual  105.0  golf     150000   \n",
       "3  6300.0       sedan              2002  manual  265.0  golf     150000   \n",
       "4  1000.0       sedan              1990  manual   54.0  golf     150000   \n",
       "\n",
       "   RegistrationMonth  FuelType       Brand NotRepaired  NumberOfPictures  \\\n",
       "0                  6    petrol  volkswagen          no                 0   \n",
       "1                 10    petrol  volkswagen          no                 0   \n",
       "2                 10  gasoline  volkswagen          no                 0   \n",
       "3                  3    petrol  volkswagen          no                 0   \n",
       "4                  2    petrol  volkswagen          no                 0   \n",
       "\n",
       "   PostalCode  weekday  month  year  \n",
       "0       91074        3      3  2016  \n",
       "1       39624        3      3  2016  \n",
       "2       41812        3      3  2016  \n",
       "3       56759        6      3  2016  \n",
       "4       47447        4      3  2016  "
      ]
     },
     "execution_count": 27,
     "metadata": {},
     "output_type": "execute_result"
    }
   ],
   "source": [
    "data.head()"
   ]
  },
  {
   "cell_type": "markdown",
   "metadata": {},
   "source": [
    "### Вывод"
   ]
  },
  {
   "cell_type": "markdown",
   "metadata": {},
   "source": [
    "В процессе предобработки данных избавились от пропусков в данных, избавились от выбросов, удалили данные не влияющие на дальнейшее исследование,так же удалили дубликаты."
   ]
  },
  {
   "cell_type": "markdown",
   "metadata": {},
   "source": [
    "## Обучение моделей"
   ]
  },
  {
   "cell_type": "markdown",
   "metadata": {},
   "source": [
    "###  LightGBM"
   ]
  },
  {
   "cell_type": "markdown",
   "metadata": {},
   "source": [
    "Для обучения преобразум категориальные признаки в численные."
   ]
  },
  {
   "cell_type": "code",
   "execution_count": 28,
   "metadata": {},
   "outputs": [],
   "source": [
    "categorical  = ['VehicleType', 'Gearbox', 'Model', 'Brand', 'NotRepaired','FuelType']\n",
    "label_encoder = LabelEncoder()\n",
    "\n",
    "for col in categorical:\n",
    "    data[col] = label_encoder.fit_transform(data[col])"
   ]
  },
  {
   "cell_type": "markdown",
   "metadata": {},
   "source": [
    "Выделим 25% данных для тестовой выборки, остальные — для обучающей."
   ]
  },
  {
   "cell_type": "code",
   "execution_count": 29,
   "metadata": {},
   "outputs": [],
   "source": [
    "features_cat = data.drop(['Price'], axis=1) \n",
    "target_cat =data['Price'] \n",
    "\n",
    "features_train_cat, features_test_cat, target_train_cat, target_test_cat = train_test_split(features_cat, target_cat, test_size=0.25, random_state=1234)"
   ]
  },
  {
   "cell_type": "code",
   "execution_count": 31,
   "metadata": {
    "scrolled": false
   },
   "outputs": [
    {
     "name": "stdout",
     "output_type": "stream",
     "text": [
      "CPU times: user 31min, sys: 11.7 s, total: 31min 11s\n",
      "Wall time: 31min 22s\n"
     ]
    },
    {
     "data": {
      "text/plain": [
       "GridSearchCV(cv=5, error_score='raise-deprecating',\n",
       "             estimator=LGBMRegressor(boosting_type='gbdt', class_weight=None,\n",
       "                                     colsample_bytree=1.0,\n",
       "                                     importance_type='split', learning_rate=0.1,\n",
       "                                     max_depth=-1, min_child_samples=20,\n",
       "                                     min_child_weight=0.001, min_split_gain=0.0,\n",
       "                                     n_estimators=100, n_jobs=-1, num_leaves=31,\n",
       "                                     objective=None, random_state=None,\n",
       "                                     reg_alpha=0.0, reg_lambda=0.0, silent=True,\n",
       "                                     subsample=1.0, subsample_for_bin=200000,\n",
       "                                     subsample_freq=0),\n",
       "             iid='warn', n_jobs=-1,\n",
       "             param_grid={'max_depth': range(3, 6),\n",
       "                         'n_estimators': range(10, 200, 50)},\n",
       "             pre_dispatch='2*n_jobs', refit=True, return_train_score=False,\n",
       "             scoring=None, verbose=0)"
      ]
     },
     "execution_count": 31,
     "metadata": {},
     "output_type": "execute_result"
    }
   ],
   "source": [
    "%%time\n",
    "params_lgbm = {'n_estimators': range (10, 200, 50),\n",
    "              'max_depth': range (3, 6, 1)}\n",
    "lgbm = LGBMRegressor()\n",
    "grid_lgbm = GridSearchCV(lgbm,params_lgbm, cv=5, n_jobs=-1)\n",
    "grid_lgbm.fit(features_train_cat, target_train_cat)"
   ]
  },
  {
   "cell_type": "code",
   "execution_count": 33,
   "metadata": {},
   "outputs": [
    {
     "name": "stdout",
     "output_type": "stream",
     "text": [
      "RMSE = 1715.464408765193\n",
      "CPU times: user 1.25 s, sys: 10.2 ms, total: 1.26 s\n",
      "Wall time: 1.28 s\n"
     ]
    }
   ],
   "source": [
    "%%time\n",
    "predicted_test_lgbm = grid_lgbm.predict(features_test_cat)\n",
    "mse = mean_squared_error(target_test_cat, predicted_test_lgbm)\n",
    "print(\"RMSE =\", mse ** 0.5)"
   ]
  },
  {
   "cell_type": "markdown",
   "metadata": {},
   "source": [
    "### CatBoost"
   ]
  },
  {
   "cell_type": "code",
   "execution_count": 34,
   "metadata": {
    "scrolled": false
   },
   "outputs": [
    {
     "name": "stdout",
     "output_type": "stream",
     "text": [
      "0:\tlearn: 4609.9662821\ttotal: 208ms\tremaining: 10.2s\n",
      "49:\tlearn: 2492.3543891\ttotal: 9.97s\tremaining: 0us\n",
      "0:\tlearn: 4619.3071724\ttotal: 128ms\tremaining: 6.27s\n",
      "49:\tlearn: 2497.6555495\ttotal: 9.9s\tremaining: 0us\n",
      "0:\tlearn: 4603.0040217\ttotal: 127ms\tremaining: 6.23s\n",
      "49:\tlearn: 2502.6880125\ttotal: 9.84s\tremaining: 0us\n",
      "0:\tlearn: 4608.7735229\ttotal: 137ms\tremaining: 6.73s\n",
      "49:\tlearn: 2493.5312241\ttotal: 9.91s\tremaining: 0us\n",
      "0:\tlearn: 4616.0440779\ttotal: 186ms\tremaining: 9.13s\n",
      "49:\tlearn: 2503.1061839\ttotal: 10s\tremaining: 0us\n",
      "0:\tlearn: 4609.9662821\ttotal: 186ms\tremaining: 18.4s\n",
      "99:\tlearn: 2062.0942480\ttotal: 20.2s\tremaining: 0us\n",
      "0:\tlearn: 4619.3071724\ttotal: 140ms\tremaining: 13.9s\n",
      "99:\tlearn: 2068.3776286\ttotal: 19.9s\tremaining: 0us\n",
      "0:\tlearn: 4603.0040217\ttotal: 177ms\tremaining: 17.5s\n",
      "99:\tlearn: 2073.9175711\ttotal: 19.7s\tremaining: 0us\n",
      "0:\tlearn: 4608.7735229\ttotal: 171ms\tremaining: 16.9s\n",
      "99:\tlearn: 2067.1175020\ttotal: 20.1s\tremaining: 0us\n",
      "0:\tlearn: 4616.0440779\ttotal: 199ms\tremaining: 19.7s\n",
      "99:\tlearn: 2078.4450821\ttotal: 20.1s\tremaining: 0us\n",
      "0:\tlearn: 4609.9662821\ttotal: 129ms\tremaining: 19.2s\n",
      "100:\tlearn: 2058.6151552\ttotal: 19.6s\tremaining: 9.53s\n",
      "149:\tlearn: 1948.3209537\ttotal: 28.8s\tremaining: 0us\n",
      "0:\tlearn: 4619.3071724\ttotal: 152ms\tremaining: 22.6s\n",
      "100:\tlearn: 2064.8325240\ttotal: 19.7s\tremaining: 9.54s\n",
      "149:\tlearn: 1952.3387229\ttotal: 29.1s\tremaining: 0us\n",
      "0:\tlearn: 4603.0040217\ttotal: 149ms\tremaining: 22.2s\n",
      "100:\tlearn: 2069.9096652\ttotal: 19.8s\tremaining: 9.6s\n",
      "149:\tlearn: 1958.3338056\ttotal: 29.5s\tremaining: 0us\n",
      "0:\tlearn: 4608.7735229\ttotal: 120ms\tremaining: 17.9s\n",
      "100:\tlearn: 2063.2759214\ttotal: 19.9s\tremaining: 9.63s\n",
      "149:\tlearn: 1952.4664978\ttotal: 29.5s\tremaining: 0us\n",
      "0:\tlearn: 4616.0440779\ttotal: 140ms\tremaining: 20.9s\n",
      "100:\tlearn: 2074.5740749\ttotal: 20.1s\tremaining: 9.75s\n",
      "149:\tlearn: 1963.1596424\ttotal: 29.6s\tremaining: 0us\n",
      "0:\tlearn: 4599.7743140\ttotal: 397ms\tremaining: 19.5s\n",
      "49:\tlearn: 2263.5894777\ttotal: 18.2s\tremaining: 0us\n",
      "0:\tlearn: 4606.8956180\ttotal: 342ms\tremaining: 16.8s\n",
      "49:\tlearn: 2270.4503506\ttotal: 17.9s\tremaining: 0us\n",
      "0:\tlearn: 4592.7902808\ttotal: 257ms\tremaining: 12.6s\n",
      "49:\tlearn: 2268.4451557\ttotal: 17.9s\tremaining: 0us\n",
      "0:\tlearn: 4599.1125503\ttotal: 364ms\tremaining: 17.8s\n",
      "49:\tlearn: 2268.5190302\ttotal: 18.2s\tremaining: 0us\n",
      "0:\tlearn: 4606.2980662\ttotal: 305ms\tremaining: 14.9s\n",
      "49:\tlearn: 2276.1460315\ttotal: 18.5s\tremaining: 0us\n",
      "0:\tlearn: 4599.7743140\ttotal: 309ms\tremaining: 30.5s\n",
      "99:\tlearn: 1868.9542852\ttotal: 37.2s\tremaining: 0us\n",
      "0:\tlearn: 4606.8956180\ttotal: 248ms\tremaining: 24.5s\n",
      "99:\tlearn: 1875.5148382\ttotal: 37.4s\tremaining: 0us\n",
      "0:\tlearn: 4592.7902808\ttotal: 361ms\tremaining: 35.8s\n",
      "99:\tlearn: 1865.4909375\ttotal: 37.2s\tremaining: 0us\n",
      "0:\tlearn: 4599.1125503\ttotal: 394ms\tremaining: 39s\n",
      "99:\tlearn: 1871.4644346\ttotal: 36.5s\tremaining: 0us\n",
      "0:\tlearn: 4606.2980662\ttotal: 262ms\tremaining: 25.9s\n",
      "99:\tlearn: 1878.2933930\ttotal: 35.8s\tremaining: 0us\n",
      "0:\tlearn: 4599.7743140\ttotal: 243ms\tremaining: 36.1s\n",
      "100:\tlearn: 1865.6692445\ttotal: 35.9s\tremaining: 17.4s\n",
      "149:\tlearn: 1756.9364311\ttotal: 53.6s\tremaining: 0us\n",
      "0:\tlearn: 4606.8956180\ttotal: 346ms\tremaining: 51.6s\n",
      "100:\tlearn: 1872.4884037\ttotal: 36.6s\tremaining: 17.7s\n",
      "149:\tlearn: 1761.5245606\ttotal: 54.3s\tremaining: 0us\n",
      "0:\tlearn: 4592.7902808\ttotal: 315ms\tremaining: 46.9s\n",
      "100:\tlearn: 1861.7823653\ttotal: 36.3s\tremaining: 17.6s\n",
      "149:\tlearn: 1759.4300623\ttotal: 54s\tremaining: 0us\n",
      "0:\tlearn: 4599.1125503\ttotal: 411ms\tremaining: 1m 1s\n",
      "100:\tlearn: 1868.9505464\ttotal: 37.1s\tremaining: 18s\n",
      "149:\tlearn: 1759.9886020\ttotal: 54.9s\tremaining: 0us\n",
      "0:\tlearn: 4606.2980662\ttotal: 303ms\tremaining: 45.2s\n",
      "100:\tlearn: 1875.4704860\ttotal: 37s\tremaining: 17.9s\n",
      "149:\tlearn: 1766.8501981\ttotal: 55.1s\tremaining: 0us\n",
      "0:\tlearn: 4600.7373034\ttotal: 466ms\tremaining: 1m 9s\n",
      "100:\tlearn: 1870.4657442\ttotal: 44.7s\tremaining: 21.7s\n",
      "149:\tlearn: 1760.8691347\ttotal: 1m 5s\tremaining: 0us\n",
      "CPU times: user 13min 34s, sys: 2min 4s, total: 15min 39s\n",
      "Wall time: 16min 18s\n"
     ]
    },
    {
     "data": {
      "text/plain": [
       "GridSearchCV(cv=5, error_score='raise-deprecating',\n",
       "             estimator=<catboost.core.CatBoostRegressor object at 0x7fd19e71b450>,\n",
       "             iid='warn', n_jobs=None,\n",
       "             param_grid={'max_depth': range(5, 15, 5),\n",
       "                         'n_estimators': range(50, 200, 50)},\n",
       "             pre_dispatch='2*n_jobs', refit=True, return_train_score=False,\n",
       "             scoring=None, verbose=0)"
      ]
     },
     "execution_count": 34,
     "metadata": {},
     "output_type": "execute_result"
    }
   ],
   "source": [
    "%%time\n",
    "params_cat = {'n_estimators': range (50, 200, 50),\n",
    "             'max_depth': range (5, 15, 5)} \n",
    "model_CatBoost = CatBoostRegressor(cat_features=categorical, verbose=100)\n",
    "grid_CB = GridSearchCV(model_CatBoost, params_cat, cv=5)\n",
    "grid_CB.fit(features_train_cat, target_train_cat)"
   ]
  },
  {
   "cell_type": "code",
   "execution_count": 35,
   "metadata": {},
   "outputs": [
    {
     "name": "stdout",
     "output_type": "stream",
     "text": [
      "RMSE = 1783.9348729943456\n",
      "CPU times: user 291 ms, sys: 41.1 ms, total: 332 ms\n",
      "Wall time: 327 ms\n"
     ]
    }
   ],
   "source": [
    "%%time\n",
    "predicted_test_CatBoost = grid_CB.predict(features_test_cat)\n",
    "mse = mean_squared_error(target_test_cat, predicted_test_CatBoost)\n",
    "print(\"RMSE =\", mse ** 0.5)"
   ]
  },
  {
   "cell_type": "markdown",
   "metadata": {},
   "source": [
    "### RandomForest"
   ]
  },
  {
   "cell_type": "code",
   "execution_count": 36,
   "metadata": {},
   "outputs": [
    {
     "name": "stdout",
     "output_type": "stream",
     "text": [
      "CPU times: user 7min 16s, sys: 0 ns, total: 7min 16s\n",
      "Wall time: 7min 22s\n"
     ]
    },
    {
     "data": {
      "text/plain": [
       "GridSearchCV(cv=5, error_score='raise-deprecating',\n",
       "             estimator=RandomForestRegressor(bootstrap=True, criterion='mse',\n",
       "                                             max_depth=None,\n",
       "                                             max_features='auto',\n",
       "                                             max_leaf_nodes=None,\n",
       "                                             min_impurity_decrease=0.0,\n",
       "                                             min_impurity_split=None,\n",
       "                                             min_samples_leaf=1,\n",
       "                                             min_samples_split=2,\n",
       "                                             min_weight_fraction_leaf=0.0,\n",
       "                                             n_estimators='warn', n_jobs=None,\n",
       "                                             oob_score=False, random_state=None,\n",
       "                                             verbose=0, warm_start=False),\n",
       "             iid='warn', n_jobs=None,\n",
       "             param_grid={'max_depth': range(5, 15, 3),\n",
       "                         'n_estimators': range(5, 25, 5)},\n",
       "             pre_dispatch='2*n_jobs', refit=True, return_train_score=False,\n",
       "             scoring=None, verbose=0)"
      ]
     },
     "execution_count": 36,
     "metadata": {},
     "output_type": "execute_result"
    }
   ],
   "source": [
    "%%time\n",
    "params_cat = {'max_depth': range(5, 15, 3),\n",
    "             'n_estimators': range (5, 25, 5)} \n",
    "model_RF = RandomForestRegressor()\n",
    "grid_RF = GridSearchCV(model_RF, params_cat, cv=5)\n",
    "grid_RF.fit(features_train_cat, target_train_cat)"
   ]
  },
  {
   "cell_type": "code",
   "execution_count": 37,
   "metadata": {},
   "outputs": [
    {
     "name": "stdout",
     "output_type": "stream",
     "text": [
      "RMSE = 1699.1165497030513\n",
      "CPU times: user 257 ms, sys: 0 ns, total: 257 ms\n",
      "Wall time: 268 ms\n"
     ]
    }
   ],
   "source": [
    "%%time\n",
    "predicted_test_RF = grid_RF.predict(features_test_cat)\n",
    "mse = mean_squared_error(target_test_cat, predicted_test_RF)\n",
    "print(\"RMSE =\", mse ** 0.5)"
   ]
  },
  {
   "cell_type": "markdown",
   "metadata": {},
   "source": [
    "### LinearRegression"
   ]
  },
  {
   "cell_type": "markdown",
   "metadata": {},
   "source": [
    "Для линейной регрессии преобразум категориальные признаки в численные техникой прямого кодирования, или отображения (One-Hot Encoding, OHE)."
   ]
  },
  {
   "cell_type": "code",
   "execution_count": 38,
   "metadata": {},
   "outputs": [
    {
     "data": {
      "text/html": [
       "<div>\n",
       "<style scoped>\n",
       "    .dataframe tbody tr th:only-of-type {\n",
       "        vertical-align: middle;\n",
       "    }\n",
       "\n",
       "    .dataframe tbody tr th {\n",
       "        vertical-align: top;\n",
       "    }\n",
       "\n",
       "    .dataframe thead th {\n",
       "        text-align: right;\n",
       "    }\n",
       "</style>\n",
       "<table border=\"1\" class=\"dataframe\">\n",
       "  <thead>\n",
       "    <tr style=\"text-align: right;\">\n",
       "      <th></th>\n",
       "      <th>Price</th>\n",
       "      <th>RegistrationYear</th>\n",
       "      <th>Power</th>\n",
       "      <th>Kilometer</th>\n",
       "      <th>RegistrationMonth</th>\n",
       "      <th>NumberOfPictures</th>\n",
       "      <th>PostalCode</th>\n",
       "      <th>weekday</th>\n",
       "      <th>month</th>\n",
       "      <th>year</th>\n",
       "      <th>...</th>\n",
       "      <th>Brand_36</th>\n",
       "      <th>Brand_37</th>\n",
       "      <th>Brand_38</th>\n",
       "      <th>NotRepaired_1</th>\n",
       "      <th>FuelType_1</th>\n",
       "      <th>FuelType_2</th>\n",
       "      <th>FuelType_3</th>\n",
       "      <th>FuelType_4</th>\n",
       "      <th>FuelType_5</th>\n",
       "      <th>FuelType_6</th>\n",
       "    </tr>\n",
       "  </thead>\n",
       "  <tbody>\n",
       "    <tr>\n",
       "      <td>0</td>\n",
       "      <td>1500.0</td>\n",
       "      <td>2001</td>\n",
       "      <td>75.0</td>\n",
       "      <td>150000</td>\n",
       "      <td>6</td>\n",
       "      <td>0</td>\n",
       "      <td>91074</td>\n",
       "      <td>3</td>\n",
       "      <td>3</td>\n",
       "      <td>2016</td>\n",
       "      <td>...</td>\n",
       "      <td>0</td>\n",
       "      <td>1</td>\n",
       "      <td>0</td>\n",
       "      <td>0</td>\n",
       "      <td>0</td>\n",
       "      <td>0</td>\n",
       "      <td>0</td>\n",
       "      <td>0</td>\n",
       "      <td>0</td>\n",
       "      <td>1</td>\n",
       "    </tr>\n",
       "    <tr>\n",
       "      <td>1</td>\n",
       "      <td>1000.0</td>\n",
       "      <td>1998</td>\n",
       "      <td>101.0</td>\n",
       "      <td>150000</td>\n",
       "      <td>10</td>\n",
       "      <td>0</td>\n",
       "      <td>39624</td>\n",
       "      <td>3</td>\n",
       "      <td>3</td>\n",
       "      <td>2016</td>\n",
       "      <td>...</td>\n",
       "      <td>0</td>\n",
       "      <td>1</td>\n",
       "      <td>0</td>\n",
       "      <td>0</td>\n",
       "      <td>0</td>\n",
       "      <td>0</td>\n",
       "      <td>0</td>\n",
       "      <td>0</td>\n",
       "      <td>0</td>\n",
       "      <td>1</td>\n",
       "    </tr>\n",
       "    <tr>\n",
       "      <td>2</td>\n",
       "      <td>6600.0</td>\n",
       "      <td>2006</td>\n",
       "      <td>105.0</td>\n",
       "      <td>150000</td>\n",
       "      <td>10</td>\n",
       "      <td>0</td>\n",
       "      <td>41812</td>\n",
       "      <td>3</td>\n",
       "      <td>3</td>\n",
       "      <td>2016</td>\n",
       "      <td>...</td>\n",
       "      <td>0</td>\n",
       "      <td>1</td>\n",
       "      <td>0</td>\n",
       "      <td>0</td>\n",
       "      <td>0</td>\n",
       "      <td>1</td>\n",
       "      <td>0</td>\n",
       "      <td>0</td>\n",
       "      <td>0</td>\n",
       "      <td>0</td>\n",
       "    </tr>\n",
       "    <tr>\n",
       "      <td>3</td>\n",
       "      <td>6300.0</td>\n",
       "      <td>2002</td>\n",
       "      <td>265.0</td>\n",
       "      <td>150000</td>\n",
       "      <td>3</td>\n",
       "      <td>0</td>\n",
       "      <td>56759</td>\n",
       "      <td>6</td>\n",
       "      <td>3</td>\n",
       "      <td>2016</td>\n",
       "      <td>...</td>\n",
       "      <td>0</td>\n",
       "      <td>1</td>\n",
       "      <td>0</td>\n",
       "      <td>0</td>\n",
       "      <td>0</td>\n",
       "      <td>0</td>\n",
       "      <td>0</td>\n",
       "      <td>0</td>\n",
       "      <td>0</td>\n",
       "      <td>1</td>\n",
       "    </tr>\n",
       "    <tr>\n",
       "      <td>4</td>\n",
       "      <td>1000.0</td>\n",
       "      <td>1990</td>\n",
       "      <td>54.0</td>\n",
       "      <td>150000</td>\n",
       "      <td>2</td>\n",
       "      <td>0</td>\n",
       "      <td>47447</td>\n",
       "      <td>4</td>\n",
       "      <td>3</td>\n",
       "      <td>2016</td>\n",
       "      <td>...</td>\n",
       "      <td>0</td>\n",
       "      <td>1</td>\n",
       "      <td>0</td>\n",
       "      <td>0</td>\n",
       "      <td>0</td>\n",
       "      <td>0</td>\n",
       "      <td>0</td>\n",
       "      <td>0</td>\n",
       "      <td>0</td>\n",
       "      <td>1</td>\n",
       "    </tr>\n",
       "  </tbody>\n",
       "</table>\n",
       "<p>5 rows × 310 columns</p>\n",
       "</div>"
      ],
      "text/plain": [
       "    Price  RegistrationYear  Power  Kilometer  RegistrationMonth  \\\n",
       "0  1500.0              2001   75.0     150000                  6   \n",
       "1  1000.0              1998  101.0     150000                 10   \n",
       "2  6600.0              2006  105.0     150000                 10   \n",
       "3  6300.0              2002  265.0     150000                  3   \n",
       "4  1000.0              1990   54.0     150000                  2   \n",
       "\n",
       "   NumberOfPictures  PostalCode  weekday  month  year  ...  Brand_36  \\\n",
       "0                 0       91074        3      3  2016  ...         0   \n",
       "1                 0       39624        3      3  2016  ...         0   \n",
       "2                 0       41812        3      3  2016  ...         0   \n",
       "3                 0       56759        6      3  2016  ...         0   \n",
       "4                 0       47447        4      3  2016  ...         0   \n",
       "\n",
       "   Brand_37  Brand_38  NotRepaired_1  FuelType_1  FuelType_2  FuelType_3  \\\n",
       "0         1         0              0           0           0           0   \n",
       "1         1         0              0           0           0           0   \n",
       "2         1         0              0           0           1           0   \n",
       "3         1         0              0           0           0           0   \n",
       "4         1         0              0           0           0           0   \n",
       "\n",
       "   FuelType_4  FuelType_5  FuelType_6  \n",
       "0           0           0           1  \n",
       "1           0           0           1  \n",
       "2           0           0           0  \n",
       "3           0           0           1  \n",
       "4           0           0           1  \n",
       "\n",
       "[5 rows x 310 columns]"
      ]
     },
     "execution_count": 38,
     "metadata": {},
     "output_type": "execute_result"
    }
   ],
   "source": [
    "data_ohe = pd.get_dummies(data, columns=categorical, drop_first=True)\n",
    "features_ohe = data_ohe.drop(['Price'], axis=1) \n",
    "target_ohe = data_ohe['Price']\n",
    "features_train_ohe, features_test_ohe, target_train_ohe, target_test_ohe = train_test_split(\n",
    "    features_ohe, target_ohe, test_size=0.25, random_state=1234)\n",
    "data_ohe.head()"
   ]
  },
  {
   "cell_type": "raw",
   "metadata": {},
   "source": [
    "# Выделим категориальные признаки для one-hot\n",
    "categorial_ohe = ['VehicleType', 'Gearbox', 'FuelType', 'NotRepaired']\n",
    "# Категориальные для ordinal\n",
    "categorial_ord = ['Model', 'Brand', 'PostalCode']\n",
    "# И количественные\n",
    "numeric = ['Kilometer', 'Power', 'RegistrationYear']"
   ]
  },
  {
   "cell_type": "markdown",
   "metadata": {},
   "source": [
    "Выделим 25% данных для тестовой выборки, остальные — для обучающей."
   ]
  },
  {
   "cell_type": "code",
   "execution_count": 39,
   "metadata": {},
   "outputs": [],
   "source": [
    "features = data_ohe.drop(['Price'], axis=1) \n",
    "target = data_ohe['Price'] "
   ]
  },
  {
   "cell_type": "code",
   "execution_count": 40,
   "metadata": {},
   "outputs": [],
   "source": [
    "features_train, features_test, target_train, target_test = train_test_split(\n",
    "    features, target, test_size=0.25, random_state=12345)"
   ]
  },
  {
   "cell_type": "markdown",
   "metadata": {},
   "source": [
    "Для масштабирования зафиксируем численные признаки."
   ]
  },
  {
   "cell_type": "code",
   "execution_count": 41,
   "metadata": {},
   "outputs": [],
   "source": [
    "numeric = ['Kilometer', 'PostalCode','Power','RegistrationMonth']"
   ]
  },
  {
   "cell_type": "markdown",
   "metadata": {},
   "source": [
    "Создаём объект структуры StandardScaler() и настраиваем его на обучающих данных и масштабируем численные признаки"
   ]
  },
  {
   "cell_type": "code",
   "execution_count": 42,
   "metadata": {},
   "outputs": [
    {
     "data": {
      "text/html": [
       "<div>\n",
       "<style scoped>\n",
       "    .dataframe tbody tr th:only-of-type {\n",
       "        vertical-align: middle;\n",
       "    }\n",
       "\n",
       "    .dataframe tbody tr th {\n",
       "        vertical-align: top;\n",
       "    }\n",
       "\n",
       "    .dataframe thead th {\n",
       "        text-align: right;\n",
       "    }\n",
       "</style>\n",
       "<table border=\"1\" class=\"dataframe\">\n",
       "  <thead>\n",
       "    <tr style=\"text-align: right;\">\n",
       "      <th></th>\n",
       "      <th>RegistrationYear</th>\n",
       "      <th>Power</th>\n",
       "      <th>Kilometer</th>\n",
       "      <th>RegistrationMonth</th>\n",
       "      <th>NumberOfPictures</th>\n",
       "      <th>PostalCode</th>\n",
       "      <th>weekday</th>\n",
       "      <th>month</th>\n",
       "      <th>year</th>\n",
       "      <th>VehicleType_1</th>\n",
       "      <th>...</th>\n",
       "      <th>Brand_36</th>\n",
       "      <th>Brand_37</th>\n",
       "      <th>Brand_38</th>\n",
       "      <th>NotRepaired_1</th>\n",
       "      <th>FuelType_1</th>\n",
       "      <th>FuelType_2</th>\n",
       "      <th>FuelType_3</th>\n",
       "      <th>FuelType_4</th>\n",
       "      <th>FuelType_5</th>\n",
       "      <th>FuelType_6</th>\n",
       "    </tr>\n",
       "  </thead>\n",
       "  <tbody>\n",
       "    <tr>\n",
       "      <td>130206</td>\n",
       "      <td>1998</td>\n",
       "      <td>-0.154968</td>\n",
       "      <td>0.613721</td>\n",
       "      <td>0.523085</td>\n",
       "      <td>0</td>\n",
       "      <td>-1.492207</td>\n",
       "      <td>1</td>\n",
       "      <td>3</td>\n",
       "      <td>2016</td>\n",
       "      <td>0</td>\n",
       "      <td>...</td>\n",
       "      <td>0</td>\n",
       "      <td>0</td>\n",
       "      <td>0</td>\n",
       "      <td>1</td>\n",
       "      <td>0</td>\n",
       "      <td>1</td>\n",
       "      <td>0</td>\n",
       "      <td>0</td>\n",
       "      <td>0</td>\n",
       "      <td>0</td>\n",
       "    </tr>\n",
       "    <tr>\n",
       "      <td>237981</td>\n",
       "      <td>1998</td>\n",
       "      <td>0.403985</td>\n",
       "      <td>0.613721</td>\n",
       "      <td>1.675413</td>\n",
       "      <td>0</td>\n",
       "      <td>-0.094026</td>\n",
       "      <td>0</td>\n",
       "      <td>4</td>\n",
       "      <td>2016</td>\n",
       "      <td>0</td>\n",
       "      <td>...</td>\n",
       "      <td>0</td>\n",
       "      <td>0</td>\n",
       "      <td>1</td>\n",
       "      <td>0</td>\n",
       "      <td>0</td>\n",
       "      <td>0</td>\n",
       "      <td>0</td>\n",
       "      <td>0</td>\n",
       "      <td>0</td>\n",
       "      <td>1</td>\n",
       "    </tr>\n",
       "    <tr>\n",
       "      <td>37363</td>\n",
       "      <td>2004</td>\n",
       "      <td>-0.248127</td>\n",
       "      <td>-1.274554</td>\n",
       "      <td>-1.493487</td>\n",
       "      <td>0</td>\n",
       "      <td>0.174984</td>\n",
       "      <td>2</td>\n",
       "      <td>3</td>\n",
       "      <td>2016</td>\n",
       "      <td>0</td>\n",
       "      <td>...</td>\n",
       "      <td>0</td>\n",
       "      <td>0</td>\n",
       "      <td>0</td>\n",
       "      <td>0</td>\n",
       "      <td>0</td>\n",
       "      <td>0</td>\n",
       "      <td>0</td>\n",
       "      <td>0</td>\n",
       "      <td>0</td>\n",
       "      <td>1</td>\n",
       "    </tr>\n",
       "    <tr>\n",
       "      <td>169413</td>\n",
       "      <td>2009</td>\n",
       "      <td>0.329458</td>\n",
       "      <td>0.613721</td>\n",
       "      <td>-0.629242</td>\n",
       "      <td>0</td>\n",
       "      <td>1.649079</td>\n",
       "      <td>6</td>\n",
       "      <td>3</td>\n",
       "      <td>2016</td>\n",
       "      <td>0</td>\n",
       "      <td>...</td>\n",
       "      <td>0</td>\n",
       "      <td>0</td>\n",
       "      <td>0</td>\n",
       "      <td>0</td>\n",
       "      <td>0</td>\n",
       "      <td>1</td>\n",
       "      <td>0</td>\n",
       "      <td>0</td>\n",
       "      <td>0</td>\n",
       "      <td>0</td>\n",
       "    </tr>\n",
       "    <tr>\n",
       "      <td>206340</td>\n",
       "      <td>2000</td>\n",
       "      <td>-0.117704</td>\n",
       "      <td>0.613721</td>\n",
       "      <td>-0.053078</td>\n",
       "      <td>0</td>\n",
       "      <td>-0.224463</td>\n",
       "      <td>6</td>\n",
       "      <td>3</td>\n",
       "      <td>2016</td>\n",
       "      <td>0</td>\n",
       "      <td>...</td>\n",
       "      <td>0</td>\n",
       "      <td>0</td>\n",
       "      <td>0</td>\n",
       "      <td>0</td>\n",
       "      <td>0</td>\n",
       "      <td>1</td>\n",
       "      <td>0</td>\n",
       "      <td>0</td>\n",
       "      <td>0</td>\n",
       "      <td>0</td>\n",
       "    </tr>\n",
       "  </tbody>\n",
       "</table>\n",
       "<p>5 rows × 309 columns</p>\n",
       "</div>"
      ],
      "text/plain": [
       "        RegistrationYear     Power  Kilometer  RegistrationMonth  \\\n",
       "130206              1998 -0.154968   0.613721           0.523085   \n",
       "237981              1998  0.403985   0.613721           1.675413   \n",
       "37363               2004 -0.248127  -1.274554          -1.493487   \n",
       "169413              2009  0.329458   0.613721          -0.629242   \n",
       "206340              2000 -0.117704   0.613721          -0.053078   \n",
       "\n",
       "        NumberOfPictures  PostalCode  weekday  month  year  VehicleType_1  \\\n",
       "130206                 0   -1.492207        1      3  2016              0   \n",
       "237981                 0   -0.094026        0      4  2016              0   \n",
       "37363                  0    0.174984        2      3  2016              0   \n",
       "169413                 0    1.649079        6      3  2016              0   \n",
       "206340                 0   -0.224463        6      3  2016              0   \n",
       "\n",
       "        ...  Brand_36  Brand_37  Brand_38  NotRepaired_1  FuelType_1  \\\n",
       "130206  ...         0         0         0              1           0   \n",
       "237981  ...         0         0         1              0           0   \n",
       "37363   ...         0         0         0              0           0   \n",
       "169413  ...         0         0         0              0           0   \n",
       "206340  ...         0         0         0              0           0   \n",
       "\n",
       "        FuelType_2  FuelType_3  FuelType_4  FuelType_5  FuelType_6  \n",
       "130206           1           0           0           0           0  \n",
       "237981           0           0           0           0           1  \n",
       "37363            0           0           0           0           1  \n",
       "169413           1           0           0           0           0  \n",
       "206340           1           0           0           0           0  \n",
       "\n",
       "[5 rows x 309 columns]"
      ]
     },
     "execution_count": 42,
     "metadata": {},
     "output_type": "execute_result"
    }
   ],
   "source": [
    "scaler = StandardScaler()\n",
    "scaler.fit(features_train[numeric])\n",
    "features_train[numeric] = scaler.transform(features_train[numeric])\n",
    "features_test[numeric] = scaler.transform(features_test[numeric])\n",
    "pd.options.mode.chained_assignment = None\n",
    "features_train.head()"
   ]
  },
  {
   "cell_type": "code",
   "execution_count": 43,
   "metadata": {},
   "outputs": [
    {
     "name": "stdout",
     "output_type": "stream",
     "text": [
      "CPU times: user 17.5 s, sys: 12.9 s, total: 30.3 s\n",
      "Wall time: 30.4 s\n"
     ]
    },
    {
     "data": {
      "text/plain": [
       "LinearRegression(copy_X=True, fit_intercept=True, n_jobs=None, normalize=True)"
      ]
     },
     "execution_count": 43,
     "metadata": {},
     "output_type": "execute_result"
    }
   ],
   "source": [
    "%%time\n",
    "\n",
    "lr = LinearRegression(normalize=True)\n",
    "lr.fit(features_train, target_train)"
   ]
  },
  {
   "cell_type": "code",
   "execution_count": 44,
   "metadata": {},
   "outputs": [
    {
     "name": "stdout",
     "output_type": "stream",
     "text": [
      "RMSE = 2585.585663621043\n",
      "CPU times: user 129 ms, sys: 95.2 ms, total: 224 ms\n",
      "Wall time: 193 ms\n"
     ]
    }
   ],
   "source": [
    "%%time\n",
    "predicted_train_lr = lr.predict(features_test)\n",
    "mse = mean_squared_error(target_test, predicted_train_lr)\n",
    "print(\"RMSE =\", mse ** 0.5)"
   ]
  },
  {
   "cell_type": "markdown",
   "metadata": {},
   "source": [
    "## Анализ моделей"
   ]
  },
  {
   "cell_type": "code",
   "execution_count": 47,
   "metadata": {},
   "outputs": [],
   "source": [
    "time = [[\"31min 11s\", \"1.26 s\", 1715],\n",
    "        [\"15min 39s\", \"332 ms\", 1783],\n",
    "        [\"7min 16s\", \"257 ms\", 1699],\n",
    "        [\"30.3 s\", \"224 ms\", 2585]]\n",
    "model = [\"LGBM\", \"Catboost\", \"RandomForest\", \"LinearRegression\"]"
   ]
  },
  {
   "cell_type": "code",
   "execution_count": 48,
   "metadata": {},
   "outputs": [
    {
     "data": {
      "text/html": [
       "<div>\n",
       "<style scoped>\n",
       "    .dataframe tbody tr th:only-of-type {\n",
       "        vertical-align: middle;\n",
       "    }\n",
       "\n",
       "    .dataframe tbody tr th {\n",
       "        vertical-align: top;\n",
       "    }\n",
       "\n",
       "    .dataframe thead th {\n",
       "        text-align: right;\n",
       "    }\n",
       "</style>\n",
       "<table border=\"1\" class=\"dataframe\">\n",
       "  <thead>\n",
       "    <tr style=\"text-align: right;\">\n",
       "      <th></th>\n",
       "      <th>fit_time</th>\n",
       "      <th>predict_time</th>\n",
       "      <th>RMSE</th>\n",
       "    </tr>\n",
       "  </thead>\n",
       "  <tbody>\n",
       "    <tr>\n",
       "      <td>LGBM</td>\n",
       "      <td>31min 11s</td>\n",
       "      <td>1.26 s</td>\n",
       "      <td>1715</td>\n",
       "    </tr>\n",
       "    <tr>\n",
       "      <td>Catboost</td>\n",
       "      <td>15min 39s</td>\n",
       "      <td>332 ms</td>\n",
       "      <td>1783</td>\n",
       "    </tr>\n",
       "    <tr>\n",
       "      <td>RandomForest</td>\n",
       "      <td>7min 16s</td>\n",
       "      <td>257 ms</td>\n",
       "      <td>1699</td>\n",
       "    </tr>\n",
       "    <tr>\n",
       "      <td>LinearRegression</td>\n",
       "      <td>30.3 s</td>\n",
       "      <td>224 ms</td>\n",
       "      <td>2585</td>\n",
       "    </tr>\n",
       "  </tbody>\n",
       "</table>\n",
       "</div>"
      ],
      "text/plain": [
       "                   fit_time predict_time  RMSE\n",
       "LGBM              31min 11s       1.26 s  1715\n",
       "Catboost          15min 39s       332 ms  1783\n",
       "RandomForest       7min 16s       257 ms  1699\n",
       "LinearRegression     30.3 s       224 ms  2585"
      ]
     },
     "execution_count": 48,
     "metadata": {},
     "output_type": "execute_result"
    }
   ],
   "source": [
    "pd.DataFrame(data=time, index=model, columns=[\"fit_time\", \"predict_time\", \"RMSE\"])"
   ]
  },
  {
   "cell_type": "markdown",
   "metadata": {},
   "source": [
    "Найлучший показатель RMSE дала модель RandomForest, это тот редкий случай когда более простая модель работает лучше. Модели бустинга Catboost и LightGBM дали примерно одинаковые показатели RMSE, но модель LightGBM обучалась вдвое дольше. Худший показатель RMSE показала LinearRegression, при самом быстром обучении."
   ]
  }
 ],
 "metadata": {
  "kernelspec": {
   "display_name": "Python 3",
   "language": "python",
   "name": "python3"
  },
  "language_info": {
   "codemirror_mode": {
    "name": "ipython",
    "version": 3
   },
   "file_extension": ".py",
   "mimetype": "text/x-python",
   "name": "python",
   "nbconvert_exporter": "python",
   "pygments_lexer": "ipython3",
   "version": "3.7.8"
  },
  "toc": {
   "base_numbering": 1,
   "nav_menu": {
    "height": "266px",
    "width": "601px"
   },
   "number_sections": true,
   "sideBar": true,
   "skip_h1_title": true,
   "title_cell": "Table of Contents",
   "title_sidebar": "Contents",
   "toc_cell": false,
   "toc_position": {},
   "toc_section_display": true,
   "toc_window_display": false
  }
 },
 "nbformat": 4,
 "nbformat_minor": 2
}
