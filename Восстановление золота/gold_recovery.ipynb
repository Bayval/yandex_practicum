{
 "cells": [
  {
   "cell_type": "markdown",
   "metadata": {},
   "source": [
    "# Восстановление золота из руды"
   ]
  },
  {
   "cell_type": "markdown",
   "metadata": {},
   "source": [
    "Подготовьте прототип модели машинного обучения для «Цифры». Компания разрабатывает решения для эффективной работы промышленных предприятий.\n",
    "\n",
    "Модель должна предсказать коэффициент восстановления золота из золотосодержащей руды. Используйте данные с параметрами добычи и очистки. \n",
    "\n",
    "Модель поможет оптимизировать производство, чтобы не запускать предприятие с убыточными характеристиками.\n",
    "\n",
    "Вам нужно:\n",
    "\n",
    "1. Подготовить данные;\n",
    "2. Провести исследовательский анализ данных;\n",
    "3. Построить и обучить модель.\n",
    "\n",
    "Чтобы выполнить проект, обращайтесь к библиотекам *pandas*, *matplotlib* и *sklearn.* Вам поможет их документация."
   ]
  },
  {
   "cell_type": "markdown",
   "metadata": {},
   "source": [
    "## Подготовка данных"
   ]
  },
  {
   "cell_type": "markdown",
   "metadata": {},
   "source": [
    "### Импортируем необходимые библиотеки"
   ]
  },
  {
   "cell_type": "code",
   "execution_count": 1,
   "metadata": {},
   "outputs": [],
   "source": [
    "import pandas as pd\n",
    "import numpy as np\n",
    "from sklearn.linear_model import LinearRegression\n",
    "from sklearn.metrics import mean_absolute_error\n",
    "import matplotlib.pyplot as plt\n",
    "import seaborn as sns\n",
    "import warnings\n",
    "warnings.filterwarnings(\"ignore\")\n",
    "from sklearn.preprocessing import StandardScaler\n",
    "from sklearn.metrics import mean_squared_error\n",
    "from sklearn.model_selection import cross_val_score\n",
    "from sklearn.metrics import make_scorer\n",
    "from sklearn.tree import DecisionTreeRegressor\n",
    "from sklearn.ensemble import RandomForestRegressor\n",
    "from sklearn.dummy import DummyRegressor"
   ]
  },
  {
   "cell_type": "markdown",
   "metadata": {},
   "source": [
    "### Читаем csv файлы, выводим данные на экран, смотрим общую информацию"
   ]
  },
  {
   "cell_type": "code",
   "execution_count": 2,
   "metadata": {},
   "outputs": [],
   "source": [
    "data_train = pd.read_csv('/datasets/gold_recovery_train.csv')\n",
    "data_test = pd.read_csv('/datasets/gold_recovery_test.csv')\n",
    "data_full = pd.read_csv('/datasets/gold_recovery_full.csv')"
   ]
  },
  {
   "cell_type": "code",
   "execution_count": 3,
   "metadata": {},
   "outputs": [
    {
     "data": {
      "text/html": [
       "<div>\n",
       "<style scoped>\n",
       "    .dataframe tbody tr th:only-of-type {\n",
       "        vertical-align: middle;\n",
       "    }\n",
       "\n",
       "    .dataframe tbody tr th {\n",
       "        vertical-align: top;\n",
       "    }\n",
       "\n",
       "    .dataframe thead th {\n",
       "        text-align: right;\n",
       "    }\n",
       "</style>\n",
       "<table border=\"1\" class=\"dataframe\">\n",
       "  <thead>\n",
       "    <tr style=\"text-align: right;\">\n",
       "      <th></th>\n",
       "      <th>date</th>\n",
       "      <th>final.output.concentrate_ag</th>\n",
       "      <th>final.output.concentrate_pb</th>\n",
       "      <th>final.output.concentrate_sol</th>\n",
       "      <th>final.output.concentrate_au</th>\n",
       "      <th>final.output.recovery</th>\n",
       "      <th>final.output.tail_ag</th>\n",
       "      <th>final.output.tail_pb</th>\n",
       "      <th>final.output.tail_sol</th>\n",
       "      <th>final.output.tail_au</th>\n",
       "      <th>...</th>\n",
       "      <th>secondary_cleaner.state.floatbank4_a_air</th>\n",
       "      <th>secondary_cleaner.state.floatbank4_a_level</th>\n",
       "      <th>secondary_cleaner.state.floatbank4_b_air</th>\n",
       "      <th>secondary_cleaner.state.floatbank4_b_level</th>\n",
       "      <th>secondary_cleaner.state.floatbank5_a_air</th>\n",
       "      <th>secondary_cleaner.state.floatbank5_a_level</th>\n",
       "      <th>secondary_cleaner.state.floatbank5_b_air</th>\n",
       "      <th>secondary_cleaner.state.floatbank5_b_level</th>\n",
       "      <th>secondary_cleaner.state.floatbank6_a_air</th>\n",
       "      <th>secondary_cleaner.state.floatbank6_a_level</th>\n",
       "    </tr>\n",
       "  </thead>\n",
       "  <tbody>\n",
       "    <tr>\n",
       "      <td>0</td>\n",
       "      <td>2016-01-15 00:00:00</td>\n",
       "      <td>6.055403</td>\n",
       "      <td>9.889648</td>\n",
       "      <td>5.507324</td>\n",
       "      <td>42.192020</td>\n",
       "      <td>70.541216</td>\n",
       "      <td>10.411962</td>\n",
       "      <td>0.895447</td>\n",
       "      <td>16.904297</td>\n",
       "      <td>2.143149</td>\n",
       "      <td>...</td>\n",
       "      <td>14.016835</td>\n",
       "      <td>-502.488007</td>\n",
       "      <td>12.099931</td>\n",
       "      <td>-504.715942</td>\n",
       "      <td>9.925633</td>\n",
       "      <td>-498.310211</td>\n",
       "      <td>8.079666</td>\n",
       "      <td>-500.470978</td>\n",
       "      <td>14.151341</td>\n",
       "      <td>-605.841980</td>\n",
       "    </tr>\n",
       "    <tr>\n",
       "      <td>1</td>\n",
       "      <td>2016-01-15 01:00:00</td>\n",
       "      <td>6.029369</td>\n",
       "      <td>9.968944</td>\n",
       "      <td>5.257781</td>\n",
       "      <td>42.701629</td>\n",
       "      <td>69.266198</td>\n",
       "      <td>10.462676</td>\n",
       "      <td>0.927452</td>\n",
       "      <td>16.634514</td>\n",
       "      <td>2.224930</td>\n",
       "      <td>...</td>\n",
       "      <td>13.992281</td>\n",
       "      <td>-505.503262</td>\n",
       "      <td>11.950531</td>\n",
       "      <td>-501.331529</td>\n",
       "      <td>10.039245</td>\n",
       "      <td>-500.169983</td>\n",
       "      <td>7.984757</td>\n",
       "      <td>-500.582168</td>\n",
       "      <td>13.998353</td>\n",
       "      <td>-599.787184</td>\n",
       "    </tr>\n",
       "    <tr>\n",
       "      <td>2</td>\n",
       "      <td>2016-01-15 02:00:00</td>\n",
       "      <td>6.055926</td>\n",
       "      <td>10.213995</td>\n",
       "      <td>5.383759</td>\n",
       "      <td>42.657501</td>\n",
       "      <td>68.116445</td>\n",
       "      <td>10.507046</td>\n",
       "      <td>0.953716</td>\n",
       "      <td>16.208849</td>\n",
       "      <td>2.257889</td>\n",
       "      <td>...</td>\n",
       "      <td>14.015015</td>\n",
       "      <td>-502.520901</td>\n",
       "      <td>11.912783</td>\n",
       "      <td>-501.133383</td>\n",
       "      <td>10.070913</td>\n",
       "      <td>-500.129135</td>\n",
       "      <td>8.013877</td>\n",
       "      <td>-500.517572</td>\n",
       "      <td>14.028663</td>\n",
       "      <td>-601.427363</td>\n",
       "    </tr>\n",
       "  </tbody>\n",
       "</table>\n",
       "<p>3 rows × 87 columns</p>\n",
       "</div>"
      ],
      "text/plain": [
       "                  date  final.output.concentrate_ag  \\\n",
       "0  2016-01-15 00:00:00                     6.055403   \n",
       "1  2016-01-15 01:00:00                     6.029369   \n",
       "2  2016-01-15 02:00:00                     6.055926   \n",
       "\n",
       "   final.output.concentrate_pb  final.output.concentrate_sol  \\\n",
       "0                     9.889648                      5.507324   \n",
       "1                     9.968944                      5.257781   \n",
       "2                    10.213995                      5.383759   \n",
       "\n",
       "   final.output.concentrate_au  final.output.recovery  final.output.tail_ag  \\\n",
       "0                    42.192020              70.541216             10.411962   \n",
       "1                    42.701629              69.266198             10.462676   \n",
       "2                    42.657501              68.116445             10.507046   \n",
       "\n",
       "   final.output.tail_pb  final.output.tail_sol  final.output.tail_au  ...  \\\n",
       "0              0.895447              16.904297              2.143149  ...   \n",
       "1              0.927452              16.634514              2.224930  ...   \n",
       "2              0.953716              16.208849              2.257889  ...   \n",
       "\n",
       "   secondary_cleaner.state.floatbank4_a_air  \\\n",
       "0                                 14.016835   \n",
       "1                                 13.992281   \n",
       "2                                 14.015015   \n",
       "\n",
       "   secondary_cleaner.state.floatbank4_a_level  \\\n",
       "0                                 -502.488007   \n",
       "1                                 -505.503262   \n",
       "2                                 -502.520901   \n",
       "\n",
       "   secondary_cleaner.state.floatbank4_b_air  \\\n",
       "0                                 12.099931   \n",
       "1                                 11.950531   \n",
       "2                                 11.912783   \n",
       "\n",
       "   secondary_cleaner.state.floatbank4_b_level  \\\n",
       "0                                 -504.715942   \n",
       "1                                 -501.331529   \n",
       "2                                 -501.133383   \n",
       "\n",
       "   secondary_cleaner.state.floatbank5_a_air  \\\n",
       "0                                  9.925633   \n",
       "1                                 10.039245   \n",
       "2                                 10.070913   \n",
       "\n",
       "   secondary_cleaner.state.floatbank5_a_level  \\\n",
       "0                                 -498.310211   \n",
       "1                                 -500.169983   \n",
       "2                                 -500.129135   \n",
       "\n",
       "   secondary_cleaner.state.floatbank5_b_air  \\\n",
       "0                                  8.079666   \n",
       "1                                  7.984757   \n",
       "2                                  8.013877   \n",
       "\n",
       "   secondary_cleaner.state.floatbank5_b_level  \\\n",
       "0                                 -500.470978   \n",
       "1                                 -500.582168   \n",
       "2                                 -500.517572   \n",
       "\n",
       "   secondary_cleaner.state.floatbank6_a_air  \\\n",
       "0                                 14.151341   \n",
       "1                                 13.998353   \n",
       "2                                 14.028663   \n",
       "\n",
       "   secondary_cleaner.state.floatbank6_a_level  \n",
       "0                                 -605.841980  \n",
       "1                                 -599.787184  \n",
       "2                                 -601.427363  \n",
       "\n",
       "[3 rows x 87 columns]"
      ]
     },
     "execution_count": 3,
     "metadata": {},
     "output_type": "execute_result"
    }
   ],
   "source": [
    "data_train.head(3)"
   ]
  },
  {
   "cell_type": "code",
   "execution_count": 4,
   "metadata": {},
   "outputs": [
    {
     "data": {
      "text/html": [
       "<div>\n",
       "<style scoped>\n",
       "    .dataframe tbody tr th:only-of-type {\n",
       "        vertical-align: middle;\n",
       "    }\n",
       "\n",
       "    .dataframe tbody tr th {\n",
       "        vertical-align: top;\n",
       "    }\n",
       "\n",
       "    .dataframe thead th {\n",
       "        text-align: right;\n",
       "    }\n",
       "</style>\n",
       "<table border=\"1\" class=\"dataframe\">\n",
       "  <thead>\n",
       "    <tr style=\"text-align: right;\">\n",
       "      <th></th>\n",
       "      <th>date</th>\n",
       "      <th>primary_cleaner.input.sulfate</th>\n",
       "      <th>primary_cleaner.input.depressant</th>\n",
       "      <th>primary_cleaner.input.feed_size</th>\n",
       "      <th>primary_cleaner.input.xanthate</th>\n",
       "      <th>primary_cleaner.state.floatbank8_a_air</th>\n",
       "      <th>primary_cleaner.state.floatbank8_a_level</th>\n",
       "      <th>primary_cleaner.state.floatbank8_b_air</th>\n",
       "      <th>primary_cleaner.state.floatbank8_b_level</th>\n",
       "      <th>primary_cleaner.state.floatbank8_c_air</th>\n",
       "      <th>...</th>\n",
       "      <th>secondary_cleaner.state.floatbank4_a_air</th>\n",
       "      <th>secondary_cleaner.state.floatbank4_a_level</th>\n",
       "      <th>secondary_cleaner.state.floatbank4_b_air</th>\n",
       "      <th>secondary_cleaner.state.floatbank4_b_level</th>\n",
       "      <th>secondary_cleaner.state.floatbank5_a_air</th>\n",
       "      <th>secondary_cleaner.state.floatbank5_a_level</th>\n",
       "      <th>secondary_cleaner.state.floatbank5_b_air</th>\n",
       "      <th>secondary_cleaner.state.floatbank5_b_level</th>\n",
       "      <th>secondary_cleaner.state.floatbank6_a_air</th>\n",
       "      <th>secondary_cleaner.state.floatbank6_a_level</th>\n",
       "    </tr>\n",
       "  </thead>\n",
       "  <tbody>\n",
       "    <tr>\n",
       "      <td>0</td>\n",
       "      <td>2016-09-01 00:59:59</td>\n",
       "      <td>210.800909</td>\n",
       "      <td>14.993118</td>\n",
       "      <td>8.080000</td>\n",
       "      <td>1.005021</td>\n",
       "      <td>1398.981301</td>\n",
       "      <td>-500.225577</td>\n",
       "      <td>1399.144926</td>\n",
       "      <td>-499.919735</td>\n",
       "      <td>1400.102998</td>\n",
       "      <td>...</td>\n",
       "      <td>12.023554</td>\n",
       "      <td>-497.795834</td>\n",
       "      <td>8.016656</td>\n",
       "      <td>-501.289139</td>\n",
       "      <td>7.946562</td>\n",
       "      <td>-432.317850</td>\n",
       "      <td>4.872511</td>\n",
       "      <td>-500.037437</td>\n",
       "      <td>26.705889</td>\n",
       "      <td>-499.709414</td>\n",
       "    </tr>\n",
       "    <tr>\n",
       "      <td>1</td>\n",
       "      <td>2016-09-01 01:59:59</td>\n",
       "      <td>215.392455</td>\n",
       "      <td>14.987471</td>\n",
       "      <td>8.080000</td>\n",
       "      <td>0.990469</td>\n",
       "      <td>1398.777912</td>\n",
       "      <td>-500.057435</td>\n",
       "      <td>1398.055362</td>\n",
       "      <td>-499.778182</td>\n",
       "      <td>1396.151033</td>\n",
       "      <td>...</td>\n",
       "      <td>12.058140</td>\n",
       "      <td>-498.695773</td>\n",
       "      <td>8.130979</td>\n",
       "      <td>-499.634209</td>\n",
       "      <td>7.958270</td>\n",
       "      <td>-525.839648</td>\n",
       "      <td>4.878850</td>\n",
       "      <td>-500.162375</td>\n",
       "      <td>25.019940</td>\n",
       "      <td>-499.819438</td>\n",
       "    </tr>\n",
       "    <tr>\n",
       "      <td>2</td>\n",
       "      <td>2016-09-01 02:59:59</td>\n",
       "      <td>215.259946</td>\n",
       "      <td>12.884934</td>\n",
       "      <td>7.786667</td>\n",
       "      <td>0.996043</td>\n",
       "      <td>1398.493666</td>\n",
       "      <td>-500.868360</td>\n",
       "      <td>1398.860436</td>\n",
       "      <td>-499.764529</td>\n",
       "      <td>1398.075709</td>\n",
       "      <td>...</td>\n",
       "      <td>11.962366</td>\n",
       "      <td>-498.767484</td>\n",
       "      <td>8.096893</td>\n",
       "      <td>-500.827423</td>\n",
       "      <td>8.071056</td>\n",
       "      <td>-500.801673</td>\n",
       "      <td>4.905125</td>\n",
       "      <td>-499.828510</td>\n",
       "      <td>24.994862</td>\n",
       "      <td>-500.622559</td>\n",
       "    </tr>\n",
       "  </tbody>\n",
       "</table>\n",
       "<p>3 rows × 53 columns</p>\n",
       "</div>"
      ],
      "text/plain": [
       "                  date  primary_cleaner.input.sulfate  \\\n",
       "0  2016-09-01 00:59:59                     210.800909   \n",
       "1  2016-09-01 01:59:59                     215.392455   \n",
       "2  2016-09-01 02:59:59                     215.259946   \n",
       "\n",
       "   primary_cleaner.input.depressant  primary_cleaner.input.feed_size  \\\n",
       "0                         14.993118                         8.080000   \n",
       "1                         14.987471                         8.080000   \n",
       "2                         12.884934                         7.786667   \n",
       "\n",
       "   primary_cleaner.input.xanthate  primary_cleaner.state.floatbank8_a_air  \\\n",
       "0                        1.005021                             1398.981301   \n",
       "1                        0.990469                             1398.777912   \n",
       "2                        0.996043                             1398.493666   \n",
       "\n",
       "   primary_cleaner.state.floatbank8_a_level  \\\n",
       "0                               -500.225577   \n",
       "1                               -500.057435   \n",
       "2                               -500.868360   \n",
       "\n",
       "   primary_cleaner.state.floatbank8_b_air  \\\n",
       "0                             1399.144926   \n",
       "1                             1398.055362   \n",
       "2                             1398.860436   \n",
       "\n",
       "   primary_cleaner.state.floatbank8_b_level  \\\n",
       "0                               -499.919735   \n",
       "1                               -499.778182   \n",
       "2                               -499.764529   \n",
       "\n",
       "   primary_cleaner.state.floatbank8_c_air  ...  \\\n",
       "0                             1400.102998  ...   \n",
       "1                             1396.151033  ...   \n",
       "2                             1398.075709  ...   \n",
       "\n",
       "   secondary_cleaner.state.floatbank4_a_air  \\\n",
       "0                                 12.023554   \n",
       "1                                 12.058140   \n",
       "2                                 11.962366   \n",
       "\n",
       "   secondary_cleaner.state.floatbank4_a_level  \\\n",
       "0                                 -497.795834   \n",
       "1                                 -498.695773   \n",
       "2                                 -498.767484   \n",
       "\n",
       "   secondary_cleaner.state.floatbank4_b_air  \\\n",
       "0                                  8.016656   \n",
       "1                                  8.130979   \n",
       "2                                  8.096893   \n",
       "\n",
       "   secondary_cleaner.state.floatbank4_b_level  \\\n",
       "0                                 -501.289139   \n",
       "1                                 -499.634209   \n",
       "2                                 -500.827423   \n",
       "\n",
       "   secondary_cleaner.state.floatbank5_a_air  \\\n",
       "0                                  7.946562   \n",
       "1                                  7.958270   \n",
       "2                                  8.071056   \n",
       "\n",
       "   secondary_cleaner.state.floatbank5_a_level  \\\n",
       "0                                 -432.317850   \n",
       "1                                 -525.839648   \n",
       "2                                 -500.801673   \n",
       "\n",
       "   secondary_cleaner.state.floatbank5_b_air  \\\n",
       "0                                  4.872511   \n",
       "1                                  4.878850   \n",
       "2                                  4.905125   \n",
       "\n",
       "   secondary_cleaner.state.floatbank5_b_level  \\\n",
       "0                                 -500.037437   \n",
       "1                                 -500.162375   \n",
       "2                                 -499.828510   \n",
       "\n",
       "   secondary_cleaner.state.floatbank6_a_air  \\\n",
       "0                                 26.705889   \n",
       "1                                 25.019940   \n",
       "2                                 24.994862   \n",
       "\n",
       "   secondary_cleaner.state.floatbank6_a_level  \n",
       "0                                 -499.709414  \n",
       "1                                 -499.819438  \n",
       "2                                 -500.622559  \n",
       "\n",
       "[3 rows x 53 columns]"
      ]
     },
     "execution_count": 4,
     "metadata": {},
     "output_type": "execute_result"
    }
   ],
   "source": [
    "data_test.head(3)"
   ]
  },
  {
   "cell_type": "code",
   "execution_count": 5,
   "metadata": {},
   "outputs": [
    {
     "data": {
      "text/html": [
       "<div>\n",
       "<style scoped>\n",
       "    .dataframe tbody tr th:only-of-type {\n",
       "        vertical-align: middle;\n",
       "    }\n",
       "\n",
       "    .dataframe tbody tr th {\n",
       "        vertical-align: top;\n",
       "    }\n",
       "\n",
       "    .dataframe thead th {\n",
       "        text-align: right;\n",
       "    }\n",
       "</style>\n",
       "<table border=\"1\" class=\"dataframe\">\n",
       "  <thead>\n",
       "    <tr style=\"text-align: right;\">\n",
       "      <th></th>\n",
       "      <th>date</th>\n",
       "      <th>final.output.concentrate_ag</th>\n",
       "      <th>final.output.concentrate_pb</th>\n",
       "      <th>final.output.concentrate_sol</th>\n",
       "      <th>final.output.concentrate_au</th>\n",
       "      <th>final.output.recovery</th>\n",
       "      <th>final.output.tail_ag</th>\n",
       "      <th>final.output.tail_pb</th>\n",
       "      <th>final.output.tail_sol</th>\n",
       "      <th>final.output.tail_au</th>\n",
       "      <th>...</th>\n",
       "      <th>secondary_cleaner.state.floatbank4_a_air</th>\n",
       "      <th>secondary_cleaner.state.floatbank4_a_level</th>\n",
       "      <th>secondary_cleaner.state.floatbank4_b_air</th>\n",
       "      <th>secondary_cleaner.state.floatbank4_b_level</th>\n",
       "      <th>secondary_cleaner.state.floatbank5_a_air</th>\n",
       "      <th>secondary_cleaner.state.floatbank5_a_level</th>\n",
       "      <th>secondary_cleaner.state.floatbank5_b_air</th>\n",
       "      <th>secondary_cleaner.state.floatbank5_b_level</th>\n",
       "      <th>secondary_cleaner.state.floatbank6_a_air</th>\n",
       "      <th>secondary_cleaner.state.floatbank6_a_level</th>\n",
       "    </tr>\n",
       "  </thead>\n",
       "  <tbody>\n",
       "    <tr>\n",
       "      <td>0</td>\n",
       "      <td>2016-01-15 00:00:00</td>\n",
       "      <td>6.055403</td>\n",
       "      <td>9.889648</td>\n",
       "      <td>5.507324</td>\n",
       "      <td>42.192020</td>\n",
       "      <td>70.541216</td>\n",
       "      <td>10.411962</td>\n",
       "      <td>0.895447</td>\n",
       "      <td>16.904297</td>\n",
       "      <td>2.143149</td>\n",
       "      <td>...</td>\n",
       "      <td>14.016835</td>\n",
       "      <td>-502.488007</td>\n",
       "      <td>12.099931</td>\n",
       "      <td>-504.715942</td>\n",
       "      <td>9.925633</td>\n",
       "      <td>-498.310211</td>\n",
       "      <td>8.079666</td>\n",
       "      <td>-500.470978</td>\n",
       "      <td>14.151341</td>\n",
       "      <td>-605.841980</td>\n",
       "    </tr>\n",
       "    <tr>\n",
       "      <td>1</td>\n",
       "      <td>2016-01-15 01:00:00</td>\n",
       "      <td>6.029369</td>\n",
       "      <td>9.968944</td>\n",
       "      <td>5.257781</td>\n",
       "      <td>42.701629</td>\n",
       "      <td>69.266198</td>\n",
       "      <td>10.462676</td>\n",
       "      <td>0.927452</td>\n",
       "      <td>16.634514</td>\n",
       "      <td>2.224930</td>\n",
       "      <td>...</td>\n",
       "      <td>13.992281</td>\n",
       "      <td>-505.503262</td>\n",
       "      <td>11.950531</td>\n",
       "      <td>-501.331529</td>\n",
       "      <td>10.039245</td>\n",
       "      <td>-500.169983</td>\n",
       "      <td>7.984757</td>\n",
       "      <td>-500.582168</td>\n",
       "      <td>13.998353</td>\n",
       "      <td>-599.787184</td>\n",
       "    </tr>\n",
       "    <tr>\n",
       "      <td>2</td>\n",
       "      <td>2016-01-15 02:00:00</td>\n",
       "      <td>6.055926</td>\n",
       "      <td>10.213995</td>\n",
       "      <td>5.383759</td>\n",
       "      <td>42.657501</td>\n",
       "      <td>68.116445</td>\n",
       "      <td>10.507046</td>\n",
       "      <td>0.953716</td>\n",
       "      <td>16.208849</td>\n",
       "      <td>2.257889</td>\n",
       "      <td>...</td>\n",
       "      <td>14.015015</td>\n",
       "      <td>-502.520901</td>\n",
       "      <td>11.912783</td>\n",
       "      <td>-501.133383</td>\n",
       "      <td>10.070913</td>\n",
       "      <td>-500.129135</td>\n",
       "      <td>8.013877</td>\n",
       "      <td>-500.517572</td>\n",
       "      <td>14.028663</td>\n",
       "      <td>-601.427363</td>\n",
       "    </tr>\n",
       "  </tbody>\n",
       "</table>\n",
       "<p>3 rows × 87 columns</p>\n",
       "</div>"
      ],
      "text/plain": [
       "                  date  final.output.concentrate_ag  \\\n",
       "0  2016-01-15 00:00:00                     6.055403   \n",
       "1  2016-01-15 01:00:00                     6.029369   \n",
       "2  2016-01-15 02:00:00                     6.055926   \n",
       "\n",
       "   final.output.concentrate_pb  final.output.concentrate_sol  \\\n",
       "0                     9.889648                      5.507324   \n",
       "1                     9.968944                      5.257781   \n",
       "2                    10.213995                      5.383759   \n",
       "\n",
       "   final.output.concentrate_au  final.output.recovery  final.output.tail_ag  \\\n",
       "0                    42.192020              70.541216             10.411962   \n",
       "1                    42.701629              69.266198             10.462676   \n",
       "2                    42.657501              68.116445             10.507046   \n",
       "\n",
       "   final.output.tail_pb  final.output.tail_sol  final.output.tail_au  ...  \\\n",
       "0              0.895447              16.904297              2.143149  ...   \n",
       "1              0.927452              16.634514              2.224930  ...   \n",
       "2              0.953716              16.208849              2.257889  ...   \n",
       "\n",
       "   secondary_cleaner.state.floatbank4_a_air  \\\n",
       "0                                 14.016835   \n",
       "1                                 13.992281   \n",
       "2                                 14.015015   \n",
       "\n",
       "   secondary_cleaner.state.floatbank4_a_level  \\\n",
       "0                                 -502.488007   \n",
       "1                                 -505.503262   \n",
       "2                                 -502.520901   \n",
       "\n",
       "   secondary_cleaner.state.floatbank4_b_air  \\\n",
       "0                                 12.099931   \n",
       "1                                 11.950531   \n",
       "2                                 11.912783   \n",
       "\n",
       "   secondary_cleaner.state.floatbank4_b_level  \\\n",
       "0                                 -504.715942   \n",
       "1                                 -501.331529   \n",
       "2                                 -501.133383   \n",
       "\n",
       "   secondary_cleaner.state.floatbank5_a_air  \\\n",
       "0                                  9.925633   \n",
       "1                                 10.039245   \n",
       "2                                 10.070913   \n",
       "\n",
       "   secondary_cleaner.state.floatbank5_a_level  \\\n",
       "0                                 -498.310211   \n",
       "1                                 -500.169983   \n",
       "2                                 -500.129135   \n",
       "\n",
       "   secondary_cleaner.state.floatbank5_b_air  \\\n",
       "0                                  8.079666   \n",
       "1                                  7.984757   \n",
       "2                                  8.013877   \n",
       "\n",
       "   secondary_cleaner.state.floatbank5_b_level  \\\n",
       "0                                 -500.470978   \n",
       "1                                 -500.582168   \n",
       "2                                 -500.517572   \n",
       "\n",
       "   secondary_cleaner.state.floatbank6_a_air  \\\n",
       "0                                 14.151341   \n",
       "1                                 13.998353   \n",
       "2                                 14.028663   \n",
       "\n",
       "   secondary_cleaner.state.floatbank6_a_level  \n",
       "0                                 -605.841980  \n",
       "1                                 -599.787184  \n",
       "2                                 -601.427363  \n",
       "\n",
       "[3 rows x 87 columns]"
      ]
     },
     "execution_count": 5,
     "metadata": {},
     "output_type": "execute_result"
    }
   ],
   "source": [
    "data_full.head(3)"
   ]
  },
  {
   "cell_type": "code",
   "execution_count": 6,
   "metadata": {},
   "outputs": [],
   "source": [
    "data = [data_train,data_test,data_full]\n",
    "name_df =['data_train','data_test','data_full']"
   ]
  },
  {
   "cell_type": "code",
   "execution_count": 7,
   "metadata": {},
   "outputs": [],
   "source": [
    "def open_data(data):\n",
    "    print()\n",
    "    print('Размер таблицы', data.shape, '\\n')\n",
    "    print(\"Кол-во пропусков \", data.isna().sum().sum())\n",
    "    print(\"Кол-во дубликатов \", data.duplicated().sum(),'\\n\\n')"
   ]
  },
  {
   "cell_type": "code",
   "execution_count": 8,
   "metadata": {
    "scrolled": false
   },
   "outputs": [
    {
     "name": "stdout",
     "output_type": "stream",
     "text": [
      "data_train\n",
      "\n",
      "Размер таблицы (16860, 87) \n",
      "\n",
      "Кол-во пропусков  30320\n",
      "Кол-во дубликатов  0 \n",
      "\n",
      "\n",
      "data_test\n",
      "\n",
      "Размер таблицы (5856, 53) \n",
      "\n",
      "Кол-во пропусков  2360\n",
      "Кол-во дубликатов  0 \n",
      "\n",
      "\n",
      "data_full\n",
      "\n",
      "Размер таблицы (22716, 87) \n",
      "\n",
      "Кол-во пропусков  36587\n",
      "Кол-во дубликатов  0 \n",
      "\n",
      "\n"
     ]
    }
   ],
   "source": [
    "count = 0\n",
    "for i in data:\n",
    "    print(name_df[count])\n",
    "    open_data(i)\n",
    "    count +=1"
   ]
  },
  {
   "cell_type": "markdown",
   "metadata": {},
   "source": [
    "Посмотрим количество пропусков в процентном соотношении."
   ]
  },
  {
   "cell_type": "code",
   "execution_count": 9,
   "metadata": {
    "scrolled": true
   },
   "outputs": [],
   "source": [
    "def find_null(data):\n",
    "    print(\"|{: <60}|\".format(\"Столбец\"),\"{: <20}|\".format(\"количество пропусков\"),\"{: <25}|\".format(\"процентов от общего числа\"))\n",
    "    print('---------------------------------------------------------------------------------------------------------------')\n",
    "    for i in data.columns:\n",
    "        if data[i].isna().sum() != 0:\n",
    "            print(\"|{: <60}|\".format(i),\"{: ^20}|\".format(data[i].isna().sum()),\"{: ^25.1%}|\".format(data[i].isna().sum()/data.shape[0]))"
   ]
  },
  {
   "cell_type": "code",
   "execution_count": 10,
   "metadata": {
    "scrolled": true
   },
   "outputs": [
    {
     "name": "stdout",
     "output_type": "stream",
     "text": [
      "data_train\n",
      "|Столбец                                                     | количество пропусков| процентов от общего числа|\n",
      "---------------------------------------------------------------------------------------------------------------\n",
      "|final.output.concentrate_ag                                 |          72         |           0.4%           |\n",
      "|final.output.concentrate_pb                                 |          72         |           0.4%           |\n",
      "|final.output.concentrate_sol                                |         370         |           2.2%           |\n",
      "|final.output.concentrate_au                                 |          71         |           0.4%           |\n",
      "|final.output.recovery                                       |         1521        |           9.0%           |\n",
      "|final.output.tail_ag                                        |          66         |           0.4%           |\n",
      "|final.output.tail_pb                                        |         183         |           1.1%           |\n",
      "|final.output.tail_sol                                       |         145         |           0.9%           |\n",
      "|final.output.tail_au                                        |          66         |           0.4%           |\n",
      "|primary_cleaner.input.sulfate                               |         1307        |           7.8%           |\n",
      "|primary_cleaner.input.depressant                            |         1262        |           7.5%           |\n",
      "|primary_cleaner.input.xanthate                              |         985         |           5.8%           |\n",
      "|primary_cleaner.output.concentrate_ag                       |          82         |           0.5%           |\n",
      "|primary_cleaner.output.concentrate_pb                       |         358         |           2.1%           |\n",
      "|primary_cleaner.output.concentrate_sol                      |         636         |           3.8%           |\n",
      "|primary_cleaner.output.concentrate_au                       |          82         |           0.5%           |\n",
      "|primary_cleaner.output.tail_ag                              |          83         |           0.5%           |\n",
      "|primary_cleaner.output.tail_pb                              |          99         |           0.6%           |\n",
      "|primary_cleaner.output.tail_sol                             |         281         |           1.7%           |\n",
      "|primary_cleaner.output.tail_au                              |          83         |           0.5%           |\n",
      "|primary_cleaner.state.floatbank8_a_air                      |          40         |           0.2%           |\n",
      "|primary_cleaner.state.floatbank8_a_level                    |          33         |           0.2%           |\n",
      "|primary_cleaner.state.floatbank8_b_air                      |          40         |           0.2%           |\n",
      "|primary_cleaner.state.floatbank8_b_level                    |          27         |           0.2%           |\n",
      "|primary_cleaner.state.floatbank8_c_air                      |          38         |           0.2%           |\n",
      "|primary_cleaner.state.floatbank8_c_level                    |          27         |           0.2%           |\n",
      "|primary_cleaner.state.floatbank8_d_air                      |          39         |           0.2%           |\n",
      "|primary_cleaner.state.floatbank8_d_level                    |          27         |           0.2%           |\n",
      "|rougher.calculation.sulfate_to_au_concentrate               |          27         |           0.2%           |\n",
      "|rougher.calculation.floatbank10_sulfate_to_au_feed          |          27         |           0.2%           |\n",
      "|rougher.calculation.floatbank11_sulfate_to_au_feed          |          27         |           0.2%           |\n",
      "|rougher.calculation.au_pb_ratio                             |         1242        |           7.4%           |\n",
      "|rougher.input.feed_ag                                       |          82         |           0.5%           |\n",
      "|rougher.input.feed_pb                                       |         228         |           1.4%           |\n",
      "|rougher.input.feed_rate                                     |         513         |           3.0%           |\n",
      "|rougher.input.feed_size                                     |         417         |           2.5%           |\n",
      "|rougher.input.feed_sol                                      |         292         |           1.7%           |\n",
      "|rougher.input.feed_au                                       |          83         |           0.5%           |\n",
      "|rougher.input.floatbank10_sulfate                           |         1044        |           6.2%           |\n",
      "|rougher.input.floatbank10_xanthate                          |         346         |           2.1%           |\n",
      "|rougher.input.floatbank11_sulfate                           |         623         |           3.7%           |\n",
      "|rougher.input.floatbank11_xanthate                          |         1904        |           11.3%          |\n",
      "|rougher.output.concentrate_ag                               |          82         |           0.5%           |\n",
      "|rougher.output.concentrate_pb                               |          82         |           0.5%           |\n",
      "|rougher.output.concentrate_sol                              |         162         |           1.0%           |\n",
      "|rougher.output.concentrate_au                               |          82         |           0.5%           |\n",
      "|rougher.output.recovery                                     |         2573        |           15.3%          |\n",
      "|rougher.output.tail_ag                                      |         2250        |           13.3%          |\n",
      "|rougher.output.tail_pb                                      |          82         |           0.5%           |\n",
      "|rougher.output.tail_sol                                     |         2249        |           13.3%          |\n",
      "|rougher.output.tail_au                                      |         2249        |           13.3%          |\n",
      "|rougher.state.floatbank10_a_air                             |          53         |           0.3%           |\n",
      "|rougher.state.floatbank10_a_level                           |          53         |           0.3%           |\n",
      "|rougher.state.floatbank10_b_air                             |          53         |           0.3%           |\n",
      "|rougher.state.floatbank10_b_level                           |          53         |           0.3%           |\n",
      "|rougher.state.floatbank10_c_air                             |          53         |           0.3%           |\n",
      "|rougher.state.floatbank10_c_level                           |          46         |           0.3%           |\n",
      "|rougher.state.floatbank10_d_air                             |          58         |           0.3%           |\n",
      "|rougher.state.floatbank10_d_level                           |          51         |           0.3%           |\n",
      "|rougher.state.floatbank10_e_air                             |         603         |           3.6%           |\n",
      "|rougher.state.floatbank10_e_level                           |          51         |           0.3%           |\n",
      "|rougher.state.floatbank10_f_air                             |          58         |           0.3%           |\n",
      "|rougher.state.floatbank10_f_level                           |          58         |           0.3%           |\n",
      "|secondary_cleaner.output.tail_ag                            |          84         |           0.5%           |\n",
      "|secondary_cleaner.output.tail_pb                            |          96         |           0.6%           |\n",
      "|secondary_cleaner.output.tail_sol                           |         1986        |           11.8%          |\n",
      "|secondary_cleaner.output.tail_au                            |          82         |           0.5%           |\n",
      "|secondary_cleaner.state.floatbank2_a_air                    |         363         |           2.2%           |\n",
      "|secondary_cleaner.state.floatbank2_a_level                  |         109         |           0.6%           |\n",
      "|secondary_cleaner.state.floatbank2_b_air                    |         155         |           0.9%           |\n",
      "|secondary_cleaner.state.floatbank2_b_level                  |         112         |           0.7%           |\n",
      "|secondary_cleaner.state.floatbank3_a_air                    |          97         |           0.6%           |\n",
      "|secondary_cleaner.state.floatbank3_a_level                  |         113         |           0.7%           |\n",
      "|secondary_cleaner.state.floatbank3_b_air                    |         108         |           0.6%           |\n",
      "|secondary_cleaner.state.floatbank3_b_level                  |         110         |           0.7%           |\n",
      "|secondary_cleaner.state.floatbank4_a_air                    |         129         |           0.8%           |\n",
      "|secondary_cleaner.state.floatbank4_a_level                  |         113         |           0.7%           |\n",
      "|secondary_cleaner.state.floatbank4_b_air                    |          92         |           0.5%           |\n",
      "|secondary_cleaner.state.floatbank4_b_level                  |          93         |           0.6%           |\n",
      "|secondary_cleaner.state.floatbank5_a_air                    |          85         |           0.5%           |\n",
      "|secondary_cleaner.state.floatbank5_a_level                  |          85         |           0.5%           |\n",
      "|secondary_cleaner.state.floatbank5_b_air                    |          85         |           0.5%           |\n",
      "|secondary_cleaner.state.floatbank5_b_level                  |          84         |           0.5%           |\n",
      "|secondary_cleaner.state.floatbank6_a_air                    |         103         |           0.6%           |\n",
      "|secondary_cleaner.state.floatbank6_a_level                  |          85         |           0.5%           |\n",
      "\n",
      "\n",
      "\n",
      "data_test\n",
      "|Столбец                                                     | количество пропусков| процентов от общего числа|\n",
      "---------------------------------------------------------------------------------------------------------------\n",
      "|primary_cleaner.input.sulfate                               |         302         |           5.2%           |\n",
      "|primary_cleaner.input.depressant                            |         284         |           4.8%           |\n",
      "|primary_cleaner.input.xanthate                              |         166         |           2.8%           |\n",
      "|primary_cleaner.state.floatbank8_a_air                      |          16         |           0.3%           |\n",
      "|primary_cleaner.state.floatbank8_a_level                    |          16         |           0.3%           |\n",
      "|primary_cleaner.state.floatbank8_b_air                      |          16         |           0.3%           |\n",
      "|primary_cleaner.state.floatbank8_b_level                    |          16         |           0.3%           |\n",
      "|primary_cleaner.state.floatbank8_c_air                      |          16         |           0.3%           |\n",
      "|primary_cleaner.state.floatbank8_c_level                    |          16         |           0.3%           |\n",
      "|primary_cleaner.state.floatbank8_d_air                      |          16         |           0.3%           |\n",
      "|primary_cleaner.state.floatbank8_d_level                    |          16         |           0.3%           |\n",
      "|rougher.input.feed_ag                                       |          16         |           0.3%           |\n",
      "|rougher.input.feed_pb                                       |          16         |           0.3%           |\n",
      "|rougher.input.feed_rate                                     |          40         |           0.7%           |\n",
      "|rougher.input.feed_size                                     |          22         |           0.4%           |\n",
      "|rougher.input.feed_sol                                      |          67         |           1.1%           |\n",
      "|rougher.input.feed_au                                       |          16         |           0.3%           |\n",
      "|rougher.input.floatbank10_sulfate                           |         257         |           4.4%           |\n",
      "|rougher.input.floatbank10_xanthate                          |         123         |           2.1%           |\n",
      "|rougher.input.floatbank11_sulfate                           |          55         |           0.9%           |\n",
      "|rougher.input.floatbank11_xanthate                          |         353         |           6.0%           |\n",
      "|rougher.state.floatbank10_a_air                             |          17         |           0.3%           |\n",
      "|rougher.state.floatbank10_a_level                           |          16         |           0.3%           |\n",
      "|rougher.state.floatbank10_b_air                             |          17         |           0.3%           |\n",
      "|rougher.state.floatbank10_b_level                           |          16         |           0.3%           |\n",
      "|rougher.state.floatbank10_c_air                             |          17         |           0.3%           |\n",
      "|rougher.state.floatbank10_c_level                           |          16         |           0.3%           |\n",
      "|rougher.state.floatbank10_d_air                             |          17         |           0.3%           |\n",
      "|rougher.state.floatbank10_d_level                           |          16         |           0.3%           |\n",
      "|rougher.state.floatbank10_e_air                             |          17         |           0.3%           |\n",
      "|rougher.state.floatbank10_e_level                           |          16         |           0.3%           |\n",
      "|rougher.state.floatbank10_f_air                             |          17         |           0.3%           |\n",
      "|rougher.state.floatbank10_f_level                           |          16         |           0.3%           |\n",
      "|secondary_cleaner.state.floatbank2_a_air                    |          20         |           0.3%           |\n",
      "|secondary_cleaner.state.floatbank2_a_level                  |          16         |           0.3%           |\n",
      "|secondary_cleaner.state.floatbank2_b_air                    |          23         |           0.4%           |\n",
      "|secondary_cleaner.state.floatbank2_b_level                  |          16         |           0.3%           |\n",
      "|secondary_cleaner.state.floatbank3_a_air                    |          34         |           0.6%           |\n",
      "|secondary_cleaner.state.floatbank3_a_level                  |          16         |           0.3%           |\n",
      "|secondary_cleaner.state.floatbank3_b_air                    |          16         |           0.3%           |\n",
      "|secondary_cleaner.state.floatbank3_b_level                  |          16         |           0.3%           |\n",
      "|secondary_cleaner.state.floatbank4_a_air                    |          16         |           0.3%           |\n",
      "|secondary_cleaner.state.floatbank4_a_level                  |          16         |           0.3%           |\n",
      "|secondary_cleaner.state.floatbank4_b_air                    |          16         |           0.3%           |\n",
      "|secondary_cleaner.state.floatbank4_b_level                  |          16         |           0.3%           |\n",
      "|secondary_cleaner.state.floatbank5_a_air                    |          16         |           0.3%           |\n",
      "|secondary_cleaner.state.floatbank5_a_level                  |          16         |           0.3%           |\n",
      "|secondary_cleaner.state.floatbank5_b_air                    |          16         |           0.3%           |\n",
      "|secondary_cleaner.state.floatbank5_b_level                  |          16         |           0.3%           |\n",
      "|secondary_cleaner.state.floatbank6_a_air                    |          16         |           0.3%           |\n",
      "|secondary_cleaner.state.floatbank6_a_level                  |          16         |           0.3%           |\n",
      "\n",
      "\n",
      "\n",
      "data_full\n",
      "|Столбец                                                     | количество пропусков| процентов от общего числа|\n",
      "---------------------------------------------------------------------------------------------------------------\n",
      "|final.output.concentrate_ag                                 |          89         |           0.4%           |\n",
      "|final.output.concentrate_pb                                 |          87         |           0.4%           |\n",
      "|final.output.concentrate_sol                                |         385         |           1.7%           |\n",
      "|final.output.concentrate_au                                 |          86         |           0.4%           |\n",
      "|final.output.recovery                                       |         1963        |           8.6%           |\n",
      "|final.output.tail_ag                                        |          83         |           0.4%           |\n",
      "|final.output.tail_pb                                        |         200         |           0.9%           |\n",
      "|final.output.tail_sol                                       |         271         |           1.2%           |\n",
      "|final.output.tail_au                                        |          81         |           0.4%           |\n",
      "|primary_cleaner.input.sulfate                               |         1609        |           7.1%           |\n",
      "|primary_cleaner.input.depressant                            |         1546        |           6.8%           |\n",
      "|primary_cleaner.input.xanthate                              |         1151        |           5.1%           |\n",
      "|primary_cleaner.output.concentrate_ag                       |          98         |           0.4%           |\n",
      "|primary_cleaner.output.concentrate_pb                       |         448         |           2.0%           |\n",
      "|primary_cleaner.output.concentrate_sol                      |         798         |           3.5%           |\n",
      "|primary_cleaner.output.concentrate_au                       |          98         |           0.4%           |\n",
      "|primary_cleaner.output.tail_ag                              |         102         |           0.4%           |\n",
      "|primary_cleaner.output.tail_pb                              |         122         |           0.5%           |\n",
      "|primary_cleaner.output.tail_sol                             |         351         |           1.5%           |\n",
      "|primary_cleaner.output.tail_au                              |          99         |           0.4%           |\n",
      "|primary_cleaner.state.floatbank8_a_air                      |          56         |           0.2%           |\n",
      "|primary_cleaner.state.floatbank8_a_level                    |          49         |           0.2%           |\n",
      "|primary_cleaner.state.floatbank8_b_air                      |          56         |           0.2%           |\n",
      "|primary_cleaner.state.floatbank8_b_level                    |          43         |           0.2%           |\n",
      "|primary_cleaner.state.floatbank8_c_air                      |          54         |           0.2%           |\n",
      "|primary_cleaner.state.floatbank8_c_level                    |          43         |           0.2%           |\n",
      "|primary_cleaner.state.floatbank8_d_air                      |          55         |           0.2%           |\n",
      "|primary_cleaner.state.floatbank8_d_level                    |          43         |           0.2%           |\n",
      "|rougher.calculation.sulfate_to_au_concentrate               |          44         |           0.2%           |\n",
      "|rougher.calculation.floatbank10_sulfate_to_au_feed          |          44         |           0.2%           |\n",
      "|rougher.calculation.floatbank11_sulfate_to_au_feed          |          44         |           0.2%           |\n",
      "|rougher.calculation.au_pb_ratio                             |         1627        |           7.2%           |\n",
      "|rougher.input.feed_ag                                       |          98         |           0.4%           |\n",
      "|rougher.input.feed_pb                                       |         244         |           1.1%           |\n",
      "|rougher.input.feed_rate                                     |         553         |           2.4%           |\n",
      "|rougher.input.feed_size                                     |         439         |           1.9%           |\n",
      "|rougher.input.feed_sol                                      |         359         |           1.6%           |\n",
      "|rougher.input.feed_au                                       |          99         |           0.4%           |\n",
      "|rougher.input.floatbank10_sulfate                           |         1301        |           5.7%           |\n",
      "|rougher.input.floatbank10_xanthate                          |         469         |           2.1%           |\n",
      "|rougher.input.floatbank11_sulfate                           |         678         |           3.0%           |\n",
      "|rougher.input.floatbank11_xanthate                          |         2257        |           9.9%           |\n",
      "|rougher.output.concentrate_ag                               |          98         |           0.4%           |\n",
      "|rougher.output.concentrate_pb                               |          98         |           0.4%           |\n",
      "|rougher.output.concentrate_sol                              |         190         |           0.8%           |\n",
      "|rougher.output.concentrate_au                               |          98         |           0.4%           |\n",
      "|rougher.output.recovery                                     |         3119        |           13.7%          |\n",
      "|rougher.output.tail_ag                                      |         2737        |           12.0%          |\n",
      "|rougher.output.tail_pb                                      |          98         |           0.4%           |\n",
      "|rougher.output.tail_sol                                     |         2736        |           12.0%          |\n",
      "|rougher.output.tail_au                                      |         2736        |           12.0%          |\n",
      "|rougher.state.floatbank10_a_air                             |          70         |           0.3%           |\n",
      "|rougher.state.floatbank10_a_level                           |          69         |           0.3%           |\n",
      "|rougher.state.floatbank10_b_air                             |          70         |           0.3%           |\n",
      "|rougher.state.floatbank10_b_level                           |          69         |           0.3%           |\n",
      "|rougher.state.floatbank10_c_air                             |          70         |           0.3%           |\n",
      "|rougher.state.floatbank10_c_level                           |          62         |           0.3%           |\n",
      "|rougher.state.floatbank10_d_air                             |          75         |           0.3%           |\n",
      "|rougher.state.floatbank10_d_level                           |          67         |           0.3%           |\n",
      "|rougher.state.floatbank10_e_air                             |         620         |           2.7%           |\n",
      "|rougher.state.floatbank10_e_level                           |          67         |           0.3%           |\n",
      "|rougher.state.floatbank10_f_air                             |          75         |           0.3%           |\n",
      "|rougher.state.floatbank10_f_level                           |          74         |           0.3%           |\n",
      "|secondary_cleaner.output.tail_ag                            |         100         |           0.4%           |\n",
      "|secondary_cleaner.output.tail_pb                            |         116         |           0.5%           |\n",
      "|secondary_cleaner.output.tail_sol                           |         2215        |           9.8%           |\n",
      "|secondary_cleaner.output.tail_au                            |          98         |           0.4%           |\n",
      "|secondary_cleaner.state.floatbank2_a_air                    |         383         |           1.7%           |\n",
      "|secondary_cleaner.state.floatbank2_a_level                  |         125         |           0.6%           |\n",
      "|secondary_cleaner.state.floatbank2_b_air                    |         178         |           0.8%           |\n",
      "|secondary_cleaner.state.floatbank2_b_level                  |         128         |           0.6%           |\n",
      "|secondary_cleaner.state.floatbank3_a_air                    |         131         |           0.6%           |\n",
      "|secondary_cleaner.state.floatbank3_a_level                  |         129         |           0.6%           |\n",
      "|secondary_cleaner.state.floatbank3_b_air                    |         124         |           0.5%           |\n",
      "|secondary_cleaner.state.floatbank3_b_level                  |         126         |           0.6%           |\n",
      "|secondary_cleaner.state.floatbank4_a_air                    |         145         |           0.6%           |\n",
      "|secondary_cleaner.state.floatbank4_a_level                  |         129         |           0.6%           |\n",
      "|secondary_cleaner.state.floatbank4_b_air                    |         108         |           0.5%           |\n",
      "|secondary_cleaner.state.floatbank4_b_level                  |         109         |           0.5%           |\n",
      "|secondary_cleaner.state.floatbank5_a_air                    |         101         |           0.4%           |\n",
      "|secondary_cleaner.state.floatbank5_a_level                  |         101         |           0.4%           |\n",
      "|secondary_cleaner.state.floatbank5_b_air                    |         101         |           0.4%           |\n",
      "|secondary_cleaner.state.floatbank5_b_level                  |         100         |           0.4%           |\n",
      "|secondary_cleaner.state.floatbank6_a_air                    |         119         |           0.5%           |\n",
      "|secondary_cleaner.state.floatbank6_a_level                  |         101         |           0.4%           |\n",
      "\n",
      "\n",
      "\n"
     ]
    }
   ],
   "source": [
    "count = 0\n",
    "for i in data:\n",
    "    print(name_df[count])\n",
    "    find_null(i)\n",
    "    print('\\n\\n')\n",
    "    count+=1"
   ]
  },
  {
   "cell_type": "markdown",
   "metadata": {},
   "source": [
    "В данных наблюдаем большое количество пропусков. Избавимся от них в процессе предобработки данных. Дубликаты в данных отсутствуют."
   ]
  },
  {
   "cell_type": "markdown",
   "metadata": {},
   "source": [
    "### Проверим, что эффективность обогащения рассчитана правильно. Вычислим её на обучающей выборке для признака rougher.output.recovery. Найдем MAE между нашими расчётами и значением признака. "
   ]
  },
  {
   "cell_type": "code",
   "execution_count": 11,
   "metadata": {},
   "outputs": [],
   "source": [
    "data_train_mae = data_train.dropna()"
   ]
  },
  {
   "cell_type": "code",
   "execution_count": 12,
   "metadata": {},
   "outputs": [],
   "source": [
    "input_recovery = data_train_mae['rougher.output.recovery']"
   ]
  },
  {
   "cell_type": "markdown",
   "metadata": {},
   "source": [
    "Эффективность обогащения рассчитывается по формуле"
   ]
  },
  {
   "cell_type": "code",
   "execution_count": 13,
   "metadata": {},
   "outputs": [],
   "source": [
    "C = data_train_mae['rougher.output.concentrate_au']\n",
    "F = data_train_mae['rougher.input.feed_au']\n",
    "T = data_train_mae['rougher.output.tail_au']\n",
    "recovery=((C*(F - T)) / (F*(C - T)))*100"
   ]
  },
  {
   "cell_type": "code",
   "execution_count": 14,
   "metadata": {},
   "outputs": [
    {
     "name": "stdout",
     "output_type": "stream",
     "text": [
      "\"MAE:\" 9.555596961987514e-15\n"
     ]
    }
   ],
   "source": [
    "print('\"MAE:\"',mean_absolute_error(input_recovery, recovery))\n"
   ]
  },
  {
   "cell_type": "markdown",
   "metadata": {},
   "source": [
    "Значение MAE близкое к нулю говорит о том, что эффективность обогащения рассчитана правильно."
   ]
  },
  {
   "cell_type": "markdown",
   "metadata": {},
   "source": [
    "### Проанализируем признаки, недоступные в тестовой выборке."
   ]
  },
  {
   "cell_type": "code",
   "execution_count": 15,
   "metadata": {},
   "outputs": [
    {
     "data": {
      "text/plain": [
       "['final.output.concentrate_au',\n",
       " 'rougher.output.tail_au',\n",
       " 'rougher.output.concentrate_ag',\n",
       " 'rougher.output.concentrate_sol',\n",
       " 'rougher.calculation.floatbank11_sulfate_to_au_feed',\n",
       " 'primary_cleaner.output.concentrate_sol',\n",
       " 'final.output.concentrate_ag',\n",
       " 'rougher.output.concentrate_pb',\n",
       " 'final.output.concentrate_sol',\n",
       " 'rougher.output.tail_ag',\n",
       " 'final.output.tail_sol',\n",
       " 'primary_cleaner.output.concentrate_ag',\n",
       " 'final.output.tail_au',\n",
       " 'final.output.concentrate_pb',\n",
       " 'primary_cleaner.output.tail_sol',\n",
       " 'rougher.calculation.floatbank10_sulfate_to_au_feed',\n",
       " 'final.output.recovery',\n",
       " 'primary_cleaner.output.tail_ag',\n",
       " 'rougher.output.concentrate_au',\n",
       " 'primary_cleaner.output.concentrate_pb',\n",
       " 'secondary_cleaner.output.tail_au',\n",
       " 'rougher.output.tail_pb',\n",
       " 'secondary_cleaner.output.tail_ag',\n",
       " 'final.output.tail_ag',\n",
       " 'rougher.calculation.sulfate_to_au_concentrate',\n",
       " 'secondary_cleaner.output.tail_pb',\n",
       " 'secondary_cleaner.output.tail_sol',\n",
       " 'rougher.calculation.au_pb_ratio',\n",
       " 'rougher.output.recovery',\n",
       " 'final.output.tail_pb',\n",
       " 'primary_cleaner.output.concentrate_au',\n",
       " 'primary_cleaner.output.tail_au',\n",
       " 'rougher.output.tail_sol',\n",
       " 'primary_cleaner.output.tail_pb']"
      ]
     },
     "execution_count": 15,
     "metadata": {},
     "output_type": "execute_result"
    }
   ],
   "source": [
    "other_columns=set(data_full.columns)-set(data_test.columns)\n",
    "other_columns = list(other_columns)\n",
    "other_columns"
   ]
  },
  {
   "cell_type": "markdown",
   "metadata": {},
   "source": [
    "В тестовых данных недоступны параметры готового продукта, т.к эти параметры мы получаем по окончании процесса."
   ]
  },
  {
   "cell_type": "markdown",
   "metadata": {},
   "source": [
    "### Проведите предобработку данных."
   ]
  },
  {
   "cell_type": "markdown",
   "metadata": {},
   "source": [
    "Добавим в тестовую выборку целевые признаки из full_data ['rougher.output.recovery' и\n",
    "'final.output.recovery']"
   ]
  },
  {
   "cell_type": "code",
   "execution_count": 16,
   "metadata": {},
   "outputs": [
    {
     "data": {
      "text/plain": [
       "(5856, 55)"
      ]
     },
     "execution_count": 16,
     "metadata": {},
     "output_type": "execute_result"
    }
   ],
   "source": [
    "data_test = data_test.merge(data_full[['date', 'rougher.output.recovery','final.output.recovery']], on='date')\n",
    "data_test.shape"
   ]
  },
  {
   "cell_type": "markdown",
   "metadata": {},
   "source": [
    "Оставим в обучающей выборке признаки такие же как и в тестовой."
   ]
  },
  {
   "cell_type": "code",
   "execution_count": 17,
   "metadata": {},
   "outputs": [],
   "source": [
    "other_columns=set(data_full.columns)-set(data_test.columns)\n",
    "other_columns = list(other_columns)"
   ]
  },
  {
   "cell_type": "code",
   "execution_count": 18,
   "metadata": {},
   "outputs": [],
   "source": [
    "for column in other_columns:\n",
    "    data_train = data_train.drop([column] , axis=1)"
   ]
  },
  {
   "cell_type": "code",
   "execution_count": 19,
   "metadata": {},
   "outputs": [
    {
     "data": {
      "text/plain": [
       "(16860, 55)"
      ]
     },
     "execution_count": 19,
     "metadata": {},
     "output_type": "execute_result"
    }
   ],
   "source": [
    "data_train.shape"
   ]
  },
  {
   "cell_type": "markdown",
   "metadata": {},
   "source": [
    "## Анализ данных"
   ]
  },
  {
   "cell_type": "markdown",
   "metadata": {},
   "source": [
    "### Посмотрим, как меняется концентрация металлов (Au, Ag, Pb) на различных этапах очистки."
   ]
  },
  {
   "cell_type": "markdown",
   "metadata": {},
   "source": [
    "Найдем признаки несущие информацию о концентрации металлов."
   ]
  },
  {
   "cell_type": "code",
   "execution_count": 20,
   "metadata": {},
   "outputs": [],
   "source": [
    "concentrate_output = []\n",
    "for i in data_full.columns:\n",
    "    if 'concentrate' in i and 'output' in i:        \n",
    "        concentrate_output.append(i)"
   ]
  },
  {
   "cell_type": "code",
   "execution_count": 21,
   "metadata": {},
   "outputs": [
    {
     "data": {
      "text/plain": [
       "['final.output.concentrate_ag',\n",
       " 'final.output.concentrate_pb',\n",
       " 'final.output.concentrate_sol',\n",
       " 'final.output.concentrate_au',\n",
       " 'primary_cleaner.output.concentrate_ag',\n",
       " 'primary_cleaner.output.concentrate_pb',\n",
       " 'primary_cleaner.output.concentrate_sol',\n",
       " 'primary_cleaner.output.concentrate_au',\n",
       " 'rougher.output.concentrate_ag',\n",
       " 'rougher.output.concentrate_pb',\n",
       " 'rougher.output.concentrate_sol',\n",
       " 'rougher.output.concentrate_au']"
      ]
     },
     "execution_count": 21,
     "metadata": {},
     "output_type": "execute_result"
    }
   ],
   "source": [
    "concentrate_output"
   ]
  },
  {
   "cell_type": "markdown",
   "metadata": {},
   "source": [
    "Разделим данные по металлам"
   ]
  },
  {
   "cell_type": "code",
   "execution_count": 22,
   "metadata": {},
   "outputs": [],
   "source": [
    "data_full_concentrate=data_full.copy()"
   ]
  },
  {
   "cell_type": "code",
   "execution_count": 23,
   "metadata": {},
   "outputs": [],
   "source": [
    "concentrate_ag = []\n",
    "concentrate_pb = []\n",
    "concentrate_au = []\n",
    "for i in concentrate_output:\n",
    "    if 'concentrate_ag' in i:        \n",
    "        concentrate_ag.append(i)\n",
    "    if 'concentrate_pb' in i:        \n",
    "        concentrate_pb.append(i)\n",
    "    if 'concentrate_au' in i:        \n",
    "        concentrate_au.append(i)\n",
    "    "
   ]
  },
  {
   "cell_type": "code",
   "execution_count": 24,
   "metadata": {
    "scrolled": false
   },
   "outputs": [
    {
     "data": {
      "image/png": "[encoded data removed]",
      "text/plain": [
       "<Figure size 720x432 with 1 Axes>"
      ]
     },
     "metadata": {
      "needs_background": "light"
     },
     "output_type": "display_data"
    }
   ],
   "source": [
    "for i in concentrate_ag:\n",
    "    data_full_concentrate[i].hist(bins=100,alpha=0.8,figsize=(10,6))\n",
    "plt.title('Распределение концентрации серебра')\n",
    "plt.xlabel('концентрация')\n",
    "plt.ylabel('Количество')\n",
    "_ = plt.legend(['финальный концентрат','первичная очистка','черновой концентрат'])\n",
    "plt.show()"
   ]
  },
  {
   "cell_type": "code",
   "execution_count": 25,
   "metadata": {},
   "outputs": [
    {
     "data": {
      "image/png": "[encoded data removed]",
      "text/plain": [
       "<Figure size 720x432 with 1 Axes>"
      ]
     },
     "metadata": {
      "needs_background": "light"
     },
     "output_type": "display_data"
    }
   ],
   "source": [
    "for i in concentrate_pb:\n",
    "    data_full_concentrate[i].hist(bins=100,alpha=0.8,figsize=(10,6))\n",
    "plt.title('Распределение концентрации свинца')\n",
    "plt.xlabel('концентрация')\n",
    "plt.ylabel('Количество')\n",
    "_ = plt.legend(['финальный концентрат','первичная очистка','черновой концентрат'])\n",
    "plt.show()"
   ]
  },
  {
   "cell_type": "code",
   "execution_count": 26,
   "metadata": {},
   "outputs": [
    {
     "data": {
      "image/png": "[encoded data removed]",
      "text/plain": [
       "<Figure size 720x432 with 1 Axes>"
      ]
     },
     "metadata": {
      "needs_background": "light"
     },
     "output_type": "display_data"
    }
   ],
   "source": [
    "for i in concentrate_au:\n",
    "    data_full_concentrate[i].hist(bins=100,alpha=0.8,figsize=(10,6))\n",
    "plt.title('Распределение концентрации золота')\n",
    "plt.xlabel('концентрация')\n",
    "plt.ylabel('Количество')\n",
    "_ = plt.legend(['финальный концентрат','первичная очистка','черновой концентрат'])\n",
    "plt.show()"
   ]
  },
  {
   "cell_type": "markdown",
   "metadata": {},
   "source": [
    "- Концентрация золота увеличивается на каждом этапе очистки.  \n",
    "- Концентрация серебра максимальна в черновом концентрате после флотации.  \n",
    "- Концентрация свинца также возрастает после первичной очистки и значительно не изменяется в финальном концентрате."
   ]
  },
  {
   "cell_type": "markdown",
   "metadata": {},
   "source": [
    "### Сравним распределения размеров гранул сырья на обучающей и тестовой выборках."
   ]
  },
  {
   "cell_type": "markdown",
   "metadata": {},
   "source": [
    "feed size — размер гранул сырья"
   ]
  },
  {
   "cell_type": "code",
   "execution_count": 27,
   "metadata": {},
   "outputs": [],
   "source": [
    "feed_size_input = []\n",
    "for i in data_full.columns:\n",
    "    if 'feed_size' in i and 'input' in i:        \n",
    "        feed_size_input.append(i)"
   ]
  },
  {
   "cell_type": "code",
   "execution_count": 28,
   "metadata": {},
   "outputs": [
    {
     "data": {
      "image/png": "[encoded data removed]",
      "text/plain": [
       "<Figure size 720x432 with 1 Axes>"
      ]
     },
     "metadata": {
      "needs_background": "light"
     },
     "output_type": "display_data"
    }
   ],
   "source": [
    "data_train['primary_cleaner.input.feed_size'].hist(bins=100,alpha=0.8,figsize=(10,6))\n",
    "data_test['primary_cleaner.input.feed_size'].hist(bins=100,alpha=0.8)\n",
    "plt.title('размер гранул сырья на тесте и обучении')\n",
    "plt.xlabel('размер гранул')\n",
    "plt.ylabel('Количество')\n",
    "_ = plt.legend(['обучение','тест'])\n",
    "plt.show()"
   ]
  },
  {
   "cell_type": "markdown",
   "metadata": {},
   "source": [
    "Распределения размеров гранул сырья визуально схожи.\n",
    "\n"
   ]
  },
  {
   "cell_type": "markdown",
   "metadata": {},
   "source": [
    "### Исследуем суммарную концентрацию всех веществ на разных стадиях: в сырье, в черновом и финальном концентратах. "
   ]
  },
  {
   "cell_type": "code",
   "execution_count": 29,
   "metadata": {},
   "outputs": [],
   "source": [
    "data_all_concentrate = data_full.copy()"
   ]
  },
  {
   "cell_type": "markdown",
   "metadata": {},
   "source": [
    "Найдем данные несущие информацию о концентрации веществ после каждой стадии"
   ]
  },
  {
   "cell_type": "code",
   "execution_count": 30,
   "metadata": {},
   "outputs": [
    {
     "data": {
      "text/plain": [
       "['final.output.concentrate_ag',\n",
       " 'final.output.concentrate_pb',\n",
       " 'final.output.concentrate_sol',\n",
       " 'final.output.concentrate_au',\n",
       " 'primary_cleaner.output.concentrate_ag',\n",
       " 'primary_cleaner.output.concentrate_pb',\n",
       " 'primary_cleaner.output.concentrate_sol',\n",
       " 'primary_cleaner.output.concentrate_au',\n",
       " 'rougher.calculation.sulfate_to_au_concentrate',\n",
       " 'rougher.output.concentrate_ag',\n",
       " 'rougher.output.concentrate_pb',\n",
       " 'rougher.output.concentrate_sol',\n",
       " 'rougher.output.concentrate_au']"
      ]
     },
     "execution_count": 30,
     "metadata": {},
     "output_type": "execute_result"
    }
   ],
   "source": [
    "concentrate = []\n",
    "for i in data_all_concentrate.columns:\n",
    "    if 'concentrate' in i:        \n",
    "        concentrate.append(i)\n",
    "concentrate"
   ]
  },
  {
   "cell_type": "markdown",
   "metadata": {},
   "source": [
    "Найдем данные несущие информацию о концентрации веществ вначале процесса очистки."
   ]
  },
  {
   "cell_type": "code",
   "execution_count": 31,
   "metadata": {},
   "outputs": [
    {
     "data": {
      "text/plain": [
       "['primary_cleaner.input.sulfate',\n",
       " 'primary_cleaner.input.depressant',\n",
       " 'primary_cleaner.input.feed_size',\n",
       " 'primary_cleaner.input.xanthate',\n",
       " 'rougher.input.feed_ag',\n",
       " 'rougher.input.feed_pb',\n",
       " 'rougher.input.feed_rate',\n",
       " 'rougher.input.feed_size',\n",
       " 'rougher.input.feed_sol',\n",
       " 'rougher.input.feed_au',\n",
       " 'rougher.input.floatbank10_sulfate',\n",
       " 'rougher.input.floatbank10_xanthate',\n",
       " 'rougher.input.floatbank11_sulfate',\n",
       " 'rougher.input.floatbank11_xanthate']"
      ]
     },
     "execution_count": 31,
     "metadata": {},
     "output_type": "execute_result"
    }
   ],
   "source": [
    "feed_input = []\n",
    "for i in data_all_concentrate.columns:\n",
    "    if 'input' in i:        \n",
    "        feed_input.append(i)\n",
    "feed_input"
   ]
  },
  {
   "cell_type": "code",
   "execution_count": 32,
   "metadata": {},
   "outputs": [],
   "source": [
    "data_all_concentrate['sum_conc_final'] = data_all_concentrate[['final.output.concentrate_ag',\n",
    "                                                               'final.output.concentrate_pb',\n",
    "                                                               'final.output.concentrate_sol',\n",
    "                                                               'final.output.concentrate_au']].sum(axis=1)\n",
    "    \n",
    "data_all_concentrate['sum_primary_cleaner'] = data_all_concentrate[['primary_cleaner.output.concentrate_ag',\n",
    "                                                               'primary_cleaner.output.concentrate_pb',\n",
    "                                                               'primary_cleaner.output.concentrate_sol',\n",
    "                                                               'primary_cleaner.output.concentrate_au']].sum(axis=1)\n",
    "data_all_concentrate['sum_rougher'] = data_all_concentrate[['rougher.output.concentrate_ag',\n",
    "                                                               'rougher.output.concentrate_pb',\n",
    "                                                               'rougher.output.concentrate_sol',\n",
    "                                                               'rougher.output.concentrate_au']].sum(axis=1)\n",
    "data_all_concentrate['sum_input'] = data_all_concentrate[['rougher.input.feed_ag',\n",
    "                                                          'rougher.input.feed_pb',\n",
    "                                                          'rougher.input.feed_sol',\n",
    "                                                          'rougher.input.feed_au']].sum(axis=1)"
   ]
  },
  {
   "cell_type": "code",
   "execution_count": 33,
   "metadata": {
    "scrolled": false
   },
   "outputs": [
    {
     "data": {
      "image/png": "[encoded data removed]",
      "text/plain": [
       "<Figure size 720x432 with 1 Axes>"
      ]
     },
     "metadata": {
      "needs_background": "light"
     },
     "output_type": "display_data"
    }
   ],
   "source": [
    "plt.figure(figsize=(10,6))\n",
    "data_all_concentrate['sum_conc_final'].hist(bins=100,alpha=0.7)\n",
    "data_all_concentrate['sum_primary_cleaner'].hist(bins=100,alpha=0.7)\n",
    "data_all_concentrate['sum_rougher'].hist(bins=100,alpha=0.7)\n",
    "data_all_concentrate['sum_input'].hist(bins=100,alpha=0.7)\n",
    "plt.title('Суммарная концентрация всех веществ на разных стадиях')\n",
    "plt.xlabel('суммарная концентрация')\n",
    "plt.ylabel('количество')\n",
    "_ = plt.legend(['финальный концентрат','первичная очистка','черновой концентрат','сырье'])\n",
    "plt.show()\n"
   ]
  },
  {
   "cell_type": "code",
   "execution_count": 34,
   "metadata": {},
   "outputs": [],
   "source": [
    "data_conc_bocplot=data_all_concentrate.loc[:,['sum_conc_final', 'sum_primary_cleaner', 'sum_rougher','sum_input']]"
   ]
  },
  {
   "cell_type": "code",
   "execution_count": 35,
   "metadata": {},
   "outputs": [
    {
     "data": {
      "image/png": "[encoded data removed]",
      "text/plain": [
       "<Figure size 720x720 with 1 Axes>"
      ]
     },
     "metadata": {
      "needs_background": "light"
     },
     "output_type": "display_data"
    }
   ],
   "source": [
    "plt.figure(figsize=(10,10))\n",
    "plt.title(\"Суммарная концентрацию всех веществ на разных стадиях\")\n",
    "sns.boxplot(x=\"variable\", y=\"value\", data=pd.melt(data_conc_bocplot))\n",
    "plt.show()"
   ]
  },
  {
   "cell_type": "markdown",
   "metadata": {},
   "source": [
    "В данных наблюдается множество нулевых значений и пропусков. Эти наблюдения означают, что в этот момент в установке было пусто, значит, вообще не факт, что шел процесс обработки либо это ошибка измерений. Удалим нулевые значения в данных сырья поступающего на очистку и в целевых признаках. Так же удалим пропуски в данных."
   ]
  },
  {
   "cell_type": "code",
   "execution_count": 36,
   "metadata": {},
   "outputs": [],
   "source": [
    "data_train_good = data_train.copy()\n",
    "data_test_good = data_test.copy()\n",
    "data_train_good.replace(0, np.nan, inplace=True)\n",
    "data_test_good.replace(0, np.nan, inplace=True)"
   ]
  },
  {
   "cell_type": "code",
   "execution_count": 37,
   "metadata": {},
   "outputs": [],
   "source": [
    "data_train_good = data_train.dropna()\n",
    "data_test_good = data_test.dropna()\n",
    "data_train_good=data_train_good.reset_index(drop=True)\n",
    "data_test_good=data_test_good.reset_index(drop=True)"
   ]
  },
  {
   "cell_type": "markdown",
   "metadata": {},
   "source": [
    "## Модель"
   ]
  },
  {
   "cell_type": "markdown",
   "metadata": {},
   "source": [
    "### Напишим функцию для вычисления итоговой sMAPE."
   ]
  },
  {
   "cell_type": "code",
   "execution_count": 38,
   "metadata": {},
   "outputs": [],
   "source": [
    "def total_smape(smape_rougher,smape_final):\n",
    "    return 0.25*smape_rougher + 0.75*smape_final"
   ]
  },
  {
   "cell_type": "markdown",
   "metadata": {},
   "source": [
    "### Обучим разные модели и оценим их качество кросс-валидацией."
   ]
  },
  {
   "cell_type": "markdown",
   "metadata": {},
   "source": [
    "Для обучающих и тестовых данных извлечем признаки и целевой признак."
   ]
  },
  {
   "cell_type": "markdown",
   "metadata": {},
   "source": [
    "Целевой признак -'rougher.output.recovery' - "
   ]
  },
  {
   "cell_type": "code",
   "execution_count": 39,
   "metadata": {},
   "outputs": [],
   "source": [
    "features_train_rougher = data_train_good.drop(['rougher.output.recovery','final.output.recovery','date'], axis=1)\n",
    "target_train_rougher = data_train_good['rougher.output.recovery'] \n",
    "features_test_rougher = data_test_good.drop(['rougher.output.recovery','final.output.recovery','date'], axis=1) \n",
    "target_test_rougher = data_test_good['rougher.output.recovery'] "
   ]
  },
  {
   "cell_type": "markdown",
   "metadata": {},
   "source": [
    "Целевой признак -'final.output.recovery'-"
   ]
  },
  {
   "cell_type": "code",
   "execution_count": 40,
   "metadata": {},
   "outputs": [],
   "source": [
    "features_train_final = data_train_good.drop(['rougher.output.recovery','final.output.recovery','date'], axis=1)\n",
    "target_train_final = data_train_good['final.output.recovery'] \n",
    "features_test_final = data_test_good.drop(['rougher.output.recovery','final.output.recovery','date'], axis=1)\n",
    "target_test_final = data_test_good['final.output.recovery'] "
   ]
  },
  {
   "cell_type": "markdown",
   "metadata": {},
   "source": [
    "Создаём объект структуры StandardScaler() и настраиваем его на обучающих данных и масштабируем численные признаки."
   ]
  },
  {
   "cell_type": "code",
   "execution_count": 41,
   "metadata": {},
   "outputs": [],
   "source": [
    "def scale(features_train, features_test):\n",
    "    \n",
    "\n",
    "    scaler = StandardScaler()\n",
    "    cols_train = features_train.columns\n",
    "    cols_test = features_test.columns\n",
    "    scaler.fit(features_train[cols_train])\n",
    "    features_train[cols_train] = scaler.transform(features_train[cols_train])\n",
    "    features_test[cols_test] = scaler.transform(features_test[cols_test])\n",
    "    pd.options.mode.chained_assignment = None\n",
    "    \n",
    "    \n",
    "    return features_train, features_test"
   ]
  },
  {
   "cell_type": "code",
   "execution_count": 42,
   "metadata": {},
   "outputs": [],
   "source": [
    "features_train_rougher, features_test_rougher = scale(features_train_rougher, features_test_rougher)\n",
    "features_train_final, features_test_final = scale(features_train_final, features_test_final)"
   ]
  },
  {
   "cell_type": "code",
   "execution_count": 43,
   "metadata": {},
   "outputs": [
    {
     "data": {
      "text/html": [
       "<div>\n",
       "<style scoped>\n",
       "    .dataframe tbody tr th:only-of-type {\n",
       "        vertical-align: middle;\n",
       "    }\n",
       "\n",
       "    .dataframe tbody tr th {\n",
       "        vertical-align: top;\n",
       "    }\n",
       "\n",
       "    .dataframe thead th {\n",
       "        text-align: right;\n",
       "    }\n",
       "</style>\n",
       "<table border=\"1\" class=\"dataframe\">\n",
       "  <thead>\n",
       "    <tr style=\"text-align: right;\">\n",
       "      <th></th>\n",
       "      <th>primary_cleaner.input.sulfate</th>\n",
       "      <th>primary_cleaner.input.depressant</th>\n",
       "      <th>primary_cleaner.input.feed_size</th>\n",
       "      <th>primary_cleaner.input.xanthate</th>\n",
       "      <th>primary_cleaner.state.floatbank8_a_air</th>\n",
       "      <th>primary_cleaner.state.floatbank8_a_level</th>\n",
       "      <th>primary_cleaner.state.floatbank8_b_air</th>\n",
       "      <th>primary_cleaner.state.floatbank8_b_level</th>\n",
       "      <th>primary_cleaner.state.floatbank8_c_air</th>\n",
       "      <th>primary_cleaner.state.floatbank8_c_level</th>\n",
       "      <th>...</th>\n",
       "      <th>secondary_cleaner.state.floatbank4_a_air</th>\n",
       "      <th>secondary_cleaner.state.floatbank4_a_level</th>\n",
       "      <th>secondary_cleaner.state.floatbank4_b_air</th>\n",
       "      <th>secondary_cleaner.state.floatbank4_b_level</th>\n",
       "      <th>secondary_cleaner.state.floatbank5_a_air</th>\n",
       "      <th>secondary_cleaner.state.floatbank5_a_level</th>\n",
       "      <th>secondary_cleaner.state.floatbank5_b_air</th>\n",
       "      <th>secondary_cleaner.state.floatbank5_b_level</th>\n",
       "      <th>secondary_cleaner.state.floatbank6_a_air</th>\n",
       "      <th>secondary_cleaner.state.floatbank6_a_level</th>\n",
       "    </tr>\n",
       "  </thead>\n",
       "  <tbody>\n",
       "    <tr>\n",
       "      <td>0</td>\n",
       "      <td>-0.255098</td>\n",
       "      <td>0.297835</td>\n",
       "      <td>-0.14826</td>\n",
       "      <td>0.280500</td>\n",
       "      <td>-0.437702</td>\n",
       "      <td>-0.311161</td>\n",
       "      <td>-0.427903</td>\n",
       "      <td>-0.807763</td>\n",
       "      <td>-0.429701</td>\n",
       "      <td>-0.285943</td>\n",
       "      <td>...</td>\n",
       "      <td>-1.017430</td>\n",
       "      <td>-0.468697</td>\n",
       "      <td>-0.612782</td>\n",
       "      <td>-0.754839</td>\n",
       "      <td>-1.171437</td>\n",
       "      <td>-0.375955</td>\n",
       "      <td>-0.849788</td>\n",
       "      <td>-0.413723</td>\n",
       "      <td>-0.980522</td>\n",
       "      <td>-2.588727</td>\n",
       "    </tr>\n",
       "    <tr>\n",
       "      <td>1</td>\n",
       "      <td>-0.294389</td>\n",
       "      <td>0.348729</td>\n",
       "      <td>-0.14826</td>\n",
       "      <td>0.318901</td>\n",
       "      <td>-0.232889</td>\n",
       "      <td>-0.366283</td>\n",
       "      <td>-0.242114</td>\n",
       "      <td>-0.331740</td>\n",
       "      <td>-0.235842</td>\n",
       "      <td>-0.304190</td>\n",
       "      <td>...</td>\n",
       "      <td>-1.021762</td>\n",
       "      <td>-0.528342</td>\n",
       "      <td>-0.641186</td>\n",
       "      <td>-0.697371</td>\n",
       "      <td>-1.151871</td>\n",
       "      <td>-0.423793</td>\n",
       "      <td>-0.866353</td>\n",
       "      <td>-0.416488</td>\n",
       "      <td>-1.007619</td>\n",
       "      <td>-2.429464</td>\n",
       "    </tr>\n",
       "    <tr>\n",
       "      <td>2</td>\n",
       "      <td>-0.342991</td>\n",
       "      <td>0.657815</td>\n",
       "      <td>-0.14826</td>\n",
       "      <td>0.287423</td>\n",
       "      <td>-0.035848</td>\n",
       "      <td>-0.341190</td>\n",
       "      <td>-0.056933</td>\n",
       "      <td>-0.353094</td>\n",
       "      <td>-0.042805</td>\n",
       "      <td>-0.347942</td>\n",
       "      <td>...</td>\n",
       "      <td>-1.017751</td>\n",
       "      <td>-0.469348</td>\n",
       "      <td>-0.648362</td>\n",
       "      <td>-0.694006</td>\n",
       "      <td>-1.146418</td>\n",
       "      <td>-0.422742</td>\n",
       "      <td>-0.861271</td>\n",
       "      <td>-0.414881</td>\n",
       "      <td>-1.002250</td>\n",
       "      <td>-2.472607</td>\n",
       "    </tr>\n",
       "    <tr>\n",
       "      <td>3</td>\n",
       "      <td>-0.384614</td>\n",
       "      <td>0.659590</td>\n",
       "      <td>-0.14826</td>\n",
       "      <td>0.302539</td>\n",
       "      <td>-0.048168</td>\n",
       "      <td>-0.367578</td>\n",
       "      <td>-0.054868</td>\n",
       "      <td>-0.326306</td>\n",
       "      <td>-0.055418</td>\n",
       "      <td>-0.343944</td>\n",
       "      <td>...</td>\n",
       "      <td>-1.013959</td>\n",
       "      <td>-0.436440</td>\n",
       "      <td>-0.631866</td>\n",
       "      <td>-0.695030</td>\n",
       "      <td>-1.163733</td>\n",
       "      <td>-0.398885</td>\n",
       "      <td>-0.867651</td>\n",
       "      <td>-0.408375</td>\n",
       "      <td>-1.006344</td>\n",
       "      <td>-2.434960</td>\n",
       "    </tr>\n",
       "    <tr>\n",
       "      <td>4</td>\n",
       "      <td>-0.499631</td>\n",
       "      <td>0.838817</td>\n",
       "      <td>-0.14826</td>\n",
       "      <td>0.338804</td>\n",
       "      <td>-0.037528</td>\n",
       "      <td>-0.312912</td>\n",
       "      <td>-0.048967</td>\n",
       "      <td>-0.344905</td>\n",
       "      <td>-0.060778</td>\n",
       "      <td>-0.348451</td>\n",
       "      <td>...</td>\n",
       "      <td>-1.015585</td>\n",
       "      <td>-0.416289</td>\n",
       "      <td>-0.640703</td>\n",
       "      <td>-0.692656</td>\n",
       "      <td>-1.171424</td>\n",
       "      <td>-0.462808</td>\n",
       "      <td>-0.882152</td>\n",
       "      <td>-0.410865</td>\n",
       "      <td>-1.007921</td>\n",
       "      <td>-2.474430</td>\n",
       "    </tr>\n",
       "  </tbody>\n",
       "</table>\n",
       "<p>5 rows × 52 columns</p>\n",
       "</div>"
      ],
      "text/plain": [
       "   primary_cleaner.input.sulfate  primary_cleaner.input.depressant  \\\n",
       "0                      -0.255098                          0.297835   \n",
       "1                      -0.294389                          0.348729   \n",
       "2                      -0.342991                          0.657815   \n",
       "3                      -0.384614                          0.659590   \n",
       "4                      -0.499631                          0.838817   \n",
       "\n",
       "   primary_cleaner.input.feed_size  primary_cleaner.input.xanthate  \\\n",
       "0                         -0.14826                        0.280500   \n",
       "1                         -0.14826                        0.318901   \n",
       "2                         -0.14826                        0.287423   \n",
       "3                         -0.14826                        0.302539   \n",
       "4                         -0.14826                        0.338804   \n",
       "\n",
       "   primary_cleaner.state.floatbank8_a_air  \\\n",
       "0                               -0.437702   \n",
       "1                               -0.232889   \n",
       "2                               -0.035848   \n",
       "3                               -0.048168   \n",
       "4                               -0.037528   \n",
       "\n",
       "   primary_cleaner.state.floatbank8_a_level  \\\n",
       "0                                 -0.311161   \n",
       "1                                 -0.366283   \n",
       "2                                 -0.341190   \n",
       "3                                 -0.367578   \n",
       "4                                 -0.312912   \n",
       "\n",
       "   primary_cleaner.state.floatbank8_b_air  \\\n",
       "0                               -0.427903   \n",
       "1                               -0.242114   \n",
       "2                               -0.056933   \n",
       "3                               -0.054868   \n",
       "4                               -0.048967   \n",
       "\n",
       "   primary_cleaner.state.floatbank8_b_level  \\\n",
       "0                                 -0.807763   \n",
       "1                                 -0.331740   \n",
       "2                                 -0.353094   \n",
       "3                                 -0.326306   \n",
       "4                                 -0.344905   \n",
       "\n",
       "   primary_cleaner.state.floatbank8_c_air  \\\n",
       "0                               -0.429701   \n",
       "1                               -0.235842   \n",
       "2                               -0.042805   \n",
       "3                               -0.055418   \n",
       "4                               -0.060778   \n",
       "\n",
       "   primary_cleaner.state.floatbank8_c_level  ...  \\\n",
       "0                                 -0.285943  ...   \n",
       "1                                 -0.304190  ...   \n",
       "2                                 -0.347942  ...   \n",
       "3                                 -0.343944  ...   \n",
       "4                                 -0.348451  ...   \n",
       "\n",
       "   secondary_cleaner.state.floatbank4_a_air  \\\n",
       "0                                 -1.017430   \n",
       "1                                 -1.021762   \n",
       "2                                 -1.017751   \n",
       "3                                 -1.013959   \n",
       "4                                 -1.015585   \n",
       "\n",
       "   secondary_cleaner.state.floatbank4_a_level  \\\n",
       "0                                   -0.468697   \n",
       "1                                   -0.528342   \n",
       "2                                   -0.469348   \n",
       "3                                   -0.436440   \n",
       "4                                   -0.416289   \n",
       "\n",
       "   secondary_cleaner.state.floatbank4_b_air  \\\n",
       "0                                 -0.612782   \n",
       "1                                 -0.641186   \n",
       "2                                 -0.648362   \n",
       "3                                 -0.631866   \n",
       "4                                 -0.640703   \n",
       "\n",
       "   secondary_cleaner.state.floatbank4_b_level  \\\n",
       "0                                   -0.754839   \n",
       "1                                   -0.697371   \n",
       "2                                   -0.694006   \n",
       "3                                   -0.695030   \n",
       "4                                   -0.692656   \n",
       "\n",
       "   secondary_cleaner.state.floatbank5_a_air  \\\n",
       "0                                 -1.171437   \n",
       "1                                 -1.151871   \n",
       "2                                 -1.146418   \n",
       "3                                 -1.163733   \n",
       "4                                 -1.171424   \n",
       "\n",
       "   secondary_cleaner.state.floatbank5_a_level  \\\n",
       "0                                   -0.375955   \n",
       "1                                   -0.423793   \n",
       "2                                   -0.422742   \n",
       "3                                   -0.398885   \n",
       "4                                   -0.462808   \n",
       "\n",
       "   secondary_cleaner.state.floatbank5_b_air  \\\n",
       "0                                 -0.849788   \n",
       "1                                 -0.866353   \n",
       "2                                 -0.861271   \n",
       "3                                 -0.867651   \n",
       "4                                 -0.882152   \n",
       "\n",
       "   secondary_cleaner.state.floatbank5_b_level  \\\n",
       "0                                   -0.413723   \n",
       "1                                   -0.416488   \n",
       "2                                   -0.414881   \n",
       "3                                   -0.408375   \n",
       "4                                   -0.410865   \n",
       "\n",
       "   secondary_cleaner.state.floatbank6_a_air  \\\n",
       "0                                 -0.980522   \n",
       "1                                 -1.007619   \n",
       "2                                 -1.002250   \n",
       "3                                 -1.006344   \n",
       "4                                 -1.007921   \n",
       "\n",
       "   secondary_cleaner.state.floatbank6_a_level  \n",
       "0                                   -2.588727  \n",
       "1                                   -2.429464  \n",
       "2                                   -2.472607  \n",
       "3                                   -2.434960  \n",
       "4                                   -2.474430  \n",
       "\n",
       "[5 rows x 52 columns]"
      ]
     },
     "execution_count": 43,
     "metadata": {},
     "output_type": "execute_result"
    }
   ],
   "source": [
    "features_train_rougher.head()"
   ]
  },
  {
   "cell_type": "markdown",
   "metadata": {},
   "source": [
    "Напишим функцию для обучения модели и проверки качества кросс-валидацией, а так же нахождние итоговой sMAPE."
   ]
  },
  {
   "cell_type": "code",
   "execution_count": 44,
   "metadata": {},
   "outputs": [],
   "source": [
    "def smape(target,predictions):\n",
    "    numerator = abs(predictions - target)\n",
    "    divider = (abs(target) + abs(predictions)) / 2\n",
    "    summa = (numerator / divider).sum()\n",
    "\n",
    "    smape = (1 / len(target)) * summa * 100\n",
    "    return smape"
   ]
  },
  {
   "cell_type": "code",
   "execution_count": 45,
   "metadata": {},
   "outputs": [],
   "source": [
    "def ml(model):  \n",
    "    model.fit(features_train_rougher, target_train_rougher)\n",
    "    predicted_train_rougher = model.predict(features_train_rougher)\n",
    "    \n",
    "    \n",
    "    \n",
    "    smape_rougher = (cross_val_score(model,features_train_rougher,target_train_rougher, cv=5, \n",
    "                                 scoring=make_scorer(smape, greater_is_better = False)).mean())\n",
    "    \n",
    "    model.fit(features_train_final, target_train_final)\n",
    "    predicted_train_final = model.predict(features_train_final)\n",
    "    \n",
    "    \n",
    "    smape_final = (cross_val_score(model,features_train_final,target_train_final, cv=5, \n",
    "                                 scoring=make_scorer(smape, greater_is_better = False)).mean())\n",
    "    \n",
    "    tot_smape = total_smape(smape_rougher,smape_final)\n",
    "    \n",
    "    \n",
    "    \n",
    "    return tot_smape, smape_rougher, smape_final\n"
   ]
  },
  {
   "cell_type": "code",
   "execution_count": 46,
   "metadata": {
    "scrolled": false
   },
   "outputs": [
    {
     "name": "stdout",
     "output_type": "stream",
     "text": [
      "Средняя оценка качества модели после флотации 10.84908323411167\n",
      "Средняя оценка качества модели после финальной обработки 10.960081893197636\n",
      "sMAPE_FINAL 10.932332228426144\n",
      "CPU times: user 1.37 s, sys: 1.72 s, total: 3.1 s\n",
      "Wall time: 3.1 s\n"
     ]
    }
   ],
   "source": [
    "%%time\n",
    "model = LinearRegression()\n",
    "tot_smape, smape_rougher, smape_final = ml(model)\n",
    "print('Средняя оценка качества модели после флотации',-smape_rougher)\n",
    "print('Средняя оценка качества модели после финальной обработки',-smape_final)\n",
    "print('sMAPE_FINAL',-tot_smape)\n"
   ]
  },
  {
   "cell_type": "code",
   "execution_count": 47,
   "metadata": {},
   "outputs": [
    {
     "name": "stdout",
     "output_type": "stream",
     "text": [
      "Средняя оценка качества модели после флотации 11.408268712650305\n",
      "Средняя оценка качества модели после финальной обработки 9.85364898408284\n",
      "sMAPE_FINAL 10.242303916224706\n",
      "CPU times: user 25.6 s, sys: 57 ms, total: 25.7 s\n",
      "Wall time: 25.8 s\n"
     ]
    }
   ],
   "source": [
    "%%time\n",
    "best_tot_smape = 1000\n",
    "best_model_dt = None\n",
    "best_smape_rougher = 1000\n",
    "best_smape_final = 1000\n",
    "for depth in range(2,10):\n",
    "    model_dt = DecisionTreeRegressor(max_depth=depth, random_state=12345)\n",
    "    tot_smape, smape_rougher, smape_final = ml(model_dt)\n",
    "    if abs(tot_smape) < abs(best_tot_smape):\n",
    "        best_model_dt = model_dt\n",
    "        best_tot_smape = tot_smape\n",
    "        best_smape_rougher = smape_rougher\n",
    "        best_smape_final = smape_final\n",
    "\n",
    "\n",
    "print('Средняя оценка качества модели после флотации',-best_smape_rougher)\n",
    "print('Средняя оценка качества модели после финальной обработки',-best_smape_final)\n",
    "print('sMAPE_FINAL',-best_tot_smape)"
   ]
  },
  {
   "cell_type": "code",
   "execution_count": 48,
   "metadata": {
    "scrolled": false
   },
   "outputs": [
    {
     "name": "stdout",
     "output_type": "stream",
     "text": [
      "Средняя оценка качества модели после флотации 10.749311884012076\n",
      "Средняя оценка качества модели после финальной обработки 11.61618125988544\n",
      "sMAPE_FINAL 11.3994639159171\n",
      "CPU times: user 1min 22s, sys: 57.1 ms, total: 1min 22s\n",
      "Wall time: 1min 23s\n"
     ]
    }
   ],
   "source": [
    "%%time\n",
    "best_tot_smape = 1000\n",
    "best_model_rf = None\n",
    "best_smape_rougher = 1000\n",
    "best_smape_final = 1000\n",
    "for est in range(2,10,3):\n",
    "    for depth in range(2,10,3):\n",
    "        model_rf = RandomForestRegressor(n_estimators=est,max_depth=depth)\n",
    "        tot_smape, smape_rougher, smape_final = ml(model_rf)\n",
    "        if abs(tot_smape) < abs(best_tot_smape):\n",
    "            best_model_rf = model_rf\n",
    "            best_tot_smape = tot_smape\n",
    "            best_smape_rougher = smape_rougher\n",
    "            best_smape_final = smape_final\n",
    "\n",
    "print('Средняя оценка качества модели после флотации',-smape_rougher)\n",
    "print('Средняя оценка качества модели после финальной обработки',-smape_final)\n",
    "print('sMAPE_FINAL',-tot_smape)"
   ]
  },
  {
   "cell_type": "code",
   "execution_count": 49,
   "metadata": {},
   "outputs": [
    {
     "name": "stdout",
     "output_type": "stream",
     "text": [
      "Средняя оценка качества модели после флотации 11.010155902144863\n",
      "Средняя оценка качества модели после финальной обработки 10.33449216808077\n",
      "sMAPE_FINAL 10.503408101596794\n",
      "CPU times: user 37.2 ms, sys: 31 µs, total: 37.2 ms\n",
      "Wall time: 35.9 ms\n"
     ]
    }
   ],
   "source": [
    "%%time\n",
    "model = DummyRegressor()\n",
    "tot_smape, smape_rougher, smape_final = ml(model)\n",
    "print('Средняя оценка качества модели после флотации',-smape_rougher)\n",
    "print('Средняя оценка качества модели после финальной обработки',-smape_final)\n",
    "print('sMAPE_FINAL',-tot_smape)"
   ]
  },
  {
   "cell_type": "markdown",
   "metadata": {},
   "source": [
    "Лучшая модель DecisionTreeRegressor, со значением метрики smape 10.24 , что лучше чем значение smape константной модели 10.50"
   ]
  },
  {
   "cell_type": "markdown",
   "metadata": {},
   "source": [
    "Проверим лучшую модель на тестовой выборке"
   ]
  },
  {
   "cell_type": "code",
   "execution_count": 50,
   "metadata": {},
   "outputs": [
    {
     "name": "stdout",
     "output_type": "stream",
     "text": [
      "Средняя оценка качества модели после флотации 10.131802881387884\n",
      "Средняя оценка качества модели после финальной обработки 8.767873719825399\n",
      "sMAPE_FINAL 9.10885601021602\n"
     ]
    }
   ],
   "source": [
    "best_model_dt.fit(features_train_rougher, target_train_rougher)\n",
    "smape_rougher = (cross_val_score(best_model_dt,features_test_rougher,target_test_rougher, cv=5, \n",
    "                                 scoring=make_scorer(smape, greater_is_better = False)).mean())\n",
    "smape_final = (cross_val_score(best_model_dt,features_test_final,target_test_final, cv=5, \n",
    "                                 scoring=make_scorer(smape, greater_is_better = False)).mean())\n",
    "tot_smape = total_smape(smape_rougher,smape_final)\n",
    "print('Средняя оценка качества модели после флотации',-smape_rougher)\n",
    "print('Средняя оценка качества модели после финальной обработки',-smape_final)\n",
    "print('sMAPE_FINAL',-tot_smape)"
   ]
  },
  {
   "cell_type": "markdown",
   "metadata": {},
   "source": [
    "## Вывод"
   ]
  },
  {
   "cell_type": "markdown",
   "metadata": {},
   "source": [
    "- Произвели исследовательский анализ данных, проверили наличие пропусков, дубликатов. В тестовых данных недоступны параметры готового продукта, т.к эти параметры мы получаем по окончании процесса очистки.\n",
    "- Обнаружили, что концентрация золота увеличивается с каждым этапом, а концентрация серебра снижается после флотации.\n",
    "- Распределения размеров гранул в train и test выборках одинаковы.\n",
    "- В данных наблюдается множество нулевых значений и пропусков. Эти наблюдения означают, что в этот момент в установке было пусто, значит, предпологаем, что не шел процесс обработки либо это ошибка измерений. Удалили нулевые значения и пропуски.\n",
    "- Наилучшая модель - DecisionTreeRegressor дала значение метрики smape 9.10 на тестовой выборке."
   ]
  }
 ],
 "metadata": {
  "kernelspec": {
   "display_name": "Python 3",
   "language": "python",
   "name": "python3"
  },
  "language_info": {
   "codemirror_mode": {
    "name": "ipython",
    "version": 3
   },
   "file_extension": ".py",
   "mimetype": "text/x-python",
   "name": "python",
   "nbconvert_exporter": "python",
   "pygments_lexer": "ipython3",
   "version": "3.7.8"
  },
  "toc": {
   "base_numbering": 1,
   "nav_menu": {},
   "number_sections": true,
   "sideBar": true,
   "skip_h1_title": true,
   "title_cell": "Содержание",
   "title_sidebar": "Contents",
   "toc_cell": true,
   "toc_position": {
    "height": "calc(100% - 180px)",
    "left": "10px",
    "top": "150px",
    "width": "267.391px"
   },
   "toc_section_display": true,
   "toc_window_display": true
  }
 },
 "nbformat": 4,
 "nbformat_minor": 2
}
